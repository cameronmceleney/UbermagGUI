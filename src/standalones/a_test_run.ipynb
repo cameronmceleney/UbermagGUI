{
 "cells": [
  {
   "cell_type": "code",
   "execution_count": null,
   "id": "16b12d5fe2256276",
   "metadata": {},
   "outputs": [],
   "source": [
    "%load_ext autoreload\n",
    "%autoreload 2"
   ]
  },
  {
   "cell_type": "code",
   "execution_count": null,
   "id": "b4c0fa0c462aeff3",
   "metadata": {},
   "outputs": [],
   "source": [
    "%reload_ext autoreload"
   ]
  },
  {
   "cell_type": "code",
   "execution_count": null,
   "id": "eb2d2735e37ccb3c",
   "metadata": {},
   "outputs": [],
   "source": []
  },
  {
   "cell_type": "code",
   "execution_count": null,
   "id": "ee34f6ec1a3a4c9b",
   "metadata": {},
   "outputs": [],
   "source": [
    "%reset -f\n",
    "\n",
    "%reload_ext autoreload\n",
    "%autoreload 2\n",
    "\n",
    "from IPython.display import clear_output\n",
    "clear_output(wait=True)\n",
    "\n",
    "from src import UbermagInterface\n",
    "designer = UbermagInterface(show_borders=True)"
   ]
  },
  {
   "cell_type": "code",
   "execution_count": 3,
   "id": "36539d9ed413fb5b",
   "metadata": {},
   "outputs": [
    {
     "name": "stdout",
     "output_type": "stream",
     "text": [
      "2025-05-20 13:42:40 INFO src.builder : Starting UbermagInterface\n",
      "2025-05-20 13:42:40 SUCCESS src.outliners.outliner_controller : OutlinerController._on_geometry_change: geometry outliner updated (mesh=None).\n"
     ]
    },
    {
     "data": {
      "application/vnd.jupyter.widget-view+json": {
       "model_id": "9f5421c91ed84f21a6b06bcee6ec8b9e",
       "version_major": 2,
       "version_minor": 0
      },
      "text/plain": [
       "GridspecLayout(children=(HBox(children=(HBox(children=(ToggleButtons(description='View:', layout=Layout(width=…"
      ]
     },
     "metadata": {},
     "output_type": "display_data"
    }
   ],
   "source": [
    "%reset -f\n",
    "\n",
    "%reload_ext autoreload\n",
    "\n",
    "%autoreload 2\n",
    "\n",
    "from IPython.display import clear_output\n",
    "clear_output(wait=True)\n",
    "\n",
    "from src.builder import UbermagInterface\n",
    "designer = UbermagInterface(show_borders=True)"
   ]
  },
  {
   "cell_type": "code",
   "execution_count": null,
   "id": "169c526a271535d",
   "metadata": {},
   "outputs": [],
   "source": [
    "raise InterruptedError(\"Pause here\")"
   ]
  },
  {
   "cell_type": "code",
   "execution_count": 1,
   "id": "2e8c9a51a4e9329b",
   "metadata": {
    "ExecuteTime": {
     "end_time": "2025-05-20T09:44:39.238593Z",
     "start_time": "2025-05-20T09:44:39.135983Z"
    }
   },
   "outputs": [
    {
     "ename": "NameError",
     "evalue": "name 'designer' is not defined",
     "output_type": "error",
     "traceback": [
      "\u001b[31m---------------------------------------------------------------------------\u001b[39m",
      "\u001b[31mNameError\u001b[39m                                 Traceback (most recent call last)",
      "\u001b[36mCell\u001b[39m\u001b[36m \u001b[39m\u001b[32mIn[1]\u001b[39m\u001b[32m, line 1\u001b[39m\n\u001b[32m----> \u001b[39m\u001b[32m1\u001b[39m \u001b[43mdesigner\u001b[49m.interface_properties\n",
      "\u001b[31mNameError\u001b[39m: name 'designer' is not defined"
     ]
    }
   ],
   "source": [
    "designer.interface_properties"
   ]
  },
  {
   "cell_type": "code",
   "execution_count": null,
   "id": "e37523e784f2b97a",
   "metadata": {},
   "outputs": [],
   "source": [
    "with open('/Users/cameronmceleney/PycharmProjects/UbermagGUI/data/logs/ubermag_interface.log', 'r') as file:\n",
    "    print(file.read())"
   ]
  },
  {
   "cell_type": "code",
   "execution_count": null,
   "id": "8a3c321006ebaad7",
   "metadata": {},
   "outputs": [],
   "source": []
  }
 ],
 "metadata": {
  "kernelspec": {
   "display_name": "Python 3 (ipykernel)",
   "language": "python",
   "name": "python3"
  },
  "language_info": {
   "codemirror_mode": {
    "name": "ipython",
    "version": 3
   },
   "file_extension": ".py",
   "mimetype": "text/x-python",
   "name": "python",
   "nbconvert_exporter": "python",
   "pygments_lexer": "ipython3",
   "version": "3.12.10"
  }
 },
 "nbformat": 4,
 "nbformat_minor": 5
}
