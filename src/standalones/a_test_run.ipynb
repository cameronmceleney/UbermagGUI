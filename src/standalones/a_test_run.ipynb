{
 "cells": [
  {
   "metadata": {},
   "cell_type": "code",
   "source": [
    "%load_ext autoreload\n",
    "%autoreload 2"
   ],
   "id": "16b12d5fe2256276",
   "outputs": [],
   "execution_count": null
  },
  {
   "metadata": {},
   "cell_type": "code",
   "source": "%reload_ext autoreload",
   "id": "b4c0fa0c462aeff3",
   "outputs": [],
   "execution_count": null
  },
  {
   "metadata": {
    "ExecuteTime": {
     "end_time": "2025-05-12T14:57:40.889636Z",
     "start_time": "2025-05-12T14:57:37.904014Z"
    }
   },
   "cell_type": "code",
   "source": "from src.builder import RegionDesigner",
   "id": "eb2d2735e37ccb3c",
   "outputs": [],
   "execution_count": 1
  },
  {
   "metadata": {},
   "cell_type": "code",
   "source": [
    "%reset -f\n",
    "\n",
    "%reload_ext autoreload\n",
    "%autoreload 2\n",
    "\n",
    "from IPython.display import clear_output\n",
    "clear_output(wait=True)\n",
    "\n",
    "from src import RegionDesigner\n",
    "designer = RegionDesigner(show_borders=True)"
   ],
   "id": "ee34f6ec1a3a4c9b",
   "outputs": [
    {
     "data": {
      "text/plain": [
       "GridspecLayout(children=(HBox(children=(ToggleButtons(description='View:', layout=Layout(border_bottom='1px so…"
      ],
      "application/vnd.jupyter.widget-view+json": {
       "version_major": 2,
       "version_minor": 0,
       "model_id": "d8b3af5bbe9844a9bfbf83bfcaf64246"
      }
     },
     "metadata": {},
     "output_type": "display_data"
    }
   ],
   "execution_count": null
  },
  {
   "metadata": {},
   "cell_type": "code",
   "source": "raise InterruptedError(\"Pause here\")",
   "id": "169c526a271535d",
   "outputs": [],
   "execution_count": null
  },
  {
   "metadata": {},
   "cell_type": "code",
   "source": "!cat region_designer.log",
   "id": "e37523e784f2b97a",
   "outputs": [],
   "execution_count": null
  },
  {
   "metadata": {},
   "cell_type": "code",
   "source": "designer.controls_panel.__dict__",
   "id": "b53562f5e24b9113",
   "outputs": [],
   "execution_count": null
  }
 ],
 "metadata": {
  "kernelspec": {
   "display_name": "Python 3",
   "language": "python",
   "name": "python3"
  },
  "language_info": {
   "codemirror_mode": {
    "name": "ipython",
    "version": 2
   },
   "file_extension": ".py",
   "mimetype": "text/x-python",
   "name": "python",
   "nbconvert_exporter": "python",
   "pygments_lexer": "ipython2",
   "version": "2.7.6"
  }
 },
 "nbformat": 4,
 "nbformat_minor": 5
}
