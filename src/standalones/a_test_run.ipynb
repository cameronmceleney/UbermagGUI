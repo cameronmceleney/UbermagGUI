{
 "cells": [
  {
   "cell_type": "code",
   "execution_count": null,
   "id": "16b12d5fe2256276",
   "metadata": {},
   "outputs": [],
   "source": [
    "%load_ext autoreload\n",
    "%autoreload 2"
   ]
  },
  {
   "cell_type": "code",
   "execution_count": null,
   "id": "b4c0fa0c462aeff3",
   "metadata": {},
   "outputs": [],
   "source": [
    "%reload_ext autoreload"
   ]
  },
  {
   "cell_type": "code",
   "execution_count": null,
   "id": "eb2d2735e37ccb3c",
   "metadata": {},
   "outputs": [],
   "source": []
  },
  {
   "cell_type": "code",
   "execution_count": null,
   "id": "ee34f6ec1a3a4c9b",
   "metadata": {},
   "outputs": [],
   "source": [
    "%reset -f\n",
    "\n",
    "%reload_ext autoreload\n",
    "%autoreload 2\n",
    "\n",
    "from IPython.display import clear_output\n",
    "clear_output(wait=True)\n",
    "\n",
    "from src import UbermagInterface\n",
    "designer = UbermagInterface(show_borders=True)"
   ]
  },
  {
   "cell_type": "code",
   "execution_count": 1,
   "id": "36539d9ed413fb5b",
   "metadata": {},
   "outputs": [
    {
     "name": "stdout",
     "output_type": "stream",
     "text": [
      "2025-05-14 13:29:22 src.builder INFO: Starting RegionDesigner\n"
     ]
    },
    {
     "data": {
      "application/vnd.jupyter.widget-view+json": {
       "model_id": "c325fa9c3ade4f989622f5c2f9f200c2",
       "version_major": 2,
       "version_minor": 0
      },
      "text/plain": [
       "GridspecLayout(children=(HBox(children=(HBox(children=(ToggleButtons(description='View:', layout=Layout(width=…"
      ]
     },
     "metadata": {},
     "output_type": "display_data"
    }
   ],
   "source": [
    "%reset -f\n",
    "\n",
    "%reload_ext autoreload\n",
    "%autoreload 2\n",
    "\n",
    "from IPython.display import clear_output\n",
    "clear_output(wait=True)\n",
    "\n",
    "from src.builder import UbermagInterface\n",
    "designer = UbermagInterface(show_borders=True)"
   ]
  },
  {
   "cell_type": "code",
   "execution_count": null,
   "id": "169c526a271535d",
   "metadata": {},
   "outputs": [],
   "source": [
    "raise InterruptedError(\"Pause here\")"
   ]
  },
  {
   "cell_type": "code",
   "execution_count": null,
   "id": "e37523e784f2b97a",
   "metadata": {},
   "outputs": [],
   "source": [
    "!cat region_designer.log"
   ]
  },
  {
   "cell_type": "code",
   "execution_count": null,
   "id": "b53562f5e24b9113",
   "metadata": {},
   "outputs": [],
   "source": [
    "designer.controls_panel.__dict__"
   ]
  }
 ],
 "metadata": {
  "kernelspec": {
   "display_name": "Python 3 (ipykernel)",
   "language": "python",
   "name": "python3"
  },
  "language_info": {
   "codemirror_mode": {
    "name": "ipython",
    "version": 3
   },
   "file_extension": ".py",
   "mimetype": "text/x-python",
   "name": "python",
   "nbconvert_exporter": "python",
   "pygments_lexer": "ipython3",
   "version": "3.12.10"
  }
 },
 "nbformat": 4,
 "nbformat_minor": 5
}
