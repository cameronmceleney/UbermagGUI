{
 "cells": [
  {
   "metadata": {},
   "cell_type": "code",
   "source": [
    "%load_ext autoreload\n",
    "%autoreload 2"
   ],
   "id": "16b12d5fe2256276",
   "outputs": [],
   "execution_count": null
  },
  {
   "metadata": {},
   "cell_type": "code",
   "source": "%reload_ext autoreload",
   "id": "b4c0fa0c462aeff3",
   "outputs": [],
   "execution_count": null
  },
  {
   "cell_type": "code",
   "id": "initial_id",
   "metadata": {
    "collapsed": true,
    "ExecuteTime": {
     "end_time": "2025-05-09T14:42:50.858424Z",
     "start_time": "2025-05-09T14:42:47.642024Z"
    }
   },
   "source": [
    "from src import RegionDesigner\n",
    "designer = RegionDesigner(show_borders=True)"
   ],
   "outputs": [
    {
     "name": "stdout",
     "output_type": "stream",
     "text": [
      "2025-05-09 15:42:50 src.builder INFO: Starting RegionDesigner\n"
     ]
    },
    {
     "data": {
      "text/plain": [
       "GridspecLayout(children=(HBox(children=(ToggleButtons(description='View:', layout=Layout(border_bottom='1px so…"
      ],
      "application/vnd.jupyter.widget-view+json": {
       "version_major": 2,
       "version_minor": 0,
       "model_id": "8ded20f8cc264d8da2c974266b1f202e"
      }
     },
     "metadata": {},
     "output_type": "display_data"
    }
   ],
   "execution_count": 1
  },
  {
   "metadata": {},
   "cell_type": "code",
   "source": "raise InterruptedError(\"Pause here\")",
   "id": "169c526a271535d",
   "outputs": [],
   "execution_count": null
  },
  {
   "metadata": {
    "ExecuteTime": {
     "end_time": "2025-05-09T14:45:30.046002Z",
     "start_time": "2025-05-09T14:45:29.900434Z"
    }
   },
   "cell_type": "code",
   "outputs": [
    {
     "name": "stdout",
     "output_type": "stream",
     "text": [
      "2025-05-09 15:44:26 src.workspace_modelling.controls SUCCESS: ControlsPanel received mesh: Mesh(Region(pmin=[0.0, 0.0, 0.0], pmax=[1e-08, 1e-08, 1e-09], dims=['x', 'y', 'z'], units=['nm', 'nm', 'nm']), n=[10, 10, 1], bc=x)\r\n",
      "2025-05-09 15:44:36 src.workspace_modelling.feature_system_init.panels.select_subregions SUCCESS: Rebuilt mesh 'main' with subregions: ['r2', 'r1']\r\n",
      "2025-05-09 15:44:36 src.workspace_modelling.controls SUCCESS: ControlsPanel received mesh: Mesh(Region(pmin=[0.0, 0.0, 0.0], pmax=[1e-08, 1e-08, 1e-09], dims=['x', 'y', 'z'], units=['nm', 'nm', 'nm']), n=[10, 10, 1], bc=x, subregions: (Region`r2`(pmin=[0.0, 9.000000000000001e-09, 0.0], pmax=[1e-08, 1e-08, 1e-09], dims=['x', 'y', 'z'], units=['nm', 'nm', 'nm']), Region`r1`(pmin=[0.0, 0.0, 0.0], pmax=[1e-08, 1e-09, 1e-09], dims=['x', 'y', 'z'], units=['nm', 'nm', 'nm'])))\r\n",
      "2025-05-09 15:44:42 src.workspace_modelling.feature_system_init.panels.select_subregions SUCCESS: Rebuilt mesh 'main' with subregions: ['r2']\r\n",
      "2025-05-09 15:44:42 src.workspace_modelling.controls SUCCESS: ControlsPanel received mesh: Mesh(Region(pmin=[0.0, 0.0, 0.0], pmax=[1e-08, 1e-08, 1e-09], dims=['x', 'y', 'z'], units=['nm', 'nm', 'nm']), n=[10, 10, 1], bc=x, subregions: (Region`r2`(pmin=[0.0, 9.000000000000001e-09, 0.0], pmax=[1e-08, 1e-08, 1e-09], dims=['x', 'y', 'z'], units=['nm', 'nm', 'nm'])))\r\n",
      "2025-05-09 15:44:49 src.workspace_modelling.feature_system_init.panels.select_subregions SUCCESS: Rebuilt mesh 'main' with subregions: ['r2', 'r1']\r\n",
      "2025-05-09 15:44:49 src.workspace_modelling.controls SUCCESS: ControlsPanel received mesh: Mesh(Region(pmin=[0.0, 0.0, 0.0], pmax=[1e-08, 1e-08, 1e-09], dims=['x', 'y', 'z'], units=['nm', 'nm', 'nm']), n=[10, 10, 1], bc=x, subregions: (Region`r2`(pmin=[0.0, 9.000000000000001e-09, 0.0], pmax=[1e-08, 1e-08, 1e-09], dims=['x', 'y', 'z'], units=['nm', 'nm', 'nm']), Region`r1`(pmin=[0.0, 0.0, 0.0], pmax=[1e-08, 1e-09, 1e-09], dims=['x', 'y', 'z'], units=['nm', 'nm', 'nm'])))\r\n"
     ]
    }
   ],
   "execution_count": 3,
   "source": "!cat region_designer.log",
   "id": "e37523e784f2b97a"
  },
  {
   "metadata": {},
   "cell_type": "code",
   "source": "designer.controls_panel.__dict__",
   "id": "b53562f5e24b9113",
   "outputs": [],
   "execution_count": null
  }
 ],
 "metadata": {
  "kernelspec": {
   "display_name": "Python 3",
   "language": "python",
   "name": "python3"
  },
  "language_info": {
   "codemirror_mode": {
    "name": "ipython",
    "version": 2
   },
   "file_extension": ".py",
   "mimetype": "text/x-python",
   "name": "python",
   "nbconvert_exporter": "python",
   "pygments_lexer": "ipython2",
   "version": "2.7.6"
  }
 },
 "nbformat": 4,
 "nbformat_minor": 5
}
