{
 "cells": [
  {
   "cell_type": "code",
   "id": "16b12d5fe2256276",
   "metadata": {},
   "source": [
    "%load_ext autoreload\n",
    "%autoreload 2"
   ],
   "outputs": [],
   "execution_count": null
  },
  {
   "cell_type": "code",
   "id": "b4c0fa0c462aeff3",
   "metadata": {},
   "source": [
    "%reload_ext autoreload"
   ],
   "outputs": [],
   "execution_count": null
  },
  {
   "cell_type": "code",
   "id": "eb2d2735e37ccb3c",
   "metadata": {},
   "source": [],
   "outputs": [],
   "execution_count": null
  },
  {
   "cell_type": "code",
   "id": "ee34f6ec1a3a4c9b",
   "metadata": {},
   "source": [
    "%reset -f\n",
    "\n",
    "%reload_ext autoreload\n",
    "%autoreload 2\n",
    "\n",
    "from IPython.display import clear_output\n",
    "clear_output(wait=True)\n",
    "\n",
    "from src import UbermagInterface\n",
    "designer = UbermagInterface(show_borders=True)"
   ],
   "outputs": [],
   "execution_count": null
  },
  {
   "cell_type": "code",
   "id": "36539d9ed413fb5b",
   "metadata": {},
   "source": [
    "%reset -f\n",
    "\n",
    "%reload_ext autoreload\n",
    "\n",
    "%autoreload 2\n",
    "\n",
    "from IPython.display import clear_output\n",
    "clear_output(wait=True)\n",
    "\n",
    "from src.builder import UbermagInterface\n",
    "designer = UbermagInterface(show_borders=True)"
   ],
   "execution_count": 4,
   "outputs": [
    {
     "name": "stdout",
     "output_type": "stream",
     "text": [
      "2025-05-21 14:46:17 SUCCESS src.outliners.outliner_controller : OutlinerController._on_geometry_change: geometry outliner updated (mesh=None).\n"
     ]
    },
    {
     "data": {
      "text/plain": [
       "GridspecLayout(children=(HBox(children=(HBox(children=(ToggleButtons(description='View:', layout=Layout(width=…"
      ],
      "application/vnd.jupyter.widget-view+json": {
       "version_major": 2,
       "version_minor": 0,
       "model_id": "1191d7008a024655a133334d36d63fba"
      }
     },
     "metadata": {},
     "output_type": "display_data"
    }
   ]
  },
  {
   "cell_type": "code",
   "id": "169c526a271535d",
   "metadata": {},
   "source": [
    "raise InterruptedError(\"Pause here\")"
   ],
   "outputs": [],
   "execution_count": null
  },
  {
   "cell_type": "code",
   "id": "2e8c9a51a4e9329b",
   "metadata": {
    "ExecuteTime": {
     "end_time": "2025-05-21T13:47:17.376583Z",
     "start_time": "2025-05-21T13:47:17.342029Z"
    }
   },
   "source": "designer.interface_properties.meshes",
   "outputs": [
    {
     "data": {
      "text/plain": [
       "{'main': Mesh(Region(pmin=[0.0, 0.0, 0.0], pmax=[1.0, 1.0, 1.0], dims=['x', 'y', 'z'], units=['m', 'm', 'm']), n=[1, 1, 1], subregions: (Region`r1`(pmin=[0.0, 0.0, 0.0], pmax=[1.0, 1.0, 1.0], dims=['x', 'y', 'z'], units=['m', 'm', 'm'])))}"
      ]
     },
     "execution_count": 11,
     "metadata": {},
     "output_type": "execute_result"
    }
   ],
   "execution_count": 11
  },
  {
   "cell_type": "code",
   "id": "e37523e784f2b97a",
   "metadata": {},
   "source": [
    "with open('/Users/cameronmceleney/PycharmProjects/UbermagGUI/data/logs/ubermag_interface.log', 'r') as file:\n",
    "    print(file.read())"
   ],
   "outputs": [],
   "execution_count": null
  },
  {
   "metadata": {},
   "cell_type": "code",
   "source": [
    "import discretisedfield as df\n",
    "import micromagneticmodel as mm\n",
    "\n",
    "system = mm.System(name='test_system')\n",
    "system.m = df.Field(\n",
    "    mesh=df.Mesh(\n",
    "        p1=(0,0,0), p2=(1,1,1), cell=(1,1,1), bc='',\n",
    "    ),\n",
    "    nvdim=3, value=(1, 0, 0), norm=8e5, valid='norm')"
   ],
   "id": "9c66f7c83ddad1e1",
   "outputs": [],
   "execution_count": null
  },
  {
   "metadata": {},
   "cell_type": "code",
   "source": "",
   "id": "93e5c9077e6053b8",
   "outputs": [],
   "execution_count": null
  }
 ],
 "metadata": {
  "kernelspec": {
   "display_name": "Python 3 (ipykernel)",
   "language": "python",
   "name": "python3"
  },
  "language_info": {
   "codemirror_mode": {
    "name": "ipython",
    "version": 3
   },
   "file_extension": ".py",
   "mimetype": "text/x-python",
   "name": "python",
   "nbconvert_exporter": "python",
   "pygments_lexer": "ipython3",
   "version": "3.12.10"
  }
 },
 "nbformat": 4,
 "nbformat_minor": 5
}
