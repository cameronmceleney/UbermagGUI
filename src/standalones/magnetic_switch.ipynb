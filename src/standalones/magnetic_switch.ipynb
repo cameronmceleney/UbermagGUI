{
 "cells": [
  {
   "metadata": {},
   "cell_type": "markdown",
   "source": "# 0. Import packages",
   "id": "c3f2bd05b4289c7d"
  },
  {
   "metadata": {},
   "cell_type": "markdown",
   "source": "## 0.1. Clear the workspace",
   "id": "e69021704bc68b9d"
  },
  {
   "metadata": {
    "ExecuteTime": {
     "end_time": "2025-04-11T15:03:58.344915Z",
     "start_time": "2025-04-11T15:03:58.307723Z"
    }
   },
   "cell_type": "code",
   "source": [
    "# Clear all variables in the workspace\n",
    "%reset -f"
   ],
   "id": "f53435ac962f539e",
   "outputs": [],
   "execution_count": 1
  },
  {
   "metadata": {},
   "cell_type": "markdown",
   "source": "## 0.2. Ubermag",
   "id": "a5d365b4f65d3541"
  },
  {
   "cell_type": "code",
   "id": "initial_id",
   "metadata": {
    "collapsed": true,
    "ExecuteTime": {
     "end_time": "2025-04-11T15:04:01.667880Z",
     "start_time": "2025-04-11T15:03:58.354627Z"
    }
   },
   "source": [
    "import oommfc as oc\n",
    "oc.runner.runner"
   ],
   "outputs": [
    {
     "data": {
      "text/plain": [
       "TclOOMMFRunner(/Applications/oommf/oommf/oommf.tcl)"
      ]
     },
     "execution_count": 2,
     "metadata": {},
     "output_type": "execute_result"
    }
   ],
   "execution_count": 2
  },
  {
   "metadata": {
    "ExecuteTime": {
     "end_time": "2025-04-11T15:04:01.705669Z",
     "start_time": "2025-04-11T15:04:01.700413Z"
    }
   },
   "cell_type": "code",
   "source": [
    "import discretisedfield as df\n",
    "import micromagneticmodel as mm"
   ],
   "id": "39019821c6a6c720",
   "outputs": [],
   "execution_count": 3
  },
  {
   "metadata": {},
   "cell_type": "markdown",
   "source": "## 0.3. My custom modules",
   "id": "bff4e643517eae74"
  },
  {
   "metadata": {
    "ExecuteTime": {
     "end_time": "2025-04-11T15:04:01.717491Z",
     "start_time": "2025-04-11T15:04:01.709245Z"
    }
   },
   "cell_type": "code",
   "source": [
    "import custom_image_processing as cip\n",
    "import custom_system_properties as csp\n",
    "import custom_temporal_field_tcl_scripts as ctf\n",
    "import convert_field_units"
   ],
   "id": "c7ee6b6fd3abafbc",
   "outputs": [],
   "execution_count": 4
  },
  {
   "metadata": {},
   "cell_type": "markdown",
   "source": "## 0.4. General Python",
   "id": "21fffa54cf2a914"
  },
  {
   "metadata": {
    "ExecuteTime": {
     "end_time": "2025-04-11T15:04:01.739197Z",
     "start_time": "2025-04-11T15:04:01.720628Z"
    }
   },
   "cell_type": "code",
   "source": [
    "%matplotlib inline\n",
    "from dataclasses import dataclass\n",
    "import imageio.v2 as imageio\n",
    "import matplotlib.pyplot as plt\n",
    "import numpy as np\n",
    "import os"
   ],
   "id": "30f4f633c2cf87ab",
   "outputs": [],
   "execution_count": 5
  },
  {
   "metadata": {},
   "cell_type": "markdown",
   "source": "# 1. Define the overall system",
   "id": "72b2ace75c243519"
  },
  {
   "metadata": {},
   "cell_type": "markdown",
   "source": "Set your data and figure output directories; used for saving the simulation data and figures, respectively. The `json_params` dictionary is used to store parameters that will be passed to the JSON file.",
   "id": "7d2bff039ceb5dbd"
  },
  {
   "metadata": {
    "ExecuteTime": {
     "end_time": "2025-04-11T15:04:01.743502Z",
     "start_time": "2025-04-11T15:04:01.742235Z"
    }
   },
   "cell_type": "code",
   "source": [
    "data_output = '/Users/cameronmceleney/Data/2025-04-10/Ubermag_data'\n",
    "figs_output = '/Users/cameronmceleney/Data/2025-04-10/Ubermag_output'\n",
    "\n",
    "json_params = {}"
   ],
   "id": "9d1929c44c1048fc",
   "outputs": [],
   "execution_count": 6
  },
  {
   "metadata": {},
   "cell_type": "markdown",
   "source": [
    "## 1.1. Container\n",
    "\n",
    "- `system.name` will be used extensively for naming output files and figures. Ensure it is descriptive and key-search friendly.\n",
    "- Assume there is no temperature `T` to consider."
   ],
   "id": "f91b32387f9fb0ad"
  },
  {
   "metadata": {
    "ExecuteTime": {
     "end_time": "2025-04-11T15:04:01.750032Z",
     "start_time": "2025-04-11T15:04:01.748712Z"
    }
   },
   "cell_type": "code",
   "source": [
    "system = mm.System(name='alban_switch',\n",
    "                   T=0)"
   ],
   "id": "4482146eb97f43d2",
   "outputs": [],
   "execution_count": 7
  },
  {
   "metadata": {},
   "cell_type": "markdown",
   "source": [
    "I prefer to use my own custom system properties class as this allows me to define dimensions, cell sizes, and other properties in a single place prior to declaring any region (`df.Region`) or mesh (`df.Mesh`) instances. For me, `csp.SystemProperties` improve code readability.\n",
    "\n",
    "> To only use functionality defined by Ubermag one must first define a mesh and then a region. The dimensions can be extracted from either, while the cell size is a property of the mesh.\n",
    "\n",
    "The `buffer_width` is the only parameter required to define the non-magnetic space between the two spin chain regions."
   ],
   "id": "d4924d9e9f6f8c4c"
  },
  {
   "metadata": {
    "ExecuteTime": {
     "end_time": "2025-04-11T15:04:01.754217Z",
     "start_time": "2025-04-11T15:04:01.752850Z"
    }
   },
   "cell_type": "code",
   "source": [
    "# System dimensions\n",
    "system_prop = csp.SystemProperties(length=4000e-9,\n",
    "                                   width=1e-9,\n",
    "                                   thickness=20e-9)\n",
    "\n",
    "# System mesh cell size\n",
    "system_prop.cell = (1e-9, 1e-9, 4e-9)\n",
    "system_prop.units = ('m', 'm', 'm')\n",
    "system_prop.update_numcells()\n",
    "\n",
    "# Buffer dimensions\n",
    "buffer_width = 12e-9  # [m]"
   ],
   "id": "c34e4285fa846745",
   "outputs": [],
   "execution_count": 8
  },
  {
   "metadata": {},
   "cell_type": "markdown",
   "source": [
    "## 1.2. Primary region\n",
    "This model will consistent of a primary region that is subdivided into three subregions. First, we set up the container for the primary region.\n",
    "\n",
    "> The command `%%capture` is a Jupyter magic command that suppresses the output of the cell. Comment it out to see the cell's output."
   ],
   "id": "649bee93e1cd951f"
  },
  {
   "metadata": {
    "ExecuteTime": {
     "end_time": "2025-04-11T15:04:01.758683Z",
     "start_time": "2025-04-11T15:04:01.757142Z"
    }
   },
   "cell_type": "code",
   "source": [
    "%%capture\n",
    "domain = csp.MyRegions(system.name + \"_regions\");"
   ],
   "id": "94a1439b07644930",
   "outputs": [],
   "execution_count": 9
  },
  {
   "metadata": {},
   "cell_type": "markdown",
   "source": "Now we define the primary region. I follow the convention of naming the primary region's `df.Region` \"main\" *i.e.* `domain.main` in this instance.",
   "id": "1cd444d30eb389fc"
  },
  {
   "metadata": {
    "ExecuteTime": {
     "end_time": "2025-04-11T15:04:01.765814Z",
     "start_time": "2025-04-11T15:04:01.761577Z"
    }
   },
   "cell_type": "code",
   "source": [
    "%%capture\n",
    "domain.main(p1=(-system_prop.length / 2, 0, 0),\n",
    "            p2=(+system_prop.length / 2,\n",
    "                system_prop.width,\n",
    "                system_prop.thickness),\n",
    "            dims=('x', 'y', 'z')\n",
    ")"
   ],
   "id": "5101e07705dc5a3",
   "outputs": [],
   "execution_count": 10
  },
  {
   "metadata": {},
   "cell_type": "markdown",
   "source": [
    "### 1.2.1. Material subregions\n",
    "One could solely use the `domain` container we just created to also hold these subregions. For demonstration purposes more than anything else, we first create a second, separate container for the subregions.\n",
    "\n",
    "- The left and right subregions will be identical save for their starting magnetisation orientation. One will have `m_init_left = (0,0,-1)` while the other has `m_init_right = (0,0,1)`.\n",
    "- The central subregion will be a buffer region wherein the saturation magnetisation $M_{s}$ is zero."
   ],
   "id": "312867167e1ebbb1"
  },
  {
   "metadata": {
    "ExecuteTime": {
     "end_time": "2025-04-11T15:04:01.770162Z",
     "start_time": "2025-04-11T15:04:01.768653Z"
    }
   },
   "cell_type": "code",
   "source": [
    "%%capture\n",
    "subdomains = csp.MyRegions(system.name + \"_subregions\")"
   ],
   "id": "e85dc044d8df0f09",
   "outputs": [],
   "execution_count": 11
  },
  {
   "metadata": {},
   "cell_type": "markdown",
   "source": "Either way, now we can define the subregions.",
   "id": "4f6a8981a20e6960"
  },
  {
   "metadata": {
    "ExecuteTime": {
     "end_time": "2025-04-11T15:04:01.778006Z",
     "start_time": "2025-04-11T15:04:01.773271Z"
    }
   },
   "cell_type": "code",
   "source": [
    "%%capture\n",
    "subdomains.materialBottom(p1=domain.main.pmin,\n",
    "                          p2=(domain.main.pmax[0],\n",
    "                              domain.main.pmax[1],\n",
    "                              system_prop.cell[2]),\n",
    "                          dims=('x', 'y', 'z')\n",
    "                          )\n",
    "\n",
    "subdomains.buffer(p1=(domain.main.pmin[0],\n",
    "                      domain.main.pmin[1],\n",
    "                      subdomains.materialBottom.pmax[2]),\n",
    "                  p2=(domain.main.pmax[0],\n",
    "                      domain.main.pmax[1],\n",
    "                      subdomains.materialBottom.pmax[2] + buffer_width),\n",
    "                  dims=('x', 'y', 'z')\n",
    "                  )\n",
    "\n",
    "subdomains.materialTop(p1=(domain.main.pmin[0],\n",
    "                           domain.main.pmin[1],\n",
    "                           subdomains.buffer.pmax[2]),\n",
    "                       p2=domain.main.pmax,\n",
    "                       dims=('x', 'y', 'z')\n",
    "                       )"
   ],
   "id": "ffd2a9a2961588f3",
   "outputs": [],
   "execution_count": 12
  },
  {
   "metadata": {},
   "cell_type": "markdown",
   "source": "## 1.3. Define the overall mesh",
   "id": "9683eeaf82779013"
  },
  {
   "metadata": {
    "ExecuteTime": {
     "end_time": "2025-04-11T15:04:01.784309Z",
     "start_time": "2025-04-11T15:04:01.781344Z"
    }
   },
   "cell_type": "code",
   "source": [
    "%%capture\n",
    "domain.mesh = df.Mesh(region=domain.main.region,\n",
    "                      cell=system_prop.cell,\n",
    "                      bc='x',  # periodic 'Boundary Conditions'\n",
    "                      subregions=subdomains.subregions)"
   ],
   "id": "eaf8e18e347934ae",
   "outputs": [],
   "execution_count": 13
  },
  {
   "metadata": {},
   "cell_type": "markdown",
   "source": "It's always a good idea to check that the mesh has been created correctly. The `mpl` method of the mesh object allows us to visualise the mesh and subregions. Note that the proportions of the mesh may not be accurately represented in the plot. The `box_aspect` argument can be tweaked as required to improve the visualisation.",
   "id": "1c492a67566bb836"
  },
  {
   "metadata": {
    "ExecuteTime": {
     "end_time": "2025-04-11T15:04:01.905579Z",
     "start_time": "2025-04-11T15:04:01.787384Z"
    }
   },
   "cell_type": "code",
   "source": [
    "domain.mesh.mpl.subregions(figsize=(4, 4),\n",
    "                           multiplier=1e-9,  # Scale the axis labels to nanometres\n",
    "                           box_aspect=(8, 2, 4),\n",
    "                           show_region=True\n",
    "                           )"
   ],
   "id": "42549e390cd6b7e",
   "outputs": [
    {
     "data": {
      "text/plain": [
       "<Figure size 400x400 with 1 Axes>"
      ],
      "image/png": "[encoded data removed]"
     },
     "metadata": {},
     "output_type": "display_data"
    }
   ],
   "execution_count": 14
  },
  {
   "metadata": {},
   "cell_type": "markdown",
   "source": "# 2. Define the system's starting magnetisation state",
   "id": "d57544528f20331c"
  },
  {
   "metadata": {},
   "cell_type": "markdown",
   "source": "## 2.1. Saturisation magnetisation, $M_{s}$",
   "id": "ad5b48b62c35c31a"
  },
  {
   "metadata": {
    "ExecuteTime": {
     "end_time": "2025-04-11T15:04:01.919082Z",
     "start_time": "2025-04-11T15:04:01.916731Z"
    }
   },
   "cell_type": "code",
   "source": "sat_mag = 8e5  # [A/m]",
   "id": "340d1553daac9545",
   "outputs": [],
   "execution_count": 15
  },
  {
   "metadata": {},
   "cell_type": "markdown",
   "source": [
    "## 2.2. Create a mask for the magnetisation of the primary region\n",
    "\n",
    "Create a mask for the primary region. Cells where $M_{s} = 0$ will be treated as non-magnetic **only if** we pass `valid='norm'` as an argument when defining `system.m`.\n",
    "\n",
    "If `valid='norm'` is not used, then we must ensure that all other definitions, such as the regions defining $\\mathbf{m}_\\text{0}$ **exactly** match those used in the mask for $M_{s}$. In this example, failure to do so would lead to cells being initialised with unnormalised magnetisations. This almost always leads to garbage, and can be a very subtle error to debug."
   ],
   "id": "6ad7cf313f3817a9"
  },
  {
   "metadata": {
    "ExecuteTime": {
     "end_time": "2025-04-11T15:04:01.943722Z",
     "start_time": "2025-04-11T15:04:01.940839Z"
    }
   },
   "cell_type": "code",
   "source": [
    "def sat_mag_func(pos):\n",
    "    valid_regions = [subdomains.materialBottom.region, subdomains.materialTop.region]\n",
    "\n",
    "    if any(pos in region for region in valid_regions):\n",
    "        return sat_mag\n",
    "    else:\n",
    "        return 0.0"
   ],
   "id": "107a1292743f0446",
   "outputs": [],
   "execution_count": 16
  },
  {
   "metadata": {},
   "cell_type": "markdown",
   "source": "## 2.3. Initial magnetisation, $\\mathbf{m}_{0}$",
   "id": "67dccd748d6073cd"
  },
  {
   "metadata": {
    "ExecuteTime": {
     "end_time": "2025-04-11T15:04:01.952982Z",
     "start_time": "2025-04-11T15:04:01.950489Z"
    }
   },
   "cell_type": "code",
   "source": [
    "def m_init_func(pos):\n",
    "    if pos in subdomains.materialBottom.region:\n",
    "        return (0.0, 0.0, 1.0)\n",
    "    elif pos in subdomains.materialTop.region:\n",
    "        return (0.0, 0.0, -1.0)\n",
    "    else:\n",
    "        return (0.0, 0.0, 0.0)"
   ],
   "id": "88031e336434a2d7",
   "outputs": [],
   "execution_count": 17
  },
  {
   "metadata": {},
   "cell_type": "markdown",
   "source": "## 2.4. Create the system's magnetisation field",
   "id": "caeadda668982f33"
  },
  {
   "metadata": {
    "ExecuteTime": {
     "end_time": "2025-04-11T15:04:03.722479Z",
     "start_time": "2025-04-11T15:04:01.959111Z"
    }
   },
   "cell_type": "code",
   "source": [
    "system.m = df.Field(\n",
    "    mesh=domain.mesh,\n",
    "    value=m_init_func,\n",
    "    norm=sat_mag_func,\n",
    "    valid='norm',\n",
    "    nvdim=3\n",
    ")"
   ],
   "id": "146bafaeea831f77",
   "outputs": [],
   "execution_count": 18
  },
  {
   "metadata": {},
   "cell_type": "markdown",
   "source": "# 3. Define the energy equation",
   "id": "78fe8bcfd0c55adf"
  },
  {
   "metadata": {
    "ExecuteTime": {
     "end_time": "2025-04-11T15:04:03.728043Z",
     "start_time": "2025-04-11T15:04:03.726256Z"
    }
   },
   "cell_type": "code",
   "source": [
    "@dataclass\n",
    "class EnableEnergyTerm:\n",
    "    anisotropy: bool = False\n",
    "    demag: bool = False\n",
    "    dmi: bool = False\n",
    "    driving_zeeman: bool = False\n",
    "    exchange: bool = False\n",
    "    static_zeeman: bool = False"
   ],
   "id": "b672c1a7330af5f6",
   "outputs": [],
   "execution_count": 19
  },
  {
   "metadata": {
    "ExecuteTime": {
     "end_time": "2025-04-11T15:04:03.732374Z",
     "start_time": "2025-04-11T15:04:03.731084Z"
    }
   },
   "cell_type": "code",
   "source": "system.energy = 0",
   "id": "9098d66059e69dbd",
   "outputs": [],
   "execution_count": 20
  },
  {
   "metadata": {},
   "cell_type": "markdown",
   "source": [
    "## 3.1. Quick access\n",
    "\n",
    "Not yet implemented. You can use `has_energy.__dict__` to print possible flags."
   ],
   "id": "4ffa9c7b74ee9f09"
  },
  {
   "metadata": {
    "ExecuteTime": {
     "end_time": "2025-04-11T15:04:03.736582Z",
     "start_time": "2025-04-11T15:04:03.735422Z"
    }
   },
   "cell_type": "code",
   "source": "has_energy = EnableEnergyTerm()",
   "id": "fe39ed75ab14af6a",
   "outputs": [],
   "execution_count": 21
  },
  {
   "metadata": {},
   "cell_type": "markdown",
   "source": "## 3.2. Static Zeeman field",
   "id": "4ccbbd57ee7b1ce5"
  },
  {
   "metadata": {
    "ExecuteTime": {
     "end_time": "2025-04-11T15:04:03.741022Z",
     "start_time": "2025-04-11T15:04:03.739562Z"
    }
   },
   "cell_type": "code",
   "source": [
    "system.energy += mm.Zeeman(\n",
    "    H = {'materialBottom': (0, 0, 0.15),\n",
    "         'buffer': (0.0, 0.0, 0.0),\n",
    "         'materialTop': (0, 0, -0.15)\n",
    "         }\n",
    ")\n",
    "\n",
    "convert_field_units.ampere_per_metre(system.energy)"
   ],
   "id": "7db050d6aac3e1bc",
   "outputs": [],
   "execution_count": 22
  },
  {
   "metadata": {},
   "cell_type": "markdown",
   "source": "## 3.3. Heisenberg exchange interaction",
   "id": "d87147d9c6122e30"
  },
  {
   "metadata": {
    "ExecuteTime": {
     "end_time": "2025-04-11T15:04:03.745447Z",
     "start_time": "2025-04-11T15:04:03.744001Z"
    }
   },
   "cell_type": "code",
   "source": [
    "exchange_stiffness = 1.3e-11\n",
    "\n",
    "system.energy += mm.Exchange(\n",
    "    A = {'materialBottom': exchange_stiffness,\n",
    "         'buffer': 0,\n",
    "         'materialTop': exchange_stiffness\n",
    "         }\n",
    ")"
   ],
   "id": "140e8f045537d6a6",
   "outputs": [],
   "execution_count": 23
  },
  {
   "metadata": {
    "ExecuteTime": {
     "end_time": "2025-04-11T15:04:03.750539Z",
     "start_time": "2025-04-11T15:04:03.748903Z"
    }
   },
   "cell_type": "code",
   "source": [
    "exchange_length = np.sqrt(\n",
    "    (2 * system.energy.exchange.A['materialBottom'])/ (mm.consts.mu0 * sat_mag ** 2)\n",
    ")\n",
    "\n",
    "print(f\"Exchange length: {exchange_length * 1e9:.2f} nm\")\n",
    "\n",
    "if exchange_length < system_prop.cell[0] * 5:\n",
    "    raise ValueError('Exchange length is less than five times the cell size!')"
   ],
   "id": "5a62246fccc62215",
   "outputs": [
    {
     "name": "stdout",
     "output_type": "stream",
     "text": [
      "Exchange length: 5.69 nm\n"
     ]
    }
   ],
   "execution_count": 24
  },
  {
   "metadata": {},
   "cell_type": "markdown",
   "source": "## 3.4. Dipole-dipole coupling",
   "id": "e41b80dd7a1a9448"
  },
  {
   "metadata": {
    "ExecuteTime": {
     "end_time": "2025-04-11T15:04:03.760878Z",
     "start_time": "2025-04-11T15:04:03.759621Z"
    }
   },
   "cell_type": "code",
   "source": [
    "#system.energy += mm.Demag(\n",
    "#    asymptotic_radius=16\n",
    "#)"
   ],
   "id": "78ba8af77c65b84d",
   "outputs": [],
   "execution_count": 25
  },
  {
   "metadata": {},
   "cell_type": "markdown",
   "source": "## 3.5. Dynamic Zeeman field",
   "id": "2d78825a7d3cee6"
  },
  {
   "metadata": {
    "ExecuteTime": {
     "end_time": "2025-04-11T15:04:21.698009Z",
     "start_time": "2025-04-11T15:04:21.695995Z"
    }
   },
   "cell_type": "code",
   "source": [
    "driving_field_strength = (1e-3, 0, 0)  # [T]\n",
    "driving_region_width = 200e-9  # [m]"
   ],
   "id": "4ab9dbf80bb32bb7",
   "outputs": [],
   "execution_count": 31
  },
  {
   "metadata": {},
   "cell_type": "code",
   "source": "zeeman_drive_base = convert_field_units.ampere_per_metre(list(driving_field_strength))",
   "id": "490bd464292e6641",
   "outputs": [],
   "execution_count": null
  },
  {
   "metadata": {
    "ExecuteTime": {
     "end_time": "2025-04-11T15:04:29.571138Z",
     "start_time": "2025-04-11T15:04:29.567478Z"
    }
   },
   "cell_type": "code",
   "outputs": [
    {
     "name": "stdout",
     "output_type": "stream",
     "text": [
      "(795.7747154594767, 0.0, 0.0)\n"
     ]
    }
   ],
   "execution_count": 32,
   "source": [
    "json_params['h0_x [A/m]'] = str(driving_field_strength[0])\n",
    "json_params['h0_y [A/m]'] = str(driving_field_strength[1])\n",
    "json_params['h0_z [A/m]'] = str(driving_field_strength[2])"
   ],
   "id": "22558859fcfa9d1"
  },
  {
   "metadata": {},
   "cell_type": "markdown",
   "source": "Next, we need to define where the line antennae are positioned. It's easiest to continue working with the `subdomains` container.",
   "id": "cd4fa7bff1948dc9"
  },
  {
   "metadata": {
    "ExecuteTime": {
     "end_time": "2025-04-11T14:50:16.821002Z",
     "start_time": "2025-04-11T14:50:16.816866Z"
    }
   },
   "cell_type": "code",
   "source": [
    "%%capture\n",
    "subdomains.antennaBottom(\n",
    "    p1=(-driving_region_width / 2,\n",
    "        subdomains.materialBottom.pmin[1],\n",
    "        subdomains.materialBottom.pmin[2]),\n",
    "    p2=(+driving_region_width / 2,\n",
    "        subdomains.materialBottom.pmax[1],\n",
    "        subdomains.materialBottom.pmax[2]\n",
    "        )\n",
    ")\n",
    "\n",
    "subdomains.antennaTop(\n",
    "    p1=(-driving_region_width / 2,\n",
    "        subdomains.materialTop.pmin[1],\n",
    "        subdomains.materialTop.pmin[2]),\n",
    "    p2=(+driving_region_width / 2,\n",
    "        subdomains.materialTop.pmax[1],\n",
    "        subdomains.materialTop.pmax[2]\n",
    "        )\n",
    ")"
   ],
   "id": "a8d0e079526b8e00",
   "outputs": [],
   "execution_count": 114
  },
  {
   "metadata": {},
   "cell_type": "markdown",
   "source": "Update meshes, and print new mesh to visually check change(s).",
   "id": "1e7f602b11326fa0"
  },
  {
   "metadata": {
    "ExecuteTime": {
     "end_time": "2025-04-11T14:50:16.891743Z",
     "start_time": "2025-04-11T14:50:16.824117Z"
    }
   },
   "cell_type": "code",
   "source": [
    "domain.mesh.subregions = subdomains.subregions\n",
    "system.m.mesh.subregions = domain.mesh.subregions\n",
    "\n",
    "domain.mesh.mpl.subregions(figsize=(4, 4),\n",
    "                           multiplier=1e-9,\n",
    "                           box_aspect=(8, 1, 4),\n",
    "                           show_region=False)"
   ],
   "id": "1e4160639a4b9a01",
   "outputs": [
    {
     "data": {
      "text/plain": [
       "<Figure size 400x400 with 1 Axes>"
      ],
      "image/png": "[encoded data removed]"
     },
     "metadata": {},
     "output_type": "display_data"
    }
   ],
   "execution_count": 115
  },
  {
   "metadata": {},
   "cell_type": "markdown",
   "source": [
    "### 3.5.1. Strength of the driving field\n",
    "\n",
    "For true control over the implementation of $\\mathbf{h}_\\text{d}$ we must define a customised field (`df.Field`). This determines whether a cell is located in a driven region."
   ],
   "id": "c074b42eea868216"
  },
  {
   "metadata": {
    "ExecuteTime": {
     "end_time": "2025-04-11T14:50:16.899977Z",
     "start_time": "2025-04-11T14:50:16.897503Z"
    }
   },
   "cell_type": "code",
   "source": [
    "def in_driven_region(pos):\n",
    "    driven_regions = [subdomains.antennaBottom.region, subdomains.antennaTop.region]\n",
    "\n",
    "    if any(pos in region for region in driven_regions):\n",
    "        return True\n",
    "    else:\n",
    "        return False\n",
    "\n",
    "def driven_strength_func(pos):\n",
    "    if in_driven_region(pos):\n",
    "        return driving_field_strength\n",
    "    else:\n",
    "        return (0.0, 0.0, 0.0)"
   ],
   "id": "d2f3f4c190bf355a",
   "outputs": [],
   "execution_count": 116
  },
  {
   "metadata": {},
   "cell_type": "markdown",
   "source": "We can now create a field for $\\mathbf{h}_\\text{d}$, and add it to the respective energy term.",
   "id": "4cd57e09c0035d49"
  },
  {
   "metadata": {
    "ExecuteTime": {
     "end_time": "2025-04-11T14:50:17.905460Z",
     "start_time": "2025-04-11T14:50:16.910377Z"
    }
   },
   "cell_type": "code",
   "source": [
    "zeeman_drive_field = df.Field(\n",
    "    mesh=domain.mesh,\n",
    "    value=driven_strength_func,\n",
    "    nvdim=3\n",
    ")"
   ],
   "id": "c7511e96ebede303",
   "outputs": [],
   "execution_count": 117
  },
  {
   "metadata": {},
   "cell_type": "markdown",
   "source": "If you are using `tcl_strings` then you **must** ensure that `mm.Zeeman.name` is identical to the name passed to the tcl script.",
   "id": "c4d882a694de6514"
  },
  {
   "metadata": {
    "ExecuteTime": {
     "end_time": "2025-04-11T14:50:17.914278Z",
     "start_time": "2025-04-11T14:50:17.912542Z"
    }
   },
   "cell_type": "code",
   "source": [
    "energy_zeeman_drive = mm.Zeeman(\n",
    "    name='drive',\n",
    "    H=zeeman_drive_field,\n",
    "    tcl_strings=ctf.drive_pause_drive_rotate_counterclockwise('drive'),\n",
    ")"
   ],
   "id": "e62f27b2929476c1",
   "outputs": [],
   "execution_count": 118
  },
  {
   "metadata": {},
   "cell_type": "markdown",
   "source": "## 3.6. Check our energy equation",
   "id": "33cf22b4b5bc87d2"
  },
  {
   "metadata": {
    "ExecuteTime": {
     "end_time": "2025-04-11T14:50:17.928242Z",
     "start_time": "2025-04-11T14:50:17.925901Z"
    }
   },
   "cell_type": "code",
   "source": "system.energy",
   "id": "7d13fee193b6359d",
   "outputs": [
    {
     "data": {
      "text/plain": [
       "Zeeman(H={'materialBottom': (0.0, 0.0, 119366.2073189215), 'buffer': (0.0, 0.0, 0.0), 'materialTop': (0.0, 0.0, -119366.2073189215)}) + Exchange(A={'materialBottom': 1.3e-11, 'buffer': 0, 'materialTop': 1.3e-11})"
      ],
      "text/latex": "$-\\mu_{0}M_\\text{s} \\mathbf{m} \\cdot \\mathbf{H}- A \\mathbf{m} \\cdot \\nabla^{2} \\mathbf{m}$"
     },
     "execution_count": 119,
     "metadata": {},
     "output_type": "execute_result"
    }
   ],
   "execution_count": 119
  },
  {
   "metadata": {},
   "cell_type": "markdown",
   "source": "# 4. Define the dynamics equation",
   "id": "733606b37aec95a"
  },
  {
   "metadata": {},
   "cell_type": "markdown",
   "source": "## 4.1. Gilbert damping",
   "id": "2e190148e63a652b"
  },
  {
   "metadata": {
    "ExecuteTime": {
     "end_time": "2025-04-10T20:15:23.066756Z",
     "start_time": "2025-04-10T20:15:23.065322Z"
    }
   },
   "cell_type": "code",
   "source": [
    "alpha_bulk = 0.01\n",
    "alpha_driven = 0.01\n",
    "alpha_interfacial = 0.01"
   ],
   "id": "25de4a83599011d6",
   "outputs": [],
   "execution_count": 1264
  },
  {
   "metadata": {
    "ExecuteTime": {
     "end_time": "2025-04-10T20:15:23.077665Z",
     "start_time": "2025-04-10T20:15:23.076173Z"
    }
   },
   "cell_type": "code",
   "source": [
    "json_params['alpha_bulk'] = str(alpha_bulk)\n",
    "json_params['alpha_driven'] = str(alpha_driven)\n",
    "json_params['alpha_interfacial'] = str(alpha_interfacial)"
   ],
   "id": "1797155e8a5edb7c",
   "outputs": [],
   "execution_count": 1265
  },
  {
   "metadata": {
    "ExecuteTime": {
     "end_time": "2025-04-10T20:15:23.087675Z",
     "start_time": "2025-04-10T20:15:23.086366Z"
    }
   },
   "cell_type": "code",
   "source": [
    "#alpha_func = dar.AlphaABC(\n",
    "#    alpha_bulk=alpha_bulk,\n",
    "#    alpha_driven=alpha_driven,\n",
    "#    system_prop=system_prop,\n",
    "#    system_subregions=subdomains)"
   ],
   "id": "36cc192e1ead476",
   "outputs": [],
   "execution_count": 1266
  },
  {
   "metadata": {
    "ExecuteTime": {
     "end_time": "2025-04-10T20:15:23.097997Z",
     "start_time": "2025-04-10T20:15:23.096433Z"
    }
   },
   "cell_type": "code",
   "source": "system.dynamics += mm.Damping(alpha=alpha_bulk)",
   "id": "92f34cc8d0e0426b",
   "outputs": [],
   "execution_count": 1267
  },
  {
   "metadata": {},
   "cell_type": "markdown",
   "source": "## 4.2. Precession",
   "id": "6236d34f777f32e2"
  },
  {
   "metadata": {},
   "cell_type": "markdown",
   "source": "Gyromagnetic ratio, $\\gamma_{0}$",
   "id": "e1d1a2fa1ff1b9f7"
  },
  {
   "metadata": {
    "ExecuteTime": {
     "end_time": "2025-04-10T20:15:23.108538Z",
     "start_time": "2025-04-10T20:15:23.107221Z"
    }
   },
   "cell_type": "code",
   "source": "gamma0 = 28.2e9 * 2 * np.pi  # [rad*Hz/T]",
   "id": "eec28d4140130a82",
   "outputs": [],
   "execution_count": 1268
  },
  {
   "metadata": {
    "ExecuteTime": {
     "end_time": "2025-04-10T20:15:23.119563Z",
     "start_time": "2025-04-10T20:15:23.118097Z"
    }
   },
   "cell_type": "code",
   "source": "system.dynamics += mm.Precession(gamma0=gamma0*mm.consts.mu0)",
   "id": "1a3c6f9234fc441d",
   "outputs": [],
   "execution_count": 1269
  },
  {
   "metadata": {},
   "cell_type": "markdown",
   "source": "## 4.3. Check our expression",
   "id": "426d88117db469f0"
  },
  {
   "metadata": {
    "ExecuteTime": {
     "end_time": "2025-04-10T20:15:23.130764Z",
     "start_time": "2025-04-10T20:15:23.128707Z"
    }
   },
   "cell_type": "code",
   "source": "system.dynamics",
   "id": "244a5a4340ade3c1",
   "outputs": [
    {
     "data": {
      "text/plain": [
       "Damping(alpha=0.01) + Precession(gamma0=222658.2752885759)"
      ],
      "text/latex": "$-\\frac{\\gamma_{0} \\alpha}{1 + \\alpha^{2}} \\mathbf{m} \\times (\\mathbf{m} \\times \\mathbf{H}_\\text{eff})-\\frac{\\gamma_{0}}{1 + \\alpha^{2}} \\mathbf{m} \\times \\mathbf{H}_\\text{eff}$"
     },
     "execution_count": 1270,
     "metadata": {},
     "output_type": "execute_result"
    }
   ],
   "execution_count": 1270
  },
  {
   "metadata": {},
   "cell_type": "markdown",
   "source": [
    "# 5. Relaxation\n",
    "\n",
    "## 5.1. Drive the system"
   ],
   "id": "d563513003b00fca"
  },
  {
   "metadata": {},
   "cell_type": "markdown",
   "source": "### 5.1.1. Define the minimisation evolver",
   "id": "cd630a5de7435369"
  },
  {
   "metadata": {
    "ExecuteTime": {
     "end_time": "2025-04-10T20:15:23.145555Z",
     "start_time": "2025-04-10T20:15:23.143997Z"
    }
   },
   "cell_type": "code",
   "source": [
    "min_evolver = oc.CGEvolver(\n",
    "    method='Polak-Ribiere',\n",
    "    #energy_precision=1e-10  # May need to increase for large systems\n",
    ")\n",
    "\n",
    "minD = oc.MinDriver(\n",
    "    evolver=min_evolver,\n",
    "    stopping_mxHxm=0.1\n",
    ")"
   ],
   "id": "f862023d0254b448",
   "outputs": [],
   "execution_count": 1271
  },
  {
   "metadata": {},
   "cell_type": "markdown",
   "source": "### 5.1.2. Apply the `TimeDriver`",
   "id": "ca1f282baf72c3de"
  },
  {
   "metadata": {
    "ExecuteTime": {
     "end_time": "2025-04-10T20:15:23.765890Z",
     "start_time": "2025-04-10T20:15:23.154827Z"
    }
   },
   "cell_type": "code",
   "source": [
    "minD.drive(\n",
    "    system,\n",
    "    dirname=data_output,\n",
    "    verbose=2\n",
    ")"
   ],
   "id": "31180b63c706d1b4",
   "outputs": [
    {
     "name": "stdout",
     "output_type": "stream",
     "text": [
      "Running OOMMF (TclOOMMFRunner)[2025/04/10 21:15]... (0.6 s)\n"
     ]
    }
   ],
   "execution_count": 1272
  },
  {
   "metadata": {},
   "cell_type": "markdown",
   "source": "## 5.2. Display and save the output",
   "id": "1efd30bb6623c816"
  },
  {
   "metadata": {
    "ExecuteTime": {
     "end_time": "2025-04-10T20:15:25.019712Z",
     "start_time": "2025-04-10T20:15:23.776277Z"
    }
   },
   "cell_type": "code",
   "source": [
    "%%capture\n",
    "cip.default_three_pane(\n",
    "    system=system,\n",
    "    system_prop=system_prop,\n",
    "    system_region=domain,\n",
    "    figs_output_dir=figs_output,\n",
    "    drive_number=system.drive_number,\n",
    "    fig_name='relaxed',\n",
    "    has_schematic=False,\n",
    "    #scalar_resample_shape=[256, 3],\n",
    "    # vector_resample_shape=[16, 3]\n",
    ")"
   ],
   "id": "f71f42cd9fa6c813",
   "outputs": [],
   "execution_count": 1273
  },
  {
   "metadata": {},
   "cell_type": "markdown",
   "source": "# 6. Drive the system with the time-dependent field",
   "id": "725beca8ec64aa36"
  },
  {
   "metadata": {},
   "cell_type": "markdown",
   "source": "## 6.1. Set temporal parameters",
   "id": "ac5f94e4623deb7c"
  },
  {
   "metadata": {
    "ExecuteTime": {
     "end_time": "2025-04-10T20:15:25.032163Z",
     "start_time": "2025-04-10T20:15:25.030229Z"
    }
   },
   "cell_type": "code",
   "source": [
    "tmax = 16e-9  # [s]\n",
    "stepsize = 1e-12\n",
    "num_datapoints = 400\n",
    "stepsize_between_datapoints = tmax / num_datapoints"
   ],
   "id": "1a820c9e07c26590",
   "outputs": [],
   "execution_count": 1274
  },
  {
   "metadata": {},
   "cell_type": "markdown",
   "source": "## 6.2. Add time-dependent fields to the energy equation",
   "id": "6bad5b2876383d01"
  },
  {
   "metadata": {
    "ExecuteTime": {
     "end_time": "2025-04-10T20:15:25.043582Z",
     "start_time": "2025-04-10T20:15:25.042037Z"
    }
   },
   "cell_type": "code",
   "source": "system.energy += energy_zeeman_drive",
   "id": "d12710264fd70f63",
   "outputs": [],
   "execution_count": 1275
  },
  {
   "metadata": {
    "ExecuteTime": {
     "end_time": "2025-04-10T20:15:25.059251Z",
     "start_time": "2025-04-10T20:15:25.053526Z"
    }
   },
   "cell_type": "code",
   "source": "system.energy",
   "id": "19e408d1cba76c4e",
   "outputs": [
    {
     "data": {
      "text/plain": [
       "Zeeman(H={'materialBottom': (0.0, 0.0, 119366.2073189215), 'buffer': (0.0, 0.0, 0.0), 'materialTop': (0.0, 0.0, -119366.2073189215), 'default': (0, 0, 0)}) + Exchange(A={'materialBottom': 1.3e-11, 'buffer': 0, 'materialTop': 1.3e-11}) + Zeeman(H=Field(Mesh(Region(pmin=[-2e-06, 0.0, 0.0], pmax=[2e-06, 1e-09, 2e-08], dims=['x', 'y', 'z'], units=['m', 'm', 'm']), n=[4000, 1, 5], bc=x, subregions: (Region`materialBottom`(pmin=[-2e-06, 0.0, 0.0], pmax=[2e-06, 1e-09, 4e-09], dims=['x', 'y', 'z'], units=['m', 'm', 'm']), Region`buffer`(pmin=[-2e-06, 0.0, 4e-09], pmax=[2e-06, 1e-09, 1.6e-08], dims=['x', 'y', 'z'], units=['m', 'm', 'm']), Region`materialTop`(pmin=[-2e-06, 0.0, 1.6e-08], pmax=[2e-06, 1e-09, 2e-08], dims=['x', 'y', 'z'], units=['m', 'm', 'm']), Region`antennaBottom`(pmin=[-1e-07, 0.0, 0.0], pmax=[1e-07, 1e-09, 4e-09], dims=['x', 'y', 'z'], units=['m', 'm', 'm']), Region`antennaTop`(pmin=[-1e-07, 0.0, 1.6e-08], pmax=[1e-07, 1e-09, 2e-08], dims=['x', 'y', 'z'], units=['m', 'm', 'm']))), nvdim=3, vdims: (x, y, z)), tcl_strings={'script': '\\nproc TimeFunction:driver { total_time } {\\n    # Define PI and angular frequency: ω = 2π·20e9\\n    set PI [expr {4.0 * atan(1.0)}]\\n    set w [expr {2.0 * $PI * 20e9}]\\n    # Compute phase φ = ω·total_time\\n    set phi [expr {$w * $total_time}]\\n\\n    if {$total_time < 4e-9} {\\n        # Interval 1: Clockwise rotation.\\n        # Use R_z(-φ):\\n        #   T = [ cos(φ)   sin(φ)   0.0 ;\\n        #         -sin(φ)  cos(φ)   0.0 ;\\n        #          0.0     0.0      1.0 ]\\n        set T11 [expr {cos($phi)}]\\n        set T12 [expr {sin($phi)}]\\n        set T13 0.0\\n        set T21 [expr {-1.0 * sin($phi)}]\\n        set T22 [expr {cos($phi)}]\\n        set T23 0.0\\n        set T31 0.0\\n        set T32 0.0\\n        set T33 1.0\\n        # Time derivative of R_z(-φ):\\n        #   dT/dt = [ -ω·sin(φ)   ω·cos(φ)   0.0 ;\\n        #             -ω·cos(φ)  -ω·sin(φ)   0.0 ;\\n        #              0.0       0.0        0.0 ]\\n        set dT11 [expr {-1.0 * $w * sin($phi)}]\\n        set dT12 [expr {$w * cos($phi)}]\\n        set dT13 0.0\\n        set dT21 [expr {-1.0 * $w * cos($phi)}]\\n        set dT22 [expr {-1.0 * $w * sin($phi)}]\\n        set dT23 0.0\\n        set dT31 0.0\\n        set dT32 0.0\\n        set dT33 0.0\\n        return [list $T11 $T12 $T13                      $T21 $T22 $T23                      $T31 $T32 $T33                      $dT11 $dT12 $dT13                      $dT21 $dT22 $dT23                      $dT31 $dT32 $dT33]\\n    } elseif {$total_time < 12e-9} {\\n        # Interval 2: No drive; return a 3x3 zero matrix and zero derivative.\\n        return [list 0.0 0.0 0.0  0.0 0.0 0.0  0.0 0.0 0.0                       0.0 0.0 0.0  0.0 0.0 0.0  0.0 0.0 0.0]\\n    } else {\\n        # Interval 3: Polarised drive in the xy plane, rotated 90° with counterclockwise rotation.\\n        # Define ψ = φ + π/2:\\n        set psi [expr {$phi + (0.5 * $PI)}]\\n        # Use R_z(ψ):\\n        #   T = [ cos(ψ)   -sin(ψ)   0.0 ;\\n        #         sin(ψ)    cos(ψ)   0.0 ;\\n        #         0.0       0.0      1.0 ]\\n        set T11 [expr {cos($psi)}]\\n        set T12 [expr {-1.0 * sin($psi)}]\\n        set T13 0.0\\n        set T21 [expr {sin($psi)}]\\n        set T22 [expr {cos($psi)}]\\n        set T23 0.0\\n        set T31 0.0\\n        set T32 0.0\\n        set T33 1.0\\n        # Its time derivative is:\\n        #   dT/dt = [ -ω·sin(ψ)   -ω·cos(ψ)   0.0 ;\\n        #             ω·cos(ψ)   -ω·sin(ψ)   0.0 ;\\n        #             0.0         0.0       0.0 ]\\n        set dT11 [expr {-1.0 * $w * sin($psi)}]\\n        set dT12 [expr {-1.0 * $w * cos($psi)}]\\n        set dT13 0.0\\n        set dT21 [expr {$w * cos($psi)}]\\n        set dT22 [expr {-1.0 * $w * sin($psi)}]\\n        set dT23 0.0\\n        set dT31 0.0\\n        set dT32 0.0\\n        set dT33 0.0\\n\\n        return [list $T11 $T12 $T13                      $T21 $T22 $T23                      $T31 $T32 $T33                      $dT11 $dT12 $dT13                      $dT21 $dT22 $dT23                      $dT31 $dT32 $dT33]\\n    }\\n}\\n', 'energy': 'Oxs_TransformZeeman', 'type': 'general', 'script_args': 'total_time', 'script_name': 'TimeFunction:driver'})"
      ],
      "text/latex": "$-\\mu_{0}M_\\text{s} \\mathbf{m} \\cdot \\mathbf{H}_\\text{static}- A \\mathbf{m} \\cdot \\nabla^{2} \\mathbf{m}-\\mu_{0}M_\\text{s} \\mathbf{m} \\cdot \\mathbf{H}_\\text{driver}$"
     },
     "execution_count": 1276,
     "metadata": {},
     "output_type": "execute_result"
    }
   ],
   "execution_count": 1276
  },
  {
   "metadata": {},
   "cell_type": "markdown",
   "source": [
    "## 6.3. Drive the system\n",
    "\n"
   ],
   "id": "18b42e6eb3c95762"
  },
  {
   "metadata": {},
   "cell_type": "markdown",
   "source": "### 6.3.1. Define the evolver",
   "id": "b59dd404198e0bfd"
  },
  {
   "metadata": {
    "ExecuteTime": {
     "end_time": "2025-04-10T20:15:25.075468Z",
     "start_time": "2025-04-10T20:15:25.073453Z"
    }
   },
   "cell_type": "code",
   "source": [
    "sim_time_evolver = oc.RungeKuttaEvolver(\n",
    "    method='rkf54',\n",
    "    #alpha=alpha,  # Do not supply here if defined in `system.dynamics`\n",
    "    #gamma_G=gamma0*mm.consts.mu0,\n",
    "    # Driver may override timestep conditions if stopping_criteria are given\n",
    "    #min_timestep=0,  # Default: zero.\n",
    "    #max_timestep=stepsize,  # Default: 1e-10 [s].\n",
    "    do_precess=1,\n",
    "    #energy_precision=1e-10,  # May need to increase for large systems\n",
    "    allow_signed_gamma=0,\n",
    ")\n",
    "\n",
    "sim_time_driver = oc.TimeDriver(evolver=sim_time_evolver)"
   ],
   "id": "705cea9c45cbdaf",
   "outputs": [],
   "execution_count": 1277
  },
  {
   "metadata": {},
   "cell_type": "markdown",
   "source": [
    "### 6.3.2. Apply the `TimeDriver`\n",
    "\n",
    "It's at this point we pass our JSON parameters to the driver."
   ],
   "id": "b7d8a7e029dc4053"
  },
  {
   "metadata": {
    "ExecuteTime": {
     "end_time": "2025-04-10T20:20:17.234879Z",
     "start_time": "2025-04-10T20:15:25.085423Z"
    }
   },
   "cell_type": "code",
   "source": [
    "sim_time_driver.drive(\n",
    "    system,\n",
    "    t=tmax,\n",
    "    dirname=data_output,\n",
    "    n=num_datapoints,\n",
    "    n_threads=10,\n",
    "    verbose=2,\n",
    "    **json_params\n",
    ")"
   ],
   "id": "7043e8155e14aeb6",
   "outputs": [
    {
     "data": {
      "text/plain": [
       "Running OOMMF (TclOOMMFRunner):   0%|          | 0/400 files written [00:00]"
      ],
      "application/vnd.jupyter.widget-view+json": {
       "version_major": 2,
       "version_minor": 0,
       "model_id": "24437e3217a4437f881dc77f61af0592"
      }
     },
     "metadata": {},
     "output_type": "display_data"
    },
    {
     "name": "stdout",
     "output_type": "stream",
     "text": [
      "Running OOMMF (TclOOMMFRunner)[2025/04/10 21:15] took 291.4 s\n"
     ]
    }
   ],
   "execution_count": 1278
  },
  {
   "metadata": {},
   "cell_type": "markdown",
   "source": "## 6.4. Display and save the output",
   "id": "d042337ddab1be26"
  },
  {
   "metadata": {
    "ExecuteTime": {
     "end_time": "2025-04-10T20:20:18.555076Z",
     "start_time": "2025-04-10T20:20:17.266961Z"
    }
   },
   "cell_type": "code",
   "source": [
    "cip.default_three_pane(\n",
    "    system,\n",
    "    system_prop,\n",
    "    domain,\n",
    "    figs_output,\n",
    "    system.drive_number - 1,\n",
    "    f'driven_{system.drive_number - 1}',\n",
    "    has_schematic=False)"
   ],
   "id": "33fb1646d35bdd56",
   "outputs": [
    {
     "name": "stderr",
     "output_type": "stream",
     "text": [
      "/Users/cameronmceleney/PycharmProjects/Ubermag/venv/lib/python3.12/site-packages/matplotlib/quiver.py:630: RuntimeWarning: Mean of empty slice.\n",
      "  amean = a[~self.Umask].mean()\n",
      "/Users/cameronmceleney/PycharmProjects/Ubermag/venv/lib/python3.12/site-packages/numpy/core/_methods.py:129: RuntimeWarning: invalid value encountered in scalar divide\n",
      "  ret = ret.dtype.type(ret / rcount)\n"
     ]
    },
    {
     "data": {
      "text/plain": [
       "<Figure size 800x600 with 8 Axes>"
      ],
      "image/png": "[encoded data removed]"
     },
     "metadata": {},
     "output_type": "display_data"
    }
   ],
   "execution_count": 1279
  },
  {
   "metadata": {
    "ExecuteTime": {
     "end_time": "2025-04-10T20:20:18.567849Z",
     "start_time": "2025-04-10T20:20:18.557369Z"
    }
   },
   "cell_type": "code",
   "source": "raise ValueError(\"Stop here.\")",
   "id": "6c27189250e9e9ec",
   "outputs": [
    {
     "ename": "ValueError",
     "evalue": "Stop here.",
     "output_type": "error",
     "traceback": [
      "\u001B[0;31m---------------------------------------------------------------------------\u001B[0m",
      "\u001B[0;31mValueError\u001B[0m                                Traceback (most recent call last)",
      "Cell \u001B[0;32mIn[1280], line 1\u001B[0m\n\u001B[0;32m----> 1\u001B[0m \u001B[38;5;28;01mraise\u001B[39;00m \u001B[38;5;167;01mValueError\u001B[39;00m(\u001B[38;5;124m\"\u001B[39m\u001B[38;5;124mStop here.\u001B[39m\u001B[38;5;124m\"\u001B[39m)\n",
      "\u001B[0;31mValueError\u001B[0m: Stop here."
     ]
    }
   ],
   "execution_count": 1280
  },
  {
   "metadata": {},
   "cell_type": "markdown",
   "source": "# 7. Post-processing",
   "id": "9bd66bd306c1f27c"
  },
  {
   "metadata": {
    "ExecuteTime": {
     "end_time": "2025-04-11T15:06:17.750513Z",
     "start_time": "2025-04-11T15:06:17.747727Z"
    }
   },
   "cell_type": "code",
   "source": [
    "# Or plot multiple time indices on one plot:\n",
    "m_all_data = md.Drive(name=system.name, dirname=data_output, number=56, use_cache=True)"
   ],
   "id": "c07c9da721dfdfea",
   "outputs": [],
   "execution_count": 36
  },
  {
   "metadata": {},
   "cell_type": "markdown",
   "source": "## 7.1. Plot the energy components",
   "id": "26c7ab11b844cbb5"
  },
  {
   "metadata": {
    "ExecuteTime": {
     "end_time": "2025-04-11T15:30:41.519246Z",
     "start_time": "2025-04-11T15:30:41.412326Z"
    }
   },
   "cell_type": "code",
   "source": [
    "%matplotlib inline\n",
    "fig, ax = plt.subplots(num=1, figsize=(6, 4), layout='constrained', frameon=True)\n",
    "\n",
    "m_all_data.table.mpl(ax=ax,\n",
    "                     x='t',\n",
    "                     y=['E_driver', 'E_exchange'],\n",
    "                     multiplier=1e-9\n",
    "                     )\n",
    "\n",
    "ax.set(title='Drive energy components',\n",
    "       ylabel='Energy (J)'\n",
    "       )"
   ],
   "id": "a6629c90dfe765ad",
   "outputs": [
    {
     "data": {
      "text/plain": [
       "[Text(0.5, 1.0, 'Drive energy components'), Text(0, 0.5, 'Energy (J)')]"
      ]
     },
     "execution_count": 133,
     "metadata": {},
     "output_type": "execute_result"
    },
    {
     "data": {
      "text/plain": [
       "<Figure size 600x400 with 1 Axes>"
      ],
      "image/png": "[encoded data removed]"
     },
     "metadata": {},
     "output_type": "display_data"
    }
   ],
   "execution_count": 133
  },
  {
   "metadata": {
    "ExecuteTime": {
     "end_time": "2025-04-11T11:59:42.881865Z",
     "start_time": "2025-04-11T11:59:42.873157Z"
    }
   },
   "cell_type": "code",
   "source": [
    "def compute_drive_data(m_all_data, sat_mag, system_prop, m_pos=None):\n",
    "    \"\"\"\n",
    "    Extract drive data and compute baseline-subtracted profiles.\n",
    "\n",
    "    Parameters:\n",
    "      m_all_data : micromagneticdata.Drive\n",
    "          Drive data object.\n",
    "      sat_mag : float\n",
    "          Saturation magnetization.\n",
    "      system_prop : object\n",
    "          Must provide attributes: numcells (at least index 0) and cell (tuple).\n",
    "      m_pos : list or tuple, optional\n",
    "          Indices for baseline extraction. Default is [0,4] if not provided.\n",
    "\n",
    "    Returns:\n",
    "      data_mx, data_my, data_mz : np.ndarray, shape (n_time, n_cells_x)\n",
    "          Baseline-subtracted profiles.\n",
    "      baseline : dict\n",
    "          Contains baseline values (for potential further use).\n",
    "    \"\"\"\n",
    "    data_m0 = m_all_data.m0.to_xarray().values  # shape: (n_time, ..., 3)\n",
    "    if m_pos is None:\n",
    "        m_pos = [0, 4]\n",
    "    baseline_mx = data_m0[:, m_pos[0], m_pos[1], 0] / sat_mag\n",
    "    baseline_my = data_m0[:, m_pos[0], m_pos[1], 1] / sat_mag\n",
    "    baseline_mz = data_m0[:, m_pos[0], m_pos[1], 2] / sat_mag\n",
    "\n",
    "    m_data = m_all_data.to_xarray()  # shape: (n_time, n_cells_x, n_cells_y, n_cells_z, 3)\n",
    "    n_time = m_all_data.n\n",
    "    n_cells_x = int(system_prop.numcells[0])\n",
    "    data_mx = np.zeros((n_time, n_cells_x))\n",
    "    data_my = np.zeros((n_time, n_cells_x))\n",
    "    data_mz = np.zeros((n_time, n_cells_x))\n",
    "\n",
    "    for i in range(n_time):\n",
    "        data_mx[i] = (m_data[i, :, m_pos[0], m_pos[1], 0].values / sat_mag) - baseline_mx[i]\n",
    "        data_my[i] = (m_data[i, :, m_pos[0], m_pos[1], 1].values / sat_mag) - baseline_my[i]\n",
    "        data_mz[i] = (m_data[i, :, m_pos[0], m_pos[1], 2].values / sat_mag) - baseline_mz[i]\n",
    "\n",
    "    baseline = {'mx': baseline_mx, 'my': baseline_my, 'mz': baseline_mz}\n",
    "    return data_mx, data_my, data_mz, baseline\n",
    "\n",
    "\n",
    "def plot_drive_profiles(time_indices, m_all_data, system_prop, sat_mag,\n",
    "                        figs_output, m_pos=None, quantity='mx',\n",
    "                        title_prefix=\"\", save_fig=True,\n",
    "                        file_output_extension=\".png\",\n",
    "                        global_ylim=None, global_xlim=None):\n",
    "    \"\"\"\n",
    "    Plots drive profiles for one or more time indices.\n",
    "\n",
    "    Parameters:\n",
    "      time_indices : int or list of ints\n",
    "          Time index (or list) to plot.\n",
    "      m_all_data : micromagneticdata.Drive\n",
    "          Drive data object.\n",
    "      system_prop : object\n",
    "          Must have attributes: numcells, length, cell.\n",
    "      sat_mag : float\n",
    "          Saturation magnetization.\n",
    "      figs_output : str\n",
    "          Output directory for figures.\n",
    "      m_pos : list or tuple, optional\n",
    "          Baseline extraction cell indices.\n",
    "      quantity : str, optional\n",
    "          Which magnetization component ('mx', 'my', or 'mz') to plot.\n",
    "      title_prefix : str, optional\n",
    "          Text prepended to the figure title.\n",
    "      save_fig : bool, optional\n",
    "          If True, the figure is saved.\n",
    "      file_output_extension : str, optional\n",
    "          File extension to use when saving the figure (e.g. \".png\", \".jpg\").\n",
    "      global_ylim : tuple or None, optional\n",
    "          A tuple (ymin, ymax) specifying the y-axis limits. If None no explicit y-limits are set.\n",
    "      global_xlim : tuple or None, optional\n",
    "          A tuple (xmin, xmax) specifying the x-axis limits. If None, defaults to (1, system_prop.length*1e9).\n",
    "\n",
    "    Returns:\n",
    "      None.\n",
    "    \"\"\"\n",
    "    import os\n",
    "    import numpy as np\n",
    "    import matplotlib.pyplot as plt\n",
    "\n",
    "    if isinstance(time_indices, int):\n",
    "        time_indices = [time_indices]\n",
    "\n",
    "    data_mx, data_my, data_mz, baseline = compute_drive_data(m_all_data, sat_mag, system_prop, m_pos)\n",
    "    cell_x_nm = system_prop.cell[0] / 1e-9  # cell size in nm\n",
    "    num_cells_x = int(system_prop.numcells[0])\n",
    "    x = np.arange(0, num_cells_x * cell_x_nm, cell_x_nm)\n",
    "\n",
    "    n_time = m_all_data.n\n",
    "    tmax = m_all_data.info.get('t')\n",
    "    tstep = (tmax / n_time) if tmax is not None else 1.0\n",
    "\n",
    "    if quantity == 'mx':\n",
    "        data = data_mx\n",
    "    elif quantity == 'my':\n",
    "        data = data_my\n",
    "    elif quantity == 'mz':\n",
    "        data = data_mz\n",
    "    else:\n",
    "        raise ValueError(\"quantity must be one of 'mx', 'my', or 'mz'\")\n",
    "\n",
    "    plt.figure(figsize=(8, 5))\n",
    "    for t_idx in time_indices:\n",
    "        profile = data[t_idx - 1, :]\n",
    "        label = f\"Time = {t_idx * tstep / 1e-9:.3f} ns\"\n",
    "        plt.plot(x, profile, alpha=0.8, label=label)\n",
    "\n",
    "    drive_num = m_all_data.info.get('drive_number', 'N/A')\n",
    "    plt.title(f\"{title_prefix} Drive: {drive_num} | {quantity} Profile\")\n",
    "    plt.xlabel('Distance (nm)')\n",
    "    plt.ylabel('Amplitude (a.u.)')\n",
    "\n",
    "    # Set x-limits either from the passed global_xlim or default to (1, system_prop.length in nm)\n",
    "    if global_xlim is not None:\n",
    "        plt.xlim(global_xlim)\n",
    "    else:\n",
    "        plt.xlim(1, system_prop.length * 1e9)\n",
    "\n",
    "    # Set y-limits if provided.\n",
    "    if global_ylim is not None:\n",
    "        plt.ylim(global_ylim)\n",
    "\n",
    "    plt.legend()\n",
    "\n",
    "    if save_fig:\n",
    "        fname = os.path.join(figs_output, f\"drive-{m_all_data.number}_profile{file_output_extension}\")\n",
    "        plt.savefig(fname, dpi=300, bbox_inches='tight')\n",
    "    plt.show()\n",
    "\n",
    "\n",
    "def create_drive_gif(m_all_data, system_prop, sat_mag, figs_output,\n",
    "                     time_indices=None, quantity='mx', title_prefix=\"\",\n",
    "                     gif_filename=\"drive_profile.gif\", fps=10, m_pos=None,\n",
    "                     global_ylim=None, global_xlim=None):\n",
    "    \"\"\"\n",
    "    Creates a GIF animation of drive profiles for a list of time_indices.\n",
    "\n",
    "    Parameters:\n",
    "      m_all_data : micromagneticdata.Drive\n",
    "          Drive data object.\n",
    "      system_prop : object\n",
    "          Must have attributes: numcells, length, cell.\n",
    "      sat_mag : float\n",
    "          Saturation magnetization.\n",
    "      figs_output : str\n",
    "          Directory in which to save the GIF.\n",
    "      time_indices : list or None, optional\n",
    "          A list of time indices (1-indexed). If None, defaults to all time steps with step 10.\n",
    "      quantity : str, optional\n",
    "          Which component ('mx', 'my', or 'mz') to plot. Default is 'mx'.\n",
    "      title_prefix : str, optional\n",
    "          A title string to prepend to the plot title.\n",
    "      gif_filename : str, optional\n",
    "          Filename for the output GIF.\n",
    "      fps : int, optional\n",
    "          Frames per second for the GIF.\n",
    "      m_pos : list or tuple, optional\n",
    "          Baseline extraction indices.\n",
    "      global_ylim : tuple or None, optional\n",
    "          The (ymin, ymax) limits for the y-axis. If None, computed from the data.\n",
    "      global_xlim : tuple or None, optional\n",
    "          The (xmin, xmax) limits for the x-axis. If None, defaults to (x[0], x[-1]).\n",
    "\n",
    "    Returns:\n",
    "      None. The GIF is saved in the figs_output directory.\n",
    "    \"\"\"\n",
    "\n",
    "    # Default to every 10th time step (1-indexed) if none provided.\n",
    "    if time_indices is None:\n",
    "        time_indices = list(np.arange(1, m_all_data.n + 1, 10))\n",
    "    elif isinstance(time_indices, int):\n",
    "        time_indices = list(np.arange(1, m_all_data.n + 1, time_indices))\n",
    "\n",
    "\n",
    "    # Get the baseline-subtracted profiles.\n",
    "    data_mx, data_my, data_mz, baseline = compute_drive_data(m_all_data, sat_mag, system_prop, m_pos)\n",
    "    if quantity == 'mx':\n",
    "        data = data_mx\n",
    "    elif quantity == 'my':\n",
    "        data = data_my\n",
    "    elif quantity == 'mz':\n",
    "        data = data_mz\n",
    "    else:\n",
    "        raise ValueError(\"quantity must be one of 'mx', 'my', or 'mz'\")\n",
    "\n",
    "    # Compute x-axis positions (in nm) from cell size and numcells.\n",
    "    cell_x_nm = system_prop.cell[0] / 1e-9\n",
    "    num_cells_x = int(system_prop.numcells[0])\n",
    "    x = np.arange(0, num_cells_x * cell_x_nm, cell_x_nm)\n",
    "\n",
    "    # Determine time step (if available)\n",
    "    n_time = m_all_data.n\n",
    "    tmax = m_all_data.info.get('t')\n",
    "    tstep = (tmax / n_time) if tmax is not None else 1.0\n",
    "\n",
    "    # Compute global x-limits if not provided.\n",
    "    if global_xlim is None:\n",
    "        # Default to the full x-range (here using the leftmost point and the maximum distance)\n",
    "        global_xlim = (x[0], x[-1])\n",
    "\n",
    "    # Compute global y-limits if not provided.\n",
    "    if global_ylim is None:\n",
    "        # Gather the data for the selected time indices.\n",
    "        # Note: time_indices are 1-indexed so subtract one.\n",
    "        sel_data = data[np.array(time_indices) - 1, :]\n",
    "        # Compute min and max; you might also add a small margin.\n",
    "        y_min = np.min(sel_data)\n",
    "        y_max = np.max(sel_data)\n",
    "        # Optionally, add a 5% margin.\n",
    "        margin = 0.05 * (y_max - y_min)\n",
    "        global_ylim = (y_min - margin, y_max + margin)\n",
    "\n",
    "    temp_dir = os.path.join(figs_output, \"temp_frames\")\n",
    "    os.makedirs(temp_dir, exist_ok=True)\n",
    "    frame_filenames = []\n",
    "\n",
    "    for t_idx in time_indices:\n",
    "        plt.figure(figsize=(8, 5))\n",
    "        profile = data[t_idx - 1, :]\n",
    "        label = f\"Time = {t_idx * tstep / 1e-9:.3f} ns\"\n",
    "        plt.plot(x, profile, alpha=0.8, label=label)\n",
    "        drive_num = m_all_data.info.get('drive_number', 'N/A')\n",
    "        plt.title(f\"{title_prefix} Drive: {drive_num} | {quantity} Profile\")\n",
    "        plt.xlabel('Distance (nm)')\n",
    "        plt.ylabel('Amplitude (a.u.)')\n",
    "        plt.xlim(global_xlim)\n",
    "        plt.ylim(global_ylim)\n",
    "        plt.legend(loc='upper right')\n",
    "\n",
    "        frame_filename = os.path.join(temp_dir, f\"frame_{t_idx:04d}.png\")\n",
    "        plt.savefig(frame_filename, dpi=150, bbox_inches='tight')\n",
    "        plt.close()\n",
    "        frame_filenames.append(frame_filename)\n",
    "\n",
    "    # Build the GIF from the stored frames.\n",
    "    gif_path = os.path.join(figs_output, gif_filename)\n",
    "    with imageio.get_writer(gif_path, mode='I', fps=fps) as writer:\n",
    "        for filename in frame_filenames:\n",
    "            image = imageio.imread(filename)\n",
    "            writer.append_data(image)\n",
    "\n",
    "    # Clean up temporary files.\n",
    "    for filename in frame_filenames:\n",
    "        os.remove(filename)\n",
    "    os.rmdir(temp_dir)\n",
    "\n",
    "    print(\"GIF created:\", gif_path)"
   ],
   "id": "dbb0d4ebaba2b0fe",
   "outputs": [],
   "execution_count": 1367
  },
  {
   "metadata": {
    "ExecuteTime": {
     "end_time": "2025-04-10T20:23:17.764177Z",
     "start_time": "2025-04-10T20:22:52.949236Z"
    }
   },
   "cell_type": "code",
   "source": [
    "create_drive_gif(m_all_data, system_prop, sat_mag, figs_output, quantity='mx',\n",
    "                 fps=8,\n",
    "                 m_pos=[0, 4],\n",
    "                 time_indices=2,\n",
    "                 title_prefix=\"Top |\",\n",
    "                 gif_filename=f\"drive-{m_all_data.info.get('drive_number', 'N/A')}_profile_top.gif\",\n",
    "                 global_ylim=[-0.0015, 0.0015])"
   ],
   "id": "d37e4428fb7a6ec1",
   "outputs": [
    {
     "name": "stdout",
     "output_type": "stream",
     "text": [
      "GIF created: /Users/cameronmceleney/Data/2025-04-10/Ubermag_output/drive-56_profile_top.gif\n"
     ]
    }
   ],
   "execution_count": 1285
  },
  {
   "metadata": {
    "ExecuteTime": {
     "end_time": "2025-04-11T15:22:00.764304Z",
     "start_time": "2025-04-11T15:22:00.754706Z"
    }
   },
   "cell_type": "code",
   "source": [
    "plot_drive_profiles(\n",
    "    time_indices=[100, 150, 250, 300, 400],\n",
    "    m_all_data=m_all_data,\n",
    "    system_prop=system_prop,\n",
    "    sat_mag=sat_mag,\n",
    "    figs_output=figs_output,\n",
    "    m_pos=[0, 4],\n",
    "    title_prefix=\"(Top) Multi-time |\",\n",
    "    file_output_extension='_top.png',\n",
    "    global_ylim=[-0.0015, 0.0015],\n",
    "    save_fig=True\n",
    ")"
   ],
   "id": "c042039333bd933",
   "outputs": [
    {
     "ename": "NameError",
     "evalue": "name 'plot_drive_profiles' is not defined",
     "output_type": "error",
     "traceback": [
      "\u001B[0;31m---------------------------------------------------------------------------\u001B[0m",
      "\u001B[0;31mNameError\u001B[0m                                 Traceback (most recent call last)",
      "Cell \u001B[0;32mIn[100], line 1\u001B[0m\n\u001B[0;32m----> 1\u001B[0m \u001B[43mplot_drive_profiles\u001B[49m(\n\u001B[1;32m      2\u001B[0m     time_indices\u001B[38;5;241m=\u001B[39m[\u001B[38;5;241m100\u001B[39m, \u001B[38;5;241m150\u001B[39m, \u001B[38;5;241m250\u001B[39m, \u001B[38;5;241m300\u001B[39m, \u001B[38;5;241m400\u001B[39m],\n\u001B[1;32m      3\u001B[0m     m_all_data\u001B[38;5;241m=\u001B[39mm_all_data,\n\u001B[1;32m      4\u001B[0m     system_prop\u001B[38;5;241m=\u001B[39msystem_prop,\n\u001B[1;32m      5\u001B[0m     sat_mag\u001B[38;5;241m=\u001B[39msat_mag,\n\u001B[1;32m      6\u001B[0m     figs_output\u001B[38;5;241m=\u001B[39mfigs_output,\n\u001B[1;32m      7\u001B[0m     m_pos\u001B[38;5;241m=\u001B[39m[\u001B[38;5;241m0\u001B[39m, \u001B[38;5;241m4\u001B[39m],\n\u001B[1;32m      8\u001B[0m     title_prefix\u001B[38;5;241m=\u001B[39m\u001B[38;5;124m\"\u001B[39m\u001B[38;5;124m(Top) Multi-time |\u001B[39m\u001B[38;5;124m\"\u001B[39m,\n\u001B[1;32m      9\u001B[0m     file_output_extension\u001B[38;5;241m=\u001B[39m\u001B[38;5;124m'\u001B[39m\u001B[38;5;124m_top.png\u001B[39m\u001B[38;5;124m'\u001B[39m,\n\u001B[1;32m     10\u001B[0m     global_ylim\u001B[38;5;241m=\u001B[39m[\u001B[38;5;241m-\u001B[39m\u001B[38;5;241m0.0015\u001B[39m, \u001B[38;5;241m0.0015\u001B[39m],\n\u001B[1;32m     11\u001B[0m     save_fig\u001B[38;5;241m=\u001B[39m\u001B[38;5;28;01mTrue\u001B[39;00m\n\u001B[1;32m     12\u001B[0m )\n",
      "\u001B[0;31mNameError\u001B[0m: name 'plot_drive_profiles' is not defined"
     ]
    }
   ],
   "execution_count": 100
  },
  {
   "metadata": {},
   "cell_type": "code",
   "outputs": [],
   "execution_count": null,
   "source": "",
   "id": "5ac957eb6008a844"
  }
 ],
 "metadata": {
  "kernelspec": {
   "display_name": "Python 3",
   "language": "python",
   "name": "python3"
  },
  "language_info": {
   "codemirror_mode": {
    "name": "ipython",
    "version": 2
   },
   "file_extension": ".py",
   "mimetype": "text/x-python",
   "name": "python",
   "nbconvert_exporter": "python",
   "pygments_lexer": "ipython2",
   "version": "2.7.6"
  }
 },
 "nbformat": 4,
 "nbformat_minor": 5
}
