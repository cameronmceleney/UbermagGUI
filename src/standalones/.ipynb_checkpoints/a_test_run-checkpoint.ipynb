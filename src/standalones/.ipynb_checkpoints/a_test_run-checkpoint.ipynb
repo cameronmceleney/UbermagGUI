{
 "cells": [
  {
   "metadata": {},
   "cell_type": "code",
   "source": [
    "%load_ext autoreload\n",
    "%autoreload 2"
   ],
   "id": "16b12d5fe2256276",
   "outputs": [],
   "execution_count": null
  },
  {
   "metadata": {},
   "cell_type": "code",
   "source": "%reload_ext autoreload",
   "id": "b4c0fa0c462aeff3",
   "outputs": [],
   "execution_count": null
  },
  {
   "cell_type": "code",
   "id": "initial_id",
   "metadata": {
    "collapsed": true,
    "ExecuteTime": {
     "end_time": "2025-05-09T14:41:58.536234Z",
     "start_time": "2025-05-09T14:41:54.849394Z"
    }
   },
   "source": [
    "from src import RegionDesigner\n",
    "designer = RegionDesigner(show_borders=True)"
   ],
   "outputs": [
    {
     "name": "stdout",
     "output_type": "stream",
     "text": [
      "2025-05-09 15:41:58 src.builder INFO: Starting RegionDesigner\n"
     ]
    },
    {
     "data": {
      "text/plain": [
       "GridspecLayout(children=(HBox(children=(ToggleButtons(description='View:', layout=Layout(border_bottom='1px so…"
      ],
      "application/vnd.jupyter.widget-view+json": {
       "version_major": 2,
       "version_minor": 0,
       "model_id": "6acb6f52e8d84cf5a6390ff50a637776"
      }
     },
     "metadata": {},
     "output_type": "display_data"
    }
   ],
   "execution_count": 1
  },
  {
   "metadata": {},
   "cell_type": "code",
   "source": "raise InterruptedError(\"Pause here\")",
   "id": "169c526a271535d",
   "outputs": [],
   "execution_count": null
  },
  {
   "metadata": {},
   "cell_type": "code",
   "source": "!cat region_designer.log",
   "id": "e37523e784f2b97a",
   "outputs": [],
   "execution_count": null
  },
  {
   "metadata": {},
   "cell_type": "code",
   "source": "designer.controls_panel.__dict__",
   "id": "b53562f5e24b9113",
   "outputs": [],
   "execution_count": null
  }
 ],
 "metadata": {
  "kernelspec": {
   "display_name": "Python 3",
   "language": "python",
   "name": "python3"
  },
  "language_info": {
   "codemirror_mode": {
    "name": "ipython",
    "version": 2
   },
   "file_extension": ".py",
   "mimetype": "text/x-python",
   "name": "python",
   "nbconvert_exporter": "python",
   "pygments_lexer": "ipython2",
   "version": "2.7.6"
  }
 },
 "nbformat": 4,
 "nbformat_minor": 5
}
