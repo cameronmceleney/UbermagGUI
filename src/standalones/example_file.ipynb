{
 "cells": [
  {
   "cell_type": "markdown",
   "id": "b80090e5f5ac1eab",
   "metadata": {},
   "source": [
    "\n",
    "# 0. Import packages\n",
    "Keep cell, and leave blank. If PyCharm (IDE) automatically imports any functions then they'll appear in this cell. This allows for easy sorting."
   ]
  },
  {
   "cell_type": "code",
   "id": "3f0ab56ec47bb2d8",
   "metadata": {},
   "source": "# Intentionally blank\n",
   "outputs": [],
   "execution_count": null
  },
  {
   "cell_type": "markdown",
   "id": "c2451216041baa4f",
   "metadata": {},
   "source": [
    "## 0.1. Clear the workspace"
   ]
  },
  {
   "cell_type": "code",
   "id": "2431d6dcf74ec37e",
   "metadata": {},
   "source": [
    "# Clear all variables in the workspace\n",
    "%reset -f"
   ],
   "outputs": [],
   "execution_count": null
  },
  {
   "cell_type": "markdown",
   "id": "a0d4df48da1de557",
   "metadata": {},
   "source": [
    "## 0.2. Ubermag"
   ]
  },
  {
   "cell_type": "code",
   "id": "4284fbd43b4b727c",
   "metadata": {},
   "source": [
    "import oommfc as oc\n",
    "oc.runner.runner"
   ],
   "outputs": [],
   "execution_count": null
  },
  {
   "cell_type": "code",
   "id": "d4c5b022b83bd00e",
   "metadata": {},
   "source": [
    "import discretisedfield as df\n",
    "import micromagneticmodel as mm\n",
    "import micromagneticdata as md"
   ],
   "outputs": [],
   "execution_count": null
  },
  {
   "cell_type": "markdown",
   "id": "728ac8e563c52cee",
   "metadata": {},
   "source": [
    "## 0.3. My custom modules"
   ]
  },
  {
   "cell_type": "code",
   "id": "initial_id",
   "metadata": {
    "ExecuteTime": {
     "end_time": "2025-05-09T13:32:17.388136Z",
     "start_time": "2025-05-09T13:32:12.014481Z"
    }
   },
   "source": [
    "#%load_ext autoreload\n",
    "#%autoreload 2\n",
    "import custom_image_processing as cip\n",
    "import custom_system_properties as csp\n",
    "import custom_dispersion_relations as cdr\n",
    "import dep.custom_physics_equations as cpe\n",
    "import dep.damping_absorbing_region as dar\n",
    "import convert_field_units"
   ],
   "outputs": [
    {
     "ename": "ModuleNotFoundError",
     "evalue": "No module named 'include'",
     "output_type": "error",
     "traceback": [
      "\u001B[31m---------------------------------------------------------------------------\u001B[39m",
      "\u001B[31mModuleNotFoundError\u001B[39m                       Traceback (most recent call last)",
      "\u001B[36mCell\u001B[39m\u001B[36m \u001B[39m\u001B[32mIn[1]\u001B[39m\u001B[32m, line 7\u001B[39m\n\u001B[32m      5\u001B[39m \u001B[38;5;28;01mimport\u001B[39;00m\u001B[38;5;250m \u001B[39m\u001B[34;01mdep\u001B[39;00m\u001B[34;01m.\u001B[39;00m\u001B[34;01mcustom_dispersion_relations\u001B[39;00m\u001B[38;5;250m \u001B[39m\u001B[38;5;28;01mas\u001B[39;00m\u001B[38;5;250m \u001B[39m\u001B[34;01mcdr\u001B[39;00m\n\u001B[32m      6\u001B[39m \u001B[38;5;28;01mimport\u001B[39;00m\u001B[38;5;250m \u001B[39m\u001B[34;01mdep\u001B[39;00m\u001B[34;01m.\u001B[39;00m\u001B[34;01mcustom_physics_equations\u001B[39;00m\u001B[38;5;250m \u001B[39m\u001B[38;5;28;01mas\u001B[39;00m\u001B[38;5;250m \u001B[39m\u001B[34;01mcpe\u001B[39;00m\n\u001B[32m----> \u001B[39m\u001B[32m7\u001B[39m \u001B[38;5;28;01mimport\u001B[39;00m\u001B[38;5;250m \u001B[39m\u001B[34;01mdep\u001B[39;00m\u001B[34;01m.\u001B[39;00m\u001B[34;01mdamping_absorbing_region\u001B[39;00m\u001B[38;5;250m \u001B[39m\u001B[38;5;28;01mas\u001B[39;00m\u001B[38;5;250m \u001B[39m\u001B[34;01mdar\u001B[39;00m\n\u001B[32m      8\u001B[39m \u001B[38;5;28;01mimport\u001B[39;00m\u001B[38;5;250m \u001B[39m\u001B[34;01mdep\u001B[39;00m\u001B[34;01m.\u001B[39;00m\u001B[34;01mcustom_temporal_field_tcl_scripts\u001B[39;00m\u001B[38;5;250m \u001B[39m\u001B[38;5;28;01mas\u001B[39;00m\u001B[38;5;250m \u001B[39m\u001B[34;01mctf\u001B[39;00m\n\u001B[32m      9\u001B[39m \u001B[38;5;28;01mimport\u001B[39;00m\u001B[38;5;250m \u001B[39m\u001B[34;01mdep\u001B[39;00m\u001B[34;01m.\u001B[39;00m\u001B[34;01mconvert_field_units\u001B[39;00m\n",
      "\u001B[36mFile \u001B[39m\u001B[32m~/PycharmProjects/UbermagGUI/dep/damping_absorbing_region.py:3\u001B[39m\n\u001B[32m      1\u001B[39m \u001B[38;5;28;01mimport\u001B[39;00m\u001B[38;5;250m \u001B[39m\u001B[34;01mnumpy\u001B[39;00m\u001B[38;5;250m \u001B[39m\u001B[38;5;28;01mas\u001B[39;00m\u001B[38;5;250m \u001B[39m\u001B[34;01mnp\u001B[39;00m\n\u001B[32m      2\u001B[39m \u001B[38;5;28;01mimport\u001B[39;00m\u001B[38;5;250m \u001B[39m\u001B[34;01mcustom_system_properties\u001B[39;00m\u001B[38;5;250m \u001B[39m\u001B[38;5;28;01mas\u001B[39;00m\u001B[38;5;250m \u001B[39m\u001B[34;01mcsp\u001B[39;00m\n\u001B[32m----> \u001B[39m\u001B[32m3\u001B[39m \u001B[38;5;28;01mfrom\u001B[39;00m\u001B[38;5;250m \u001B[39m\u001B[34;01minclude\u001B[39;00m\u001B[34;01m.\u001B[39;00m\u001B[34;01mcustom_system_properties\u001B[39;00m\u001B[38;5;250m \u001B[39m\u001B[38;5;28;01mimport\u001B[39;00m MyRegions\n\u001B[32m      4\u001B[39m \u001B[38;5;28;01mfrom\u001B[39;00m\u001B[38;5;250m \u001B[39m\u001B[34;01mtyping\u001B[39;00m\u001B[38;5;250m \u001B[39m\u001B[38;5;28;01mimport\u001B[39;00m Callable, List, Tuple\n\u001B[32m      5\u001B[39m \u001B[38;5;28;01mimport\u001B[39;00m\u001B[38;5;250m \u001B[39m\u001B[34;01mdiscretisedfield\u001B[39;00m\u001B[38;5;250m \u001B[39m\u001B[38;5;28;01mas\u001B[39;00m\u001B[38;5;250m \u001B[39m\u001B[34;01mdf\u001B[39;00m\n",
      "\u001B[31mModuleNotFoundError\u001B[39m: No module named 'include'"
     ]
    }
   ],
   "execution_count": 1
  },
  {
   "cell_type": "markdown",
   "id": "11581feb25eb49b1",
   "metadata": {},
   "source": [
    "## 0.4. General Python"
   ]
  },
  {
   "cell_type": "code",
   "id": "f096b4598bcc1f20",
   "metadata": {},
   "source": [
    "%matplotlib module://matplotlib_inline.backend_inline\n",
    "import matplotlib.pyplot as plt\n",
    "import numpy as np\n",
    "\n",
    "from IPython.display import display\n",
    "import time\n",
    "from jupyter_ui_poll import ui_events  # pump UI events  [oai_citation_attribution:0‡Stack Overflow](https://stackoverflow.com/questions/63784503/make-python-script-wait-for-button-click-ipywidgets)"
   ],
   "outputs": [],
   "execution_count": null
  },
  {
   "cell_type": "markdown",
   "id": "cc83c0dc78b6ac8",
   "metadata": {},
   "source": [
    "# 1. Define the overall system\n",
    "\n",
    "Set your data and figure output directories; used for saving the simulation data and figures, respectively. The `json_params` dictionary is used to store parameters that will be passed to the JSON file."
   ]
  },
  {
   "cell_type": "code",
   "id": "c863f456dc1743e0",
   "metadata": {},
   "source": [
    "data_output = '/Users/cameronmceleney/Data/2025-04-18/Ubermag_data'\n",
    "figs_output = '/Users/cameronmceleney/Data/2025-04-18/Ubermag_output'"
   ],
   "outputs": [],
   "execution_count": null
  },
  {
   "cell_type": "markdown",
   "id": "9f79f014c0668a0e",
   "metadata": {},
   "source": [
    "OOMMF will automatically generate a JSON file containing most simulation parameters when a driver (`oommfc.Driver`) is executed. However, many parameters used to define customised fields (`df.Field`) will only appear, if at all, in binary-encoded files.\n",
    "\n",
    "To log these parameters, we can piggyback on OOMMF's auto-generated JSON by passing a dictionary of these parameters to the final driver."
   ]
  },
  {
   "cell_type": "code",
   "id": "fc5f7ad2ceecf93a",
   "metadata": {},
   "source": [
    "json_params = {}"
   ],
   "outputs": [],
   "execution_count": null
  },
  {
   "cell_type": "markdown",
   "id": "d8d5444e71f8ccf4",
   "metadata": {},
   "source": [
    "## 1.1. Container\n",
    "\n",
    "- `system.name` will be used extensively for naming output files and figures. Ensure it is descriptive and key-search friendly.\n",
    "- Assume there is no temperature `T` to consider."
   ]
  },
  {
   "cell_type": "code",
   "id": "e4a4a3e8be05446c",
   "metadata": {},
   "source": [
    "system = mm.System(name='dmi_paper_validation',\n",
    "                   T=0)"
   ],
   "outputs": [],
   "execution_count": null
  },
  {
   "cell_type": "markdown",
   "id": "c8be5314b43737cc",
   "metadata": {},
   "source": [
    "I prefer to use my own custom system properties class as this allows me to define dimensions, cell sizes, and other properties in a single place prior to declaring any region (`df.Region`) or mesh (`df.Mesh`) instances. For me, `csp.SystemProperties` improve code readability.\n",
    "\n",
    "> To only use functionality defined by Ubermag one must first define a mesh and then a region. The dimensions can be extracted from either, while the cell size is a property of the mesh."
   ]
  },
  {
   "cell_type": "code",
   "id": "e7b90d9b6cede895",
   "metadata": {},
   "source": [
    "# System mesh cell size\n",
    "main_dims = ('x', 'y', 'z')\n",
    "main_cellsize = (2e-9, 1e-9, 12e-9)\n",
    "main_units = ('m', 'm', 'm')"
   ],
   "outputs": [],
   "execution_count": null
  },
  {
   "cell_type": "markdown",
   "id": "5744d5ff12053e24",
   "metadata": {},
   "source": [
    "## 1.2. Material regions\n",
    "\n",
    "### 1.2.1. Subregions\n",
    "One could solely use the `domain` container we just created to also hold these subregions. For demonstration purposes more than anything else, we first create a second, separate container for the subregions.\n",
    "\n",
    "While each subregion is separated define, we are somewhat able to automate the process by letting one subregion be the base for the next."
   ]
  },
  {
   "cell_type": "code",
   "id": "23a8e118e34e3301",
   "metadata": {},
   "source": [
    "# system_subregions = csp.MyRegions(system.name + \"_subregions\")"
   ],
   "outputs": [],
   "execution_count": null
  },
  {
   "cell_type": "code",
   "id": "dec58e9c3402c031",
   "metadata": {},
   "source": [
    "def scaling_function(input_region: df.Region,\n",
    "                     scale_factor: int,\n",
    "                     cellsize) -> df.Region:\n",
    "\n",
    "    tiny = df.Region(p1=(input_region.pmax[0],\n",
    "                                  input_region.pmin[1],\n",
    "                                  input_region.pmin[2]),\n",
    "                              p2=(input_region.pmax[0] + cellsize[0],\n",
    "                                  input_region.pmax[1],\n",
    "                                  input_region.pmax[2]),\n",
    "                              )\n",
    "\n",
    "    output_region = tiny.scale(factor=(scale_factor, 1, 1),\n",
    "                               reference_point=tiny.pmin,\n",
    "                               inplace=False\n",
    "                               )\n",
    "\n",
    "    for i in range(3):\n",
    "        output_region.pmin[i] = round(output_region.pmin[i], 9)\n",
    "        output_region.pmax[i] = round(output_region.pmax[i], 9)\n",
    "\n",
    "    return output_region\n"
   ],
   "outputs": [],
   "execution_count": null
  },
  {
   "cell_type": "code",
   "id": "e7e7b6da53291eea",
   "metadata": {},
   "source": [
    "fixedLhs = df.Region(p1=(0, 0, 0),\n",
    "                     p2=main_cellsize,\n",
    "                     dims=main_dims,\n",
    "                     units=main_units)\n",
    "\n",
    "dampingLhs = scaling_function(fixedLhs, scale_factor=300, cellsize=main_cellsize)\n",
    "\n",
    "freeLhs = scaling_function(dampingLhs, scale_factor=2000, cellsize=main_cellsize)\n",
    "\n",
    "gradientLhs = scaling_function(freeLhs, scale_factor=1000, cellsize=main_cellsize)\n",
    "\n",
    "driven = scaling_function(gradientLhs, scale_factor=60, cellsize=main_cellsize)\n",
    "\n",
    "gradientRhs = scaling_function(driven, scale_factor=1000, cellsize=main_cellsize)\n",
    "\n",
    "freeRhs = scaling_function(gradientRhs, scale_factor=2000, cellsize=main_cellsize)\n",
    "\n",
    "dampingRhs = scaling_function(freeRhs, scale_factor=300, cellsize=main_cellsize)\n",
    "\n",
    "fixedRhs = scaling_function(dampingRhs, scale_factor=1, cellsize=main_cellsize)"
   ],
   "outputs": [],
   "execution_count": null
  },
  {
   "cell_type": "markdown",
   "id": "bf86724a2d0e8fef",
   "metadata": {},
   "source": [
    "### 1.2.2. Primary region\n",
    "\n",
    "All models must consistent of a primary `df.Region` from which the `df.Mesh` can be determined. Now, we set up the container for this primary region which must span all of the subregions we're requesting.\n",
    "\n",
    "> The command `%%capture` is a Jupyter magic command that suppresses the output of the cell. Comment it out to see the cell's output."
   ]
  },
  {
   "cell_type": "code",
   "id": "da13cdbfbc00458e",
   "metadata": {},
   "source": [
    "main_region = df.Region(p1=fixedLhs.pmin,\n",
    "                        p2=fixedRhs.pmax)"
   ],
   "outputs": [],
   "execution_count": null
  },
  {
   "cell_type": "markdown",
   "id": "509e5631c885bc58",
   "metadata": {},
   "source": [
    "## 1.3. Define the overall mesh"
   ]
  },
  {
   "cell_type": "code",
   "id": "d375776c7f9441ef",
   "metadata": {},
   "source": [
    "main_mesh = df.Mesh(region=main_region,\n",
    "                    cell=main_cellsize,\n",
    "                    subregions={'fixedLhs': fixedLhs,\n",
    "                                'dampingLhs': dampingLhs,\n",
    "                                'freeLhs': freeLhs,\n",
    "                                'gradientLhs': gradientLhs,\n",
    "                                'driven': driven,\n",
    "                                'gradientRhs': gradientRhs,\n",
    "                                'freeRhs': freeRhs,\n",
    "                                'dampingRhs': dampingRhs,\n",
    "                                'fixedRhs': fixedRhs\n",
    "                                }\n",
    "                    )"
   ],
   "outputs": [],
   "execution_count": null
  },
  {
   "cell_type": "code",
   "id": "108bdcecb1225338",
   "metadata": {},
   "source": [
    "main_mesh.subregions"
   ],
   "outputs": [],
   "execution_count": null
  },
  {
   "cell_type": "markdown",
   "id": "cdcc88fe57122602",
   "metadata": {},
   "source": [
    "It's always a good idea to check that the mesh has been created correctly. The `mpl` method of the mesh object allows us to visualise the mesh and subregions. Note that the proportions of the mesh may not be accurately represented in the plot. The `box_aspect` argument can be tweaked as required to improve the visualisation."
   ]
  },
  {
   "cell_type": "code",
   "id": "eab16ad986ccfd6a",
   "metadata": {},
   "source": [
    "main_mesh.mpl.subregions(figsize=(4, 4),\n",
    "                         multiplier=1e-9,\n",
    "                         box_aspect=(40, 1, 4),\n",
    "                         show_region=True)"
   ],
   "outputs": [],
   "execution_count": null
  },
  {
   "cell_type": "code",
   "id": "90e6ffc8bf40fa60",
   "metadata": {},
   "source": [
    "from src import UbermagInterface\n",
    "designer = UbermagInterface(cellsize=(2e-9, 1e-9, 1e-9), show_borders=True)"
   ],
   "outputs": [],
   "execution_count": null
  },
  {
   "cell_type": "code",
   "id": "83c30232-e1b9-4628-85ac-3d8a0a2c5fe1",
   "metadata": {},
   "source": [
    "designer.mesh"
   ],
   "outputs": [],
   "execution_count": null
  },
  {
   "cell_type": "markdown",
   "id": "4c317a808fd278d",
   "metadata": {},
   "source": [
    "## 1.4. Boundary conditions"
   ]
  },
  {
   "cell_type": "code",
   "id": "1d93ffb6f5344e54",
   "metadata": {},
   "source": [
    "main_mesh.bc = 'x'\n",
    "\n",
    "evolver_fixed_spins_list = ['']#['fixedLhs', 'fixedRhs']"
   ],
   "outputs": [],
   "execution_count": null
  },
  {
   "cell_type": "code",
   "id": "a86c44469c1df75c",
   "metadata": {},
   "source": [
    "if any(evolver_fixed_spins_list) and main_mesh.bc:\n",
    "    raise ValueError(\"[evolver_fixed_spins_list] and [system_region.mesh.bc] cannot both be specified\")\n"
   ],
   "outputs": [],
   "execution_count": null
  },
  {
   "cell_type": "markdown",
   "id": "930ef1ac5014fe92",
   "metadata": {},
   "source": [
    "# 2. Define the system's starting magnetisation state"
   ]
  },
  {
   "cell_type": "markdown",
   "id": "10ae7de004c9a802",
   "metadata": {},
   "source": [
    "## 2.1. Saturisation magnetisation, $M_{s}$"
   ]
  },
  {
   "cell_type": "code",
   "id": "c96747cb9bdaa043",
   "metadata": {},
   "source": [
    "sat_mag = 8e5  # [A/m]"
   ],
   "outputs": [],
   "execution_count": null
  },
  {
   "cell_type": "code",
   "id": "8dff92db52e451fe",
   "metadata": {},
   "source": "json_params['Saturation fields [A/m]'] = str(sat_mag)",
   "outputs": [],
   "execution_count": null
  },
  {
   "cell_type": "markdown",
   "id": "3eda1960798bc777",
   "metadata": {},
   "source": [
    "## 2.2. (As needed) Create a mask for the magnetisation of the primary region\n",
    "\n",
    "Create a mask for the primary region. Cells where $M_{s} = 0$ will be treated as non-magnetic **only if** we pass `valid='norm'` as an argument when defining `system.m`.\n",
    "\n",
    "If `valid='norm'` is not used, then we must ensure that all other definitions, such as the regions defining $\\mathbf{m}_\\text{0}$ **exactly** match those used in the mask for $M_{s}$. In this example, failure to do so would lead to cells being initialised with unnormalised magnetisations. This almost always leads to garbage, and can be a very subtle error to debug."
   ]
  },
  {
   "cell_type": "code",
   "id": "4ecf8b5ef9c731d1",
   "metadata": {},
   "source": [
    "def sat_mag_func(pos):\n",
    "    valid_regions = [main_region.region]\n",
    "\n",
    "    if any(pos in region for region in valid_regions):\n",
    "        return sat_mag\n",
    "    else:\n",
    "        return 0.0"
   ],
   "outputs": [],
   "execution_count": null
  },
  {
   "cell_type": "markdown",
   "id": "8b4f5544e3131de4",
   "metadata": {},
   "source": [
    "## 2.3. Initial magnetisation, $\\mathbf{m}_{0}$"
   ]
  },
  {
   "cell_type": "code",
   "id": "5c9cbb4f07661ca5",
   "metadata": {},
   "source": [
    "def m_init_func(pos):\n",
    "    valid_regions = [fixedLhs, fixedRhs]\n",
    "\n",
    "    if any(pos in region for region in valid_regions):\n",
    "        return (0.0, 0.0, 1.0)\n",
    "    else:\n",
    "        return (0.0, 0.0, 1.0)"
   ],
   "outputs": [],
   "execution_count": null
  },
  {
   "cell_type": "markdown",
   "id": "e4d3a1da7a0d95db",
   "metadata": {},
   "source": [
    "## 2.4. Define the system's magnetisation field"
   ]
  },
  {
   "cell_type": "code",
   "id": "eaf4324222199a58",
   "metadata": {},
   "source": [
    "system.m = df.Field(\n",
    "    mesh=main_mesh,\n",
    "    value=(0.0, 0.0, 1.0),\n",
    "    norm=sat_mag,\n",
    "    #valid='any',\n",
    "    nvdim=3\n",
    ")"
   ],
   "outputs": [],
   "execution_count": null
  },
  {
   "cell_type": "markdown",
   "id": "1b5b976b8658fa3c",
   "metadata": {},
   "source": [
    "> From this point on temporary containers such as `system_region` are no longer needed. We can now use the `system` container to access the mesh, regions, and subregions. It is a good idea to remove these temporary containers to avoid confusion. The only real use-case for these containers later in the code is to check that `system` has been correctly updated."
   ]
  },
  {
   "cell_type": "markdown",
   "id": "d60c2d2e216d40a7",
   "metadata": {},
   "source": [
    "# 3. Define the energy equation\n",
    "\n",
    "We will define the energy equation for our micromagnetic system in Ubermag's container `micromagneticmodel.Energy()`.\n",
    "\n",
    "> Ensure that variable names are descriptive and key-search friendly. When errors occur Ubermag, OOMMF, and Python messages are spewed out together; debugging is nightmare. This is why `sat_mag` is used instead of `Ms`.\n",
    "\n",
    "\n"
   ]
  },
  {
   "cell_type": "code",
   "id": "38b909dad127fb55",
   "metadata": {},
   "source": [
    "system.energy = 0"
   ],
   "outputs": [],
   "execution_count": null
  },
  {
   "cell_type": "markdown",
   "id": "6b7bef5ef13b7e8a",
   "metadata": {},
   "source": [
    "## 3.1. Quick access\n",
    "\n",
    "To save scrolling deep into the Notebook, I like to forward declare my core material parameters.\n",
    "\n",
    "Not yet implemented properly; temporary solution below."
   ]
  },
  {
   "cell_type": "code",
   "id": "775d08d7594a2bc8",
   "metadata": {},
   "source": [
    "from Uberwidgets.user_interface.builder import build_simulation_ui\n",
    "\n",
    "# my_energy = EnableEnergyTerms()\n",
    "# my_sim_params = EnableSimulationParameters()\n",
    "\n",
    "energy_model, sim_model, _, _, _ = build_simulation_ui()"
   ],
   "outputs": [],
   "execution_count": null
  },
  {
   "cell_type": "code",
   "id": "74214b96-e9bf-4390-8aa0-94554826a30d",
   "metadata": {},
   "source": [
    "energy_model.symbol('anisotropy')"
   ],
   "outputs": [],
   "execution_count": null
  },
  {
   "cell_type": "markdown",
   "id": "ce9e0a91dced6bc",
   "metadata": {},
   "source": [
    "## 3.2. Static Zeeman field"
   ]
  },
  {
   "cell_type": "code",
   "id": "ae32ca25ee2ec792",
   "metadata": {},
   "source": [
    "zeeman_static_dict = {'chain': (0.0, 0.0, 0.16),\n",
    "                      'driven': (0.0, 0.0, 0.4),\n",
    "                      }\n",
    "\n",
    "for key, vals in zeeman_static_dict.items():\n",
    "    zeeman_static_dict[key] = convert_field_units.ampere_per_metre(vals)\n",
    "\n",
    "json_params['chain'] = zeeman_static_dict['chain']\n",
    "json_params['driven'] = zeeman_static_dict['driven']"
   ],
   "outputs": [],
   "execution_count": null
  },
  {
   "cell_type": "code",
   "id": "6e9224807a6a1005",
   "metadata": {},
   "source": [
    "zeemanGradientL = dar.LinearGradientField(\n",
    "    grad_region=gradientLhs,\n",
    "    p1=gradientLhs.pmin[0],\n",
    "    p2=gradientLhs.pmax[0],\n",
    "    field_strength_left=zeeman_static_dict['chain'],\n",
    "    field_strength_right=zeeman_static_dict['driven'],\n",
    "    cell_size=main_cellsize\n",
    ")\n",
    "\n",
    "zeeman_drive_only = dar.UniformFieldStrength(\n",
    "    region=driven,\n",
    "    uniform_field_strength=zeeman_static_dict['driven']\n",
    ")\n",
    "\n",
    "zeemanGradientR = dar.LinearGradientField(\n",
    "    grad_region=gradientRhs,\n",
    "    p1=gradientRhs.pmin[0],\n",
    "    p2=gradientRhs.pmax[0],\n",
    "    field_strength_left=zeeman_static_dict['driven'],\n",
    "    field_strength_right=zeeman_static_dict['chain'],\n",
    "    cell_size=main_cellsize\n",
    ")\n",
    "\n",
    "zeeman_functors = { 'gradientL': zeemanGradientL,\n",
    "                    'driven_only': zeeman_drive_only,\n",
    "                    'gradientR': zeemanGradientR,\n",
    "                    }\n",
    "\n",
    "zeeman_profiles = { 'gradientLhs': gradientLhs,\n",
    "                    'driven': driven,\n",
    "                    'gradientRhs': gradientRhs,\n",
    "                    }\n",
    "\n",
    "static_zeeman_full = dar.CompositeFieldStrength(\n",
    "    profiles=list(zeeman_functors.values()),\n",
    "    field_strength_bulk=zeeman_static_dict['chain']\n",
    ")\n",
    "\n",
    "zeeman_mesh = df.Mesh(\n",
    "    region    = main_region,\n",
    "    cell      = main_mesh.cell,\n",
    "    subregions=zeeman_profiles\n",
    ")\n",
    "\n",
    "static_zeeman_field = df.Field(\n",
    "    mesh  = zeeman_mesh,\n",
    "    nvdim = 3,\n",
    "    value = static_zeeman_full\n",
    ")"
   ],
   "outputs": [],
   "execution_count": null
  },
  {
   "cell_type": "code",
   "id": "3002c5e5a2ceeaf",
   "metadata": {},
   "source": [
    "zeeman_static_strength = [0.0, 0.0, 0.65]  # [T]\n",
    "zeeman_static_strength = convert_field_units.ampere_per_metre(zeeman_static_strength)"
   ],
   "outputs": [],
   "execution_count": null
  },
  {
   "cell_type": "code",
   "id": "8714dc313e6a83f0",
   "metadata": {},
   "source": [
    "if energy_model.static_zeeman:\n",
    "    system.energy += mm.Zeeman(H=static_zeeman_field,\n",
    "                               name='static')"
   ],
   "outputs": [],
   "execution_count": null
  },
  {
   "cell_type": "markdown",
   "id": "524379be38933f9b",
   "metadata": {},
   "source": [
    "## 3.3. Driving Zeeman field"
   ]
  },
  {
   "cell_type": "code",
   "id": "6f035666954a6570",
   "metadata": {},
   "source": [
    "driving_field_freq = 18.00 * 1e9\n",
    "\n",
    "# Stepsize at which equations are evaluated\n",
    "stepsize = 1e-12  # [s]\n",
    "\n",
    "driving_field_strength = [5e-3, 0, 0]  # [T]"
   ],
   "outputs": [],
   "execution_count": null
  },
  {
   "cell_type": "code",
   "id": "f00c267bff802c29",
   "metadata": {},
   "source": [
    "driving_field_strength = convert_field_units.ampere_per_metre(list(driving_field_strength))\n",
    "\n",
    "json_params['h0_x [A/m]'] = str(driving_field_strength[0])\n",
    "json_params['h0_y [A/m]'] = str(driving_field_strength[1])\n",
    "json_params['h0_z [A/m]'] = str(driving_field_strength[2])"
   ],
   "outputs": [],
   "execution_count": null
  },
  {
   "cell_type": "markdown",
   "id": "4bba442e5239e482",
   "metadata": {},
   "source": [
    "If not already set, then we now define where the line antennae are positioned. Update meshes, and print new mesh to visually check change(s)."
   ]
  },
  {
   "cell_type": "markdown",
   "id": "8a0b12fc46dc783f",
   "metadata": {},
   "source": [
    "### 3.3.1. Strength of the driving field\n",
    "\n",
    "For true control over the implementation of $\\mathbf{h}_\\text{d}$ we must define a customised field (`df.Field`). This determines whether a cell is located in a driven region."
   ]
  },
  {
   "cell_type": "code",
   "id": "8d390180604dd67",
   "metadata": {},
   "source": [
    "def h0_func(pos):\n",
    "    if pos in driven:\n",
    "        return driving_field_strength\n",
    "    else:\n",
    "         # No drive outside these regions\n",
    "        return (0, 0, 0)"
   ],
   "outputs": [],
   "execution_count": null
  },
  {
   "cell_type": "markdown",
   "id": "2844789ff83c565b",
   "metadata": {},
   "source": [
    "For clarity when reading the output JSON files, we create a separate mesh for the driving field."
   ]
  },
  {
   "cell_type": "code",
   "id": "79f7c4373a003637",
   "metadata": {},
   "source": [
    "driving_mesh = df.Mesh(region=main_region,  # use Domain to show both domain explicitly use the same region\n",
    "                       cell=main_cellsize,  # Use mesh.cell to show the coupling between the two domain\n",
    "                       subregions={'main_region': main_region,\n",
    "                                   'driven': driven\n",
    "                                   }\n",
    "                       )"
   ],
   "outputs": [],
   "execution_count": null
  },
  {
   "cell_type": "markdown",
   "id": "3f4284b73bc73197",
   "metadata": {},
   "source": [
    "We can now create a field for $\\mathbf{h}_\\text{d}$, and add it to the respective energy term."
   ]
  },
  {
   "cell_type": "code",
   "id": "85a7360549624709",
   "metadata": {},
   "source": [
    "h0_field = df.Field(mesh=driving_mesh,\n",
    "                    nvdim=3,\n",
    "                    value=h0_func)"
   ],
   "outputs": [],
   "execution_count": null
  },
  {
   "cell_type": "code",
   "id": "685574aa2236e932",
   "metadata": {},
   "source": [
    "driving_mesh.mpl.subregions(figsize=(4, 4),\n",
    "                            multiplier=1e-9,\n",
    "                            box_aspect=(40, 1, 4),\n",
    "                            show_region=False)"
   ],
   "outputs": [],
   "execution_count": null
  },
  {
   "cell_type": "markdown",
   "id": "d2d98b98d3e71eaf",
   "metadata": {},
   "source": [
    "If you are using `tcl_strings` then you **must** ensure that `mm.Zeeman.name` is identical to the name passed to the tcl script."
   ]
  },
  {
   "cell_type": "code",
   "id": "113360abdde64c5f",
   "metadata": {},
   "source": [
    "import ipywidgets as widgets\n",
    "import plotly.graph_objects as go\n",
    "from plotly.graph_objs import FigureWidget\n",
    "\n",
    "# --- 1. Define your subregions (example placeholders) ---\n",
    "# In practice, mesh_data[name] should give you:\n",
    "#   - vertices: (N×3) array of floats\n",
    "#   - i,j,k: index triples defining triangles\n",
    "mesh_data = {\n",
    "    'Region A': {\n",
    "        'vertices': [[0,0,0], [1,0,0], [1,1,0], [0,1,0]],\n",
    "        'i': [0,1,2, 0,2,3],\n",
    "        'j': [1,2,3, 1,3,0],\n",
    "        'k': [2,3,0, 2,0,1],\n",
    "    },\n",
    "    'Region B': {\n",
    "        'vertices': [[1,0,0], [2,0,0], [2,1,0], [1,1,0]],\n",
    "        'i': [0,1,2, 0,2,3],\n",
    "        'j': [1,2,3, 1,3,0],\n",
    "        'k': [2,3,0, 2,0,1],\n",
    "    },\n",
    "    # … add as many regions as you need …\n",
    "}\n",
    "\n",
    "# --- 2. Build the 3D figure with one trace per region ---\n",
    "fig = FigureWidget(\n",
    "    layout=go.Layout(\n",
    "        scene=dict(aspectmode='data'),\n",
    "        width=600, height=400\n",
    "    )\n",
    ")\n",
    "\n",
    "for name, data in mesh_data.items():\n",
    "    verts = data['vertices']\n",
    "    fig.add_trace(go.Mesh3d(\n",
    "        x=[v[0] for v in verts],\n",
    "        y=[v[1] for v in verts],\n",
    "        z=[v[2] for v in verts],\n",
    "        i=data['i'], j=data['j'], k=data['k'],\n",
    "        name=name,\n",
    "        opacity=0.5\n",
    "    ))\n",
    "\n",
    "# --- 3. Prepare ipywidgets ---\n",
    "# Header: constant-parameter toggles\n",
    "const_exch = widgets.Checkbox(\n",
    "    description='Constant exchange stiffness', value=False\n",
    ")\n",
    "exch_value = widgets.FloatText(\n",
    "    description='A (J/m)', disabled=True\n",
    ")\n",
    "def toggle_const(change):\n",
    "    exch_value.disabled = not change['new']\n",
    "const_exch.observe(toggle_const, names='value')\n",
    "\n",
    "header = widgets.HBox([const_exch, exch_value])\n",
    "\n",
    "# Left: region selector & parameter fields\n",
    "region_dropdown = widgets.Dropdown(\n",
    "    options=list(mesh_data.keys()),\n",
    "    description='Region:'\n",
    ")\n",
    "# Placeholder for more parameters (e.g. zeeman field)\n",
    "param_box = widgets.VBox([region_dropdown])\n",
    "\n",
    "# Bottom: action buttons\n",
    "btn_instantiate = widgets.Button(description='Instantiate all')\n",
    "btn_update      = widgets.Button(description='Update')\n",
    "\n",
    "bottom = widgets.HBox([btn_instantiate, btn_update])\n",
    "\n",
    "# --- 4. Hook up click events on the 3D plot ---\n",
    "def handle_click(trace, points, state):\n",
    "    # trace.name is the region title\n",
    "    region_dropdown.value = trace.name\n",
    "\n",
    "for trace in fig.data:\n",
    "    trace.on_click(handle_click)\n",
    "\n",
    "# --- 5. Layout everything ---\n",
    "ui = widgets.VBox([\n",
    "    header,\n",
    "    widgets.HBox([param_box, fig]),\n",
    "    bottom\n",
    "])\n",
    "\n",
    "display(ui)\n",
    "\n",
    "# --- 6. (Later) Define callbacks for instantiate/update ---\n",
    "def on_instantiate(b):\n",
    "    # gather all widget values and build your Ubermag system...\n",
    "    print(\"Instantiate with:\")\n",
    "    print(\"  constant A?\", const_exch.value,\n",
    "          \"A =\", exch_value.value)\n",
    "    print(\"  region-specific params for\", region_dropdown.value)\n",
    "btn_instantiate.on_click(on_instantiate)\n",
    "\n",
    "def on_update(b):\n",
    "    # update only the selected region's parameters\n",
    "    print(\"Update region\", region_dropdown.value)\n",
    "btn_update.on_click(on_update)"
   ],
   "outputs": [],
   "execution_count": null
  },
  {
   "cell_type": "code",
   "id": "a57e15d5f66e25b2",
   "metadata": {},
   "source": [
    "energy_zeeman_drive = mm.Zeeman(H=h0_field,\n",
    "                                name='pump',\n",
    "                                func='sin',\n",
    "                                f=driving_field_freq,\n",
    "                                t0=0*stepsize)"
   ],
   "outputs": [],
   "execution_count": null
  },
  {
   "cell_type": "markdown",
   "id": "597438fcf6aa5d77",
   "metadata": {},
   "source": [
    "## 3.4. Dzyaloshinskii-Moriya interaction (DMI)"
   ]
  },
  {
   "cell_type": "code",
   "id": "9966d652014597e7",
   "metadata": {},
   "source": [
    "D_ij = 2.5e-3 # [J/m^2]\n",
    "\n",
    "D_ij_gradient = {'chain': 0.01e-3, 'driven': D_ij, 'lower': 0.01e-3, 'upper': D_ij}\n",
    "dmi_subregion_mapping = {}"
   ],
   "outputs": [],
   "execution_count": null
  },
  {
   "cell_type": "code",
   "id": "2a5295cbc35f826c",
   "metadata": {},
   "source": [
    "json_params['D_ij [J/m^2]'] = D_ij_gradient['driven']\n",
    "json_params['has_energy.dmi.constant'] = energy_model.dmi['constant']\n",
    "json_params['has_energy.dmi.dict'] = energy_model.dmi['dictionary']\n",
    "json_params['has_energy.dmi.subregions'] = energy_model.dmi['subregions']"
   ],
   "outputs": [],
   "execution_count": null
  },
  {
   "cell_type": "markdown",
   "id": "28d3b63078692379",
   "metadata": {},
   "source": [
    "### 3.4.1. Option to manually define DMI for each region"
   ]
  },
  {
   "cell_type": "code",
   "id": "87e8812fdee6b92a",
   "metadata": {},
   "source": [
    "def generate_dmi_dict(region_with_subregions: csp.MyRegions,\n",
    "                      DMI_constant: float):\n",
    "\n",
    "    dmi_region = {}\n",
    "    dmi_subregions = {key : DMI_constant for key in region_with_subregions.subregions.keys()}\n",
    "\n",
    "    last_region_seen = 'entire'\n",
    "\n",
    "    for key in dmi_subregions.keys():\n",
    "        dmi_region[f'{last_region_seen}:{key}'] = DMI_constant\n",
    "        last_region_seen = key\n",
    "        dmi_region[key] = DMI_constant\n",
    "    dmi_region[f'{last_region_seen}:entire'] = DMI_constant\n",
    "\n",
    "    return dmi_region"
   ],
   "outputs": [],
   "execution_count": null
  },
  {
   "cell_type": "code",
   "id": "a5f80c72a819bf14",
   "metadata": {},
   "source": [
    "if energy_model.dmi['dictionary']:\n",
    "    dmi_subregion_mapping = generate_dmi_dict(system.m.mesh, D_ij_gradient['chain'])\n",
    "    json_params['D_ij (chain) [J/m^2]'] = D_ij_gradient['chain']\n",
    "    json_params['D_ij (driven) [J/m^2]'] = D_ij_gradient['driven']\n"
   ],
   "outputs": [],
   "execution_count": null
  },
  {
   "cell_type": "markdown",
   "id": "dce8526a926d62e",
   "metadata": {},
   "source": [
    "Manually set specific subregions' DMI values."
   ]
  },
  {
   "cell_type": "code",
   "id": "4e964bb7c5000a46",
   "metadata": {},
   "source": [
    "if energy_model.dmi['dictionary']:\n",
    "    dmi_subregion_mapping['gradientLhs:driven'] = D_ij_gradient['driven'] / 2\n",
    "    dmi_subregion_mapping['driven'] = D_ij_gradient['driven']\n",
    "    dmi_subregion_mapping['driven:gradientRhs'] = D_ij_gradient['driven'] / 2"
   ],
   "outputs": [],
   "execution_count": null
  },
  {
   "cell_type": "markdown",
   "id": "906bda765993ebb3",
   "metadata": {},
   "source": [
    "### 3.4.2. Option to apply gradients to region(s) with DMI"
   ]
  },
  {
   "cell_type": "code",
   "id": "a53b8d520f8810b7",
   "metadata": {},
   "source": [
    "num_dmi_subdivisions = 500 #round((gradientLhs.pmax[0] - gradientLhs.pmin[0]) / main_cellsize[0])"
   ],
   "outputs": [],
   "execution_count": null
  },
  {
   "cell_type": "markdown",
   "id": "bdbc61c4a02658",
   "metadata": {},
   "source": [
    "Make sure to update the JSON with these values as the MIF file will be difficult to read."
   ]
  },
  {
   "cell_type": "code",
   "id": "62447264991f7e57",
   "metadata": {},
   "source": [
    "if energy_model.dmi['subregions']:\n",
    "    for key, value in D_ij_gradient.items():\n",
    "        json_params[key] = value"
   ],
   "outputs": [],
   "execution_count": null
  },
  {
   "cell_type": "markdown",
   "id": "58c8165d223af3f4",
   "metadata": {},
   "source": [
    "First we need to extract the DMI values for the subregions that have already been defined. We start with the left-hand side of the system. Note that we exclude the gradientLhs subregion itself."
   ]
  },
  {
   "cell_type": "code",
   "id": "7e7dd9b4a72dc82a",
   "metadata": {},
   "source": [
    "dmi_lhs_before_gradient = {}\n",
    "\n",
    "if energy_model.dmi['subregions']:\n",
    "    for key in system.m.mesh.subregions.keys():\n",
    "        if key == 'gradientLhs':\n",
    "            break\n",
    "        dmi_lhs_before_gradient[key] = D_ij_gradient['chain']"
   ],
   "outputs": [],
   "execution_count": null
  },
  {
   "cell_type": "markdown",
   "id": "37eb19d4ae4b4328",
   "metadata": {},
   "source": [
    "Now we move to create a dictionary for the right-hand side of the system."
   ]
  },
  {
   "cell_type": "code",
   "id": "fe2dafbd30df419d",
   "metadata": {},
   "source": [
    "dmi_rhs_after_gradient = {}\n",
    "\n",
    "if energy_model.dmi['subregions']:\n",
    "    append_to_dmi_rhs = False\n",
    "    for key in system.m.mesh.subregions.keys():\n",
    "        if key == 'gradientRhs':\n",
    "            append_to_dmi_rhs = True\n",
    "            continue\n",
    "        if append_to_dmi_rhs:\n",
    "            dmi_rhs_after_gradient[key] = D_ij_gradient['chain']"
   ],
   "outputs": [],
   "execution_count": null
  },
  {
   "cell_type": "markdown",
   "id": "8186a3e483915bd7",
   "metadata": {},
   "source": [
    "We are now able to begin discretising the gradient regions to fake a DMI field. We start with the left-hand size."
   ]
  },
  {
   "cell_type": "code",
   "id": "8da6f5a4c429d96",
   "metadata": {},
   "source": [
    "dmi_lhs_mapping = {}\n",
    "if energy_model.dmi['subregions']:\n",
    "    new_mesh, dmi_lhs_mapping = csp.subdivide_region_new(\n",
    "        mesh            = main_mesh,\n",
    "        region          = gradientLhs,\n",
    "        value_min       = D_ij_gradient['lower'],\n",
    "        value_max       = D_ij_gradient['upper'],\n",
    "        n_subdivisions  = num_dmi_subdivisions,\n",
    "        axis            = 'x',\n",
    "        name_root       = 'gradientLhsDmiSlice',\n",
    "        remove_parent   = True\n",
    "    )\n",
    "    main_mesh = new_mesh\n",
    "    system.m = df.Field(\n",
    "        mesh=main_mesh,\n",
    "        value=m_init_func,\n",
    "        norm=sat_mag,\n",
    "        #valid='norm',\n",
    "        nvdim=3\n",
    "    )"
   ],
   "outputs": [],
   "execution_count": null
  },
  {
   "cell_type": "markdown",
   "id": "6d21119efd9cf6ac",
   "metadata": {},
   "source": [
    "Make sure to include the DMI value within the driving region!"
   ]
  },
  {
   "cell_type": "code",
   "id": "86873f06ca022c0f",
   "metadata": {},
   "source": [
    "dmi_center = {}\n",
    "if energy_model.dmi['subregions']:\n",
    "    dmi_center = {'driven': D_ij_gradient['driven']}"
   ],
   "outputs": [],
   "execution_count": null
  },
  {
   "cell_type": "markdown",
   "id": "90a85054a95f1411",
   "metadata": {},
   "source": [
    "Now the DMI values for the right-hand side gradient region."
   ]
  },
  {
   "cell_type": "code",
   "id": "66b8e6a6453839f7",
   "metadata": {},
   "source": [
    "dmi_rhs_mapping = {}\n",
    "if energy_model.dmi['subregions']:\n",
    "    new_mesh, dmi_rhs_mapping = csp.subdivide_region_new(\n",
    "        mesh            = main_mesh,\n",
    "        region          = gradientRhs,\n",
    "        value_min       = D_ij_gradient['upper'],\n",
    "        value_max       = D_ij_gradient['lower'],\n",
    "        n_subdivisions  = num_dmi_subdivisions,\n",
    "        axis            = 'x',\n",
    "        name_root       = 'gradientRhsDmiSlice',\n",
    "        remove_parent   = True\n",
    "    )\n",
    "    main_mesh = new_mesh\n",
    "    system.m = df.Field(\n",
    "        mesh=main_mesh,\n",
    "        value=m_init_func,\n",
    "        norm=sat_mag,\n",
    "        #valid='norm',\n",
    "        nvdim=3\n",
    "    )"
   ],
   "outputs": [],
   "execution_count": null
  },
  {
   "cell_type": "markdown",
   "id": "770a6fb1ade4aa5",
   "metadata": {},
   "source": [
    "This is the main trick! By adding the dictionaries as arguments to `csp.add_inter_subregion_values` in the correct order we can automatically generate a dictionary in the form required by Ubermag."
   ]
  },
  {
   "cell_type": "code",
   "id": "f245a6957a4f9cff",
   "metadata": {},
   "source": [
    "if energy_model.dmi['subregions']:\n",
    "    dmi_subregion_mapping = csp.add_inter_subregion_values(dmi_lhs_before_gradient,\n",
    "                                                           dmi_lhs_mapping,\n",
    "                                                           dmi_center,\n",
    "                                                           dmi_rhs_mapping,\n",
    "                                                           dmi_rhs_after_gradient,\n",
    "                                                           dmi_chain_left=D_ij_gradient['chain'],\n",
    "                                                           dmi_chain_right=D_ij_gradient['chain'])"
   ],
   "outputs": [],
   "execution_count": null
  },
  {
   "cell_type": "markdown",
   "id": "5691f531fa67ddb5",
   "metadata": {},
   "source": [
    "### 3.4.3. Check DMI flags and include energy term"
   ]
  },
  {
   "cell_type": "code",
   "id": "ee08ec6b007d8aa1",
   "metadata": {},
   "source": [
    "if energy_model.dmi['constant']:\n",
    "    system.energy += mm.DMI(D=D_ij,\n",
    "                            crystalclass='Cnv_y')\n",
    "elif energy_model.dmi['dictionary']:\n",
    "    # Build the symmetric version:\n",
    "    D_complete = {}\n",
    "    for key, val in dmi_subregion_mapping.items():\n",
    "        D_complete[key] = val\n",
    "        if ':' in key:\n",
    "            a, b = key.split(':', 1)\n",
    "            D_complete[f'{b}:{a}'] = val\n",
    "\n",
    "    dmi_subregion_mapping = D_complete\n",
    "\n",
    "    system.energy += mm.DMI(D=dmi_subregion_mapping,\n",
    "                            crystalclass='Cnv_y')\n",
    "elif energy_model.dmi['subregions']:\n",
    "\n",
    "    system.energy += mm.DMI(D=dmi_subregion_mapping,\n",
    "                        crystalclass='Cnv_y')\n",
    "else:\n",
    "    raise ValueError('DMI not set as constant, dict, or subregions. Please check your code.')"
   ],
   "outputs": [],
   "execution_count": null
  },
  {
   "cell_type": "markdown",
   "id": "3ff70c4ece1088b6",
   "metadata": {},
   "source": [
    "### 3.4.4. Check for chiral texture\n",
    "\n",
    "Our larger dispersion relations' proven validity is predicated on the DMI not being strong enough to alter the ground  of the magnetic configuration. This is because the ground state is no longer a single magnetic domain, and instead a magnetic texture.\n",
    "\n",
    "Note that our dispersion relations **may** remain valid even if this condition fails, but this is not guaranteed. Suggested fixes include reducing the strength of `D_ij`, or increasing the thickness of the system along its symmetry-breaking axis.\n",
    "\n",
    "> This equation is marked Eq. (20) in the paper *moon2013spin*."
   ]
  },
  {
   "cell_type": "code",
   "id": "5c7ff4788b4cf54f",
   "metadata": {},
   "source": [
    "D_ij_threshold = np.sqrt(\n",
    "    ((2 * 1.3e-11) / (mm.consts.mu0 * sat_mag))\n",
    "    * (2 * max(zeeman_static_strength)\n",
    "     + sat_mag\n",
    "     + 2 * np.sqrt(\n",
    "                max(zeeman_static_strength)\n",
    "                * (max(zeeman_static_strength) + sat_mag)\n",
    "            )\n",
    "     )\n",
    ")\n",
    "\n",
    "print(f\"DMI threshold: {D_ij_threshold:.2e} J/m^2. True when A = {1.3e-11}\")"
   ],
   "outputs": [],
   "execution_count": null
  },
  {
   "cell_type": "code",
   "id": "88db7c3c2b70a14c",
   "metadata": {},
   "source": [
    "if ((2 * D_ij) / (mm.consts.mu0 * sat_mag)) > D_ij_threshold:\n",
    "    raise ValueError(f\"The DM interaction was set as {D_ij} [J/m^2], \"\n",
    "                     f\"but the DMI threshold is {D_ij_threshold} J/m^2.\")\n"
   ],
   "outputs": [],
   "execution_count": null
  },
  {
   "cell_type": "markdown",
   "id": "6e46017b304c2f21",
   "metadata": {},
   "source": [
    "## 3.5. Heisenberg exchange interaction"
   ]
  },
  {
   "cell_type": "code",
   "id": "5a31841934716d25",
   "metadata": {},
   "source": [
    "exchange_stiffness = 1.3e-11 # [J/m]"
   ],
   "outputs": [],
   "execution_count": null
  },
  {
   "cell_type": "code",
   "id": "f96eae21153a19c5",
   "metadata": {},
   "source": [
    "if energy_model.exchange:\n",
    "    system.energy += mm.Exchange(A=exchange_stiffness)"
   ],
   "outputs": [],
   "execution_count": null
  },
  {
   "cell_type": "markdown",
   "id": "df7e4bb9eab90a85",
   "metadata": {},
   "source": [
    "### 3.5.1. Check the exchange length\n",
    "\n",
    "Check if the selected cell and system dimensions are appropriate for the exchange length and helical length. Failed tests should prevent the simulation from running."
   ]
  },
  {
   "cell_type": "code",
   "id": "72c7403e32c00c2a",
   "metadata": {},
   "source": [
    "# # Temporary check to catch a common mistake of mine during these simulations\n",
    "# if main_cellsize[0] != 1e-9 and exchange_stiffness == 1.3e-11:\n",
    "#     raise ValueError('Exchange stiffness has likely not been rescaled; your cell size along the x-axis is not 1 nanometer! Was this intentional?')"
   ],
   "outputs": [],
   "execution_count": null
  },
  {
   "cell_type": "code",
   "id": "52ea7cb806df7d23",
   "metadata": {},
   "source": [
    "exchange_length = np.sqrt((2 * exchange_stiffness) / (mm.consts.mu0 * sat_mag ** 2))\n",
    "\n",
    "helical_length = (4 * np.pi * exchange_stiffness) / np.abs(D_ij) if D_ij != 0 else np.NZERO\n",
    "\n",
    "helicity_strength = ((D_ij ** 2) / (2 * exchange_stiffness))\n",
    "\n",
    "if energy_model.static_zeeman and 0 < max(zeeman_static_strength) < helicity_strength:\n",
    "    has_helicity_overcome_zeeman = True\n",
    "else:\n",
    "    has_helicity_overcome_zeeman = False"
   ],
   "outputs": [],
   "execution_count": null
  },
  {
   "cell_type": "code",
   "id": "ea5e4d84fc6a96a8",
   "metadata": {},
   "source": [
    "json_params['Exchange length [nm]'] = str(exchange_length * 1e9)\n",
    "json_params['Helical length [nm]'] = str(helical_length * 1e9)\n",
    "json_params['Max helicity [kA/m]'] = str(helicity_strength * 1e-3)"
   ],
   "outputs": [],
   "execution_count": null
  },
  {
   "cell_type": "code",
   "id": "18d59e1fbadf30e7",
   "metadata": {},
   "source": [
    "if exchange_length < main_cellsize[0]:\n",
    "    raise ValueError('Exchange length is smaller than the cell size!')\n",
    "\n",
    "if helical_length >= main_region.pmax[0]:\n",
    "    raise ValueError('Helical length is greater than the system length!')\n",
    "\n",
    "if has_helicity_overcome_zeeman:\n",
    "    raise ValueError(f'System is likely unstable! Helicity [{helicity_strength:.2f} A/m] is greater than the equilibrium fields [{max(zeeman_static_strength):.2f} A/m]!')"
   ],
   "outputs": [],
   "execution_count": null
  },
  {
   "cell_type": "code",
   "id": "664b5ec918f69fe9",
   "metadata": {},
   "source": [
    "print(f\"Exchange length: {exchange_length * 1e9:.2f} [nm]\",\n",
    "      f\"\\nHelical length: {helical_length * 1e9:.2f} [nm]\",\n",
    "      f\"\\nMax helicity: {helicity_strength * 1e-3: .2f} [kA/m]\",\n",
    "      )"
   ],
   "outputs": [],
   "execution_count": null
  },
  {
   "cell_type": "markdown",
   "id": "6246691f2fce808b",
   "metadata": {},
   "source": [
    "## 3.6. Dipole-dipole interaction (demag)"
   ]
  },
  {
   "cell_type": "code",
   "id": "c7a3d9542d431222",
   "metadata": {},
   "source": [
    "if energy_model.demag:\n",
    "    system.energy += mm.Demag()#asymptotic_radius=16)"
   ],
   "outputs": [],
   "execution_count": null
  },
  {
   "cell_type": "markdown",
   "id": "a047b8ceb38a940",
   "metadata": {},
   "source": [
    "## 3.7. Uniaxial anisotropy"
   ]
  },
  {
   "cell_type": "code",
   "id": "766c1828ff809b03",
   "metadata": {},
   "source": [
    "K_1 = 6.2e4  # [J/m^3]\n",
    "K_2 = 0e5  # [J/m^3]\n",
    "\n",
    "# anisotropy axis\n",
    "aniso_axis = (0, 0, 1)"
   ],
   "outputs": [],
   "execution_count": null
  },
  {
   "cell_type": "code",
   "id": "fdb849ce0178276f",
   "metadata": {},
   "source": [
    "if energy_model.anisotropy:\n",
    "    system.energy += mm.UniaxialAnisotropy(K1=K_1,\n",
    "                                           K2=K_2,\n",
    "                                           u=aniso_axis)"
   ],
   "outputs": [],
   "execution_count": null
  },
  {
   "cell_type": "markdown",
   "id": "2831e02c7b0d07fe",
   "metadata": {},
   "source": [
    "## 3.8. Check our energy equation"
   ]
  },
  {
   "cell_type": "code",
   "id": "f1857ca91360892f",
   "metadata": {},
   "source": [
    "system.energy"
   ],
   "outputs": [],
   "execution_count": null
  },
  {
   "cell_type": "markdown",
   "id": "476849dddaae6682",
   "metadata": {},
   "source": [
    "# 4. Define the dynamics equation"
   ]
  },
  {
   "cell_type": "code",
   "id": "1c1dbfa24296abb2",
   "metadata": {},
   "source": [
    "system.dynamics = 0"
   ],
   "outputs": [],
   "execution_count": null
  },
  {
   "cell_type": "markdown",
   "id": "d4f4635c0400d5fb",
   "metadata": {},
   "source": [
    "## 4.1. Gilbert damping"
   ]
  },
  {
   "cell_type": "code",
   "id": "e381061deb178ded",
   "metadata": {},
   "source": [
    "alpha_bulk = 0.001\n",
    "alpha_driven = 0.01\n",
    "alpha_interfacial = 0.001"
   ],
   "outputs": [],
   "execution_count": null
  },
  {
   "cell_type": "code",
   "id": "12839c60c1a8ea8f",
   "metadata": {},
   "source": [
    "json_params['alpha_bulk'] = str(alpha_bulk)\n",
    "json_params['alpha_driven'] = str(alpha_driven)\n",
    "json_params['alpha_interfacial'] = str(alpha_interfacial)"
   ],
   "outputs": [],
   "execution_count": null
  },
  {
   "cell_type": "markdown",
   "id": "a81f2c68572de8c5",
   "metadata": {},
   "source": [
    "### 4.1.1. Create the damping regions via functors"
   ]
  },
  {
   "cell_type": "code",
   "id": "e9012209e7ccc2d6",
   "metadata": {},
   "source": [
    "absorbLhs = dar.AbsorbingExponentialAlpha(\n",
    "    region=dampingLhs,\n",
    "    edge_width=dampingLhs.pmax[0] - dampingLhs.pmin[0],\n",
    "    alpha_bulk=alpha_bulk\n",
    ")\n",
    "\n",
    "gradientL = dar.LinearGradientAlpha(\n",
    "    grad_region=gradientLhs,\n",
    "    p1=gradientLhs.pmin[0],\n",
    "    p2=gradientLhs.pmax[0],\n",
    "    alpha_left=alpha_bulk,\n",
    "    alpha_right=alpha_driven,\n",
    "    cell_size=main_cellsize\n",
    ")\n",
    "\n",
    "drive_only = dar.DrivenRegionAlpha(\n",
    "    region=driven,\n",
    "    alpha_driven=alpha_driven\n",
    ")\n",
    "\n",
    "gradientR = dar.LinearGradientAlpha(\n",
    "    grad_region=gradientRhs,\n",
    "    p1=gradientRhs.pmax[0],\n",
    "    p2=gradientRhs.pmin[0],\n",
    "    alpha_left=alpha_driven,\n",
    "    alpha_right=alpha_bulk,\n",
    "    cell_size=main_cellsize\n",
    ")\n",
    "\n",
    "absorbRhs = dar.AbsorbingExponentialAlpha(\n",
    "    region=dampingRhs,\n",
    "    edge_width=dampingRhs.pmax[0] - dampingRhs.pmin[0],\n",
    "    alpha_bulk=alpha_bulk,\n",
    "    reverse=True\n",
    ")"
   ],
   "outputs": [],
   "execution_count": null
  },
  {
   "cell_type": "markdown",
   "id": "c93dc10d33b415e4",
   "metadata": {},
   "source": [
    "### 4.1.2. Create containers for the damping regions' information\n",
    "We need a dictionary of the regions so we can define a submesh. We also need a list of the functors so we can obtain a single, unified function that can be passed to the damping field.\n"
   ]
  },
  {
   "cell_type": "code",
   "id": "618ce53e0c3c2453",
   "metadata": {},
   "source": [
    "damping_functors = {'absorbLhs': absorbLhs,\n",
    "                    'gradientL': gradientL,\n",
    "                    'driven_only': drive_only,\n",
    "                    'gradientR': gradientR,\n",
    "                    'absorbRhs': absorbRhs\n",
    "                    }\n",
    "\n",
    "damping_profiles = {'dampingLhs': dampingLhs,\n",
    "                    'gradientLhs': gradientLhs,\n",
    "                    'driven': driven,\n",
    "                    'gradientRhs': gradientRhs,\n",
    "                    'dampingRhs': dampingRhs\n",
    "                    }"
   ],
   "outputs": [],
   "execution_count": null
  },
  {
   "cell_type": "markdown",
   "id": "aaa220902513cef8",
   "metadata": {},
   "source": [
    "### 4.1.3. Create the damping field\n",
    "\n",
    "First we obtain a single callable function for the damping field to invoke."
   ]
  },
  {
   "cell_type": "code",
   "id": "1ac83f3cf924043a",
   "metadata": {},
   "source": [
    "alpha_full = dar.CompositeAlpha(\n",
    "    profiles=list(damping_functors.values()),\n",
    "    alpha_bulk=alpha_bulk\n",
    ")"
   ],
   "outputs": [],
   "execution_count": null
  },
  {
   "cell_type": "markdown",
   "id": "91f179371ade1ee7",
   "metadata": {},
   "source": [
    "To improve readability of the output JSON files, we create a separate mesh for the damping field. This is not strictly necessary, but it helps to clarify the output files."
   ]
  },
  {
   "cell_type": "code",
   "id": "6dd5502047cb490e",
   "metadata": {},
   "source": [
    "damping_mesh = df.Mesh(\n",
    "    region    = main_region,\n",
    "    cell      = main_mesh.cell,\n",
    "    subregions=damping_profiles\n",
    ")"
   ],
   "outputs": [],
   "execution_count": null
  },
  {
   "cell_type": "markdown",
   "id": "184c168092392c92",
   "metadata": {},
   "source": [
    "Finally, we are able to define the `df.Field` for damping, and add this to the system's dynamics."
   ]
  },
  {
   "cell_type": "code",
   "id": "b3b235718aae5287",
   "metadata": {},
   "source": [
    "alpha_field = df.Field(\n",
    "    mesh  = damping_mesh,\n",
    "    nvdim = 1,\n",
    "    value = alpha_full   # your CompositeAlpha(pos) → α\n",
    ")"
   ],
   "outputs": [],
   "execution_count": null
  },
  {
   "cell_type": "code",
   "id": "26392da974d6ac34",
   "metadata": {},
   "source": [
    "system.dynamics += mm.Damping(alpha=alpha_field)"
   ],
   "outputs": [],
   "execution_count": null
  },
  {
   "cell_type": "markdown",
   "id": "53599759bd0d8b04",
   "metadata": {},
   "source": [
    "### 4.1.4. Checks"
   ]
  },
  {
   "cell_type": "code",
   "id": "95af6eedb32c582b",
   "metadata": {},
   "source": [
    "if system.m.mesh.bc:\n",
    "    if isinstance(system.dynamics.damping.alpha, df.field.Field):\n",
    "        raise ValueError(f\"The damping field is a function of position, but the mesh has periodic boundary conditions. This may be an error!\")\n",
    "\n",
    "elif any(evolver_fixed_spins_list):\n",
    "    if isinstance(system.dynamics.damping.alpha, float | int):\n",
    "        raise ValueError(f'The damping field is a constant value of {system.dynamics.damping.alpha}, but the mesh does not have periodic boundary conditions. This is likely an error!')"
   ],
   "outputs": [],
   "execution_count": null
  },
  {
   "cell_type": "markdown",
   "id": "846e48ae5d6fdaf6",
   "metadata": {},
   "source": [
    "## 4.2. Precession\n",
    "\n",
    "Gyromagnetic ratio, $\\gamma_{0}$.\n",
    "\n",
    "If value is provided here then one MUST use gamma_G (not gamma_LL) when defining subsequent evolvers"
   ]
  },
  {
   "cell_type": "code",
   "id": "1c97ef777bcf97a",
   "metadata": {},
   "source": [
    "gamma0 = 28.2e9 * 2 * np.pi  # [rad*Hz/T]"
   ],
   "outputs": [],
   "execution_count": null
  },
  {
   "cell_type": "code",
   "id": "e9a42fd240853f27",
   "metadata": {},
   "source": [
    "system.dynamics += mm.Precession(gamma0=gamma0*mm.consts.mu0)"
   ],
   "outputs": [],
   "execution_count": null
  },
  {
   "cell_type": "markdown",
   "id": "d1716cfff8e273ee",
   "metadata": {},
   "source": [
    "## 4.3. Check our expression"
   ]
  },
  {
   "cell_type": "code",
   "id": "fa040310d3571a4a",
   "metadata": {},
   "source": [
    "system.dynamics"
   ],
   "outputs": [],
   "execution_count": null
  },
  {
   "cell_type": "code",
   "id": "6aa972adb7e3b9e4",
   "metadata": {},
   "source": [
    "energy_model.dmi"
   ],
   "outputs": [],
   "execution_count": null
  },
  {
   "cell_type": "markdown",
   "id": "2c10ba0815ddbd46",
   "metadata": {},
   "source": [
    "## 4.4. Check our dispersion relation"
   ]
  },
  {
   "cell_type": "code",
   "id": "8909fa9102a2e8c6",
   "metadata": {},
   "source": [
    "# Set range for wavevectors (not beyond first Brillouin zone at $\\pi/lattice_constant$\n",
    "kmax = 0.8 * 1e9\n",
    "mesh_numcells = [int(num_cells * cell_size * 1e9) for num_cells, cell_size in zip(system.m.mesh.n, main_cellsize)]\n",
    "ks = np.linspace(1e-10, kmax, round(mesh_numcells[0] / 2))\n",
    "ks_n = np.linspace(-kmax, 1e-10, round(mesh_numcells[0] / 2))\n",
    "\n",
    "# Plot figure\n",
    "fig1, ax1 = plt.subplots(figsize=(4.5, 3),\n",
    "                         nrows=1,\n",
    "                         ncols=1,\n",
    "                         layout='constrained')\n",
    "\n",
    "system_prop = csp.SystemProperties(length=main_region.pmax[0],\n",
    "                                   width=main_region.pmax[1],\n",
    "                                   thickness=main_region.pmax[2])\n",
    "\n",
    "for zeeman_strength_key, zeeman_strength_val in zeeman_static_dict.items():\n",
    "    dmi_strength = D_ij_gradient[zeeman_strength_key]\n",
    "\n",
    "    oms_g_ua = cdr.Omega_generalised_with_ua(system_prop,\n",
    "                                             max(zeeman_strength_val), sat_mag, exchange_stiffness, dmi_strength,\n",
    "                                             ks, main_cellsize[0],\n",
    "                                             K_1, K_2, aniso_axis,\n",
    "                                             gamma0 / (2 * np.pi * 1e9), p=1,\n",
    "                                             has_demag=energy_model.demag,\n",
    "                                             has_dmi=any(energy_model.dmi.values()),\n",
    "                                             has_aniso=energy_model.anisotropy)\n",
    "\n",
    "    oms_g_ua_n = cdr.Omega_generalised_with_ua(system_prop,\n",
    "                                               max(zeeman_strength_val), sat_mag, exchange_stiffness, dmi_strength,\n",
    "                                               ks_n, main_cellsize[0],\n",
    "                                               K_1, K_2, aniso_axis,\n",
    "                                               gamma0 / (2 * np.pi * 1e9), p=1,\n",
    "                                               has_demag=energy_model.demag,\n",
    "                                               has_dmi=any(energy_model.dmi.values()),\n",
    "                                               has_aniso=energy_model.anisotropy)\n",
    "\n",
    "    kittel_freq = min(min(oms_g_ua), min(oms_g_ua_n))\n",
    "\n",
    "    if zeeman_strength_key == 'chain':\n",
    "        plot_colour = 'purple'\n",
    "    else:\n",
    "        plot_colour = 'red'\n",
    "\n",
    "    ax1.plot(ks * 1e-9, oms_g_ua,\n",
    "             lw=2, ls='-',\n",
    "             color=plot_colour, alpha=0.75,\n",
    "             label=r'$f_{0}$'+f'({zeeman_strength_key}): {kittel_freq: .2f}',\n",
    "             zorder=1.2)\n",
    "\n",
    "    ax1.plot(ks_n * 1e-9, oms_g_ua_n,\n",
    "             lw=2, ls='-',\n",
    "             color=plot_colour, alpha=0.75,\n",
    "             zorder=1.2)\n",
    "\n",
    "ax1.axhline(y=driving_field_freq * 1e-9,\n",
    "            lw=2, ls='-',\n",
    "            color='blue', alpha=0.5,\n",
    "            label=r'$f_{d}$:' + f'{driving_field_freq*1e-9: .2f}',\n",
    "            zorder=1.98)\n",
    "\n",
    "ax1.set(title='Dispersion relation',\n",
    "        xlabel=r'Wavevector, $k$ (nm$^{-1}$)',\n",
    "        ylabel=r'Frequency, $f$ (GHz)',\n",
    "        xlim=(-0.15, 0.15),\n",
    "        ylim=(0, 40))\n",
    "\n",
    "ax1.legend(labelcolor='black')\n",
    "\n",
    "plt.show()"
   ],
   "outputs": [],
   "execution_count": null
  },
  {
   "cell_type": "markdown",
   "id": "9b38dfeface4f25f",
   "metadata": {},
   "source": [
    "# 5. Relaxation\n",
    "\n",
    "## 5.1. Drive the system"
   ]
  },
  {
   "cell_type": "markdown",
   "id": "51bb8eb041dc3b6",
   "metadata": {},
   "source": [
    "### 5.1.1. Define the minimisation evolver"
   ]
  },
  {
   "cell_type": "code",
   "id": "c42c1447fc3baf7a",
   "metadata": {},
   "source": [
    "min_evolver = oc.CGEvolver(method='Polak-Ribiere',\n",
    "                           fixed_spins=evolver_fixed_spins_list,\n",
    "                           #energy_precision=1e-10  # May need to increase for large systems\n",
    "                           )\n",
    "\n",
    "minD = oc.MinDriver(evolver=min_evolver,\n",
    "                    stopping_mxHxm=0.1\n",
    "                    )"
   ],
   "outputs": [],
   "execution_count": null
  },
  {
   "cell_type": "markdown",
   "id": "c5160c9aa7dcd59a",
   "metadata": {},
   "source": [
    "### 5.1.2. Apply the `TimeDriver`"
   ]
  },
  {
   "cell_type": "code",
   "id": "35d77e2fa04f5d6c",
   "metadata": {},
   "source": [
    "minD.drive(system,\n",
    "           dirname=data_output,\n",
    "           fixed_subregions=evolver_fixed_spins_list,\n",
    "           verbose=2\n",
    "           )"
   ],
   "outputs": [],
   "execution_count": null
  },
  {
   "cell_type": "markdown",
   "id": "c59130dd0daf7106",
   "metadata": {},
   "source": [
    "## 5.2. Display and save the output"
   ]
  },
  {
   "cell_type": "code",
   "id": "355c14007711c425",
   "metadata": {},
   "source": [
    "system_region = csp.MyRegions(system.name + \"_regions\")\n",
    "\n",
    "system_region.main(p1=tuple(main_region.pmin),\n",
    "                   p2=tuple(main_region.pmax),\n",
    "                   dims=tuple(main_region.dims),\n",
    "                   units=tuple(main_region.units)\n",
    "                   )\n",
    "\n",
    "system_region.mesh = system.m.mesh\n",
    "\n",
    "system_prop = csp.SystemProperties(length=main_region.pmax[0],\n",
    "                                   width=main_region.pmax[1],\n",
    "                                   thickness=main_region.pmax[2])\n",
    "\n",
    "# System mesh cell size\n",
    "system_prop.cell = tuple(main_cellsize)\n",
    "system_prop.units = ('m', 'm', 'm')\n",
    "system_prop.update_numcells()"
   ],
   "outputs": [],
   "execution_count": null
  },
  {
   "cell_type": "code",
   "id": "a15ee60dc3d00925",
   "metadata": {},
   "source": [
    "%%capture\n",
    "cip.default_three_pane(system=system,\n",
    "                       system_prop=system_prop,\n",
    "                       system_region=system_region,\n",
    "                       figs_output_dir=figs_output,\n",
    "                       drive_number=system.drive_number,\n",
    "                       fig_name='after_relaxation',\n",
    "                       has_schematic=False,\n",
    "                       #scalar_resample_shape=[256, 3],\n",
    "                       # vector_resample_shape=[16, 3]\n",
    "                       )"
   ],
   "outputs": [],
   "execution_count": null
  },
  {
   "cell_type": "markdown",
   "id": "e40280ee676ac7cc",
   "metadata": {},
   "source": [
    "# 6. Drive the system with the time-dependent field"
   ]
  },
  {
   "cell_type": "markdown",
   "id": "cd64c3a6f8f10d2f",
   "metadata": {},
   "source": [
    "## 6.1. Set temporal parameters"
   ]
  },
  {
   "cell_type": "code",
   "id": "46e560bfad5d469d",
   "metadata": {},
   "source": [
    "# Maximum time for simulation\n",
    "tmax = 10e-9  # [s]\n",
    "\n",
    "# num_datapoints = round(tmax / stepsize)  # Warning: can lead to very large output files!\n",
    "num_datapoints = 200\n",
    "\n",
    "# Spacing between saved outputs\n",
    "stepsize_between_datapoints = tmax / num_datapoints"
   ],
   "outputs": [],
   "execution_count": null
  },
  {
   "cell_type": "markdown",
   "id": "30078b3dae2f3409",
   "metadata": {},
   "source": [
    "## 6.2. Add time-dependent fields to the energy equation"
   ]
  },
  {
   "cell_type": "code",
   "id": "d583abae821e8373",
   "metadata": {},
   "source": [
    "if energy_model.driving_zeeman:\n",
    "    system.energy += energy_zeeman_drive"
   ],
   "outputs": [],
   "execution_count": null
  },
  {
   "cell_type": "markdown",
   "id": "4d6c17132c677dcc",
   "metadata": {},
   "source": [
    "### 6.2.1. Check the energy equation"
   ]
  },
  {
   "cell_type": "code",
   "id": "91dc6bc264454387",
   "metadata": {},
   "source": [
    "system.energy"
   ],
   "outputs": [],
   "execution_count": null
  },
  {
   "cell_type": "markdown",
   "id": "1791555daa0a1f9",
   "metadata": {},
   "source": [
    "## 6.3. Drive the system"
   ]
  },
  {
   "cell_type": "markdown",
   "id": "d688239cd95e9e45",
   "metadata": {},
   "source": [
    "### 6.3.1. Define the evolver"
   ]
  },
  {
   "cell_type": "code",
   "id": "d313e478898796c7",
   "metadata": {},
   "source": [
    "sim_evolver = oc.RungeKuttaEvolver(method='rkf54',\n",
    "                                   #alpha=alpha,  # Do not supply `alpha` here if already defined in `system.dynamics`\n",
    "                                   #gamma_G=gamma0*mm.consts.mu0,\n",
    "                                   # Driver may override timestep conditions if stopping_criteria are given\n",
    "                                   #min_timestep=0,  # Default: zero.\n",
    "                                   #max_timestep=stepsize,  # Default: 1e-10 [s].\n",
    "                                   fixed_spins=evolver_fixed_spins_list,\n",
    "                                   do_precess=1,\n",
    "                                   #energy_precision=1e-10,  # May need to increase for large systems\n",
    "                                   allow_signed_gamma=0,\n",
    "                                   )\n",
    "\n",
    "td = oc.TimeDriver(evolver=sim_evolver)"
   ],
   "outputs": [],
   "execution_count": null
  },
  {
   "cell_type": "markdown",
   "id": "811bc9b32326c0d2",
   "metadata": {},
   "source": [
    "### 6.3.2. Apply the `TimeDriver`\n",
    "\n",
    "It's at this point we pass our JSON parameters to the driver."
   ]
  },
  {
   "cell_type": "code",
   "id": "305cfa7ccad88ffe",
   "metadata": {},
   "source": [
    "td.drive(system,\n",
    "         t=tmax,\n",
    "         dirname=data_output,\n",
    "         n=num_datapoints,\n",
    "         n_threads=10,\n",
    "         fixed_subregions=evolver_fixed_spins_list,\n",
    "         verbose=2,\n",
    "         **json_params\n",
    "         )"
   ],
   "outputs": [],
   "execution_count": null
  },
  {
   "cell_type": "markdown",
   "id": "24c9dd26415fd7c2",
   "metadata": {},
   "source": [
    "## 6.4. Display and save the output"
   ]
  },
  {
   "cell_type": "code",
   "id": "2613425d1ea90f03",
   "metadata": {},
   "source": [
    "cip.default_three_pane(system=system,\n",
    "                       system_prop=system_prop,\n",
    "                       system_region=system_region,\n",
    "                       figs_output_dir=figs_output,\n",
    "                       drive_number=system.drive_number - 1,\n",
    "                       fig_name=f'driven_{system.drive_number - 1}',\n",
    "                       has_schematic=False)"
   ],
   "outputs": [],
   "execution_count": null
  },
  {
   "cell_type": "markdown",
   "id": "46d865e6e6061e1b",
   "metadata": {},
   "source": [
    "## 6.5. Breakpoint\n",
    "\n",
    "Pause here to check the initial data outputs before completing more advanced post-processing.\n",
    "\n",
    "This is also an appropriate place to add temporary debug lines to the code. Note that these should be deleted after debugging is complete."
   ]
  },
  {
   "cell_type": "code",
   "id": "f2ef38ddc7f42310",
   "metadata": {},
   "source": [
    "clicked_wait_button = False\n",
    "wait_button_output = widgets.Output()\n",
    "\n",
    "@wait_button_output.capture(clear_output=True, wait=True)\n",
    "def _on_click(btn):\n",
    "    global clicked_wait_button\n",
    "    clicked_wait_button = True\n",
    "    print('Moving on to post-processing')\n",
    "\n",
    "run_button = widgets.Button(\n",
    "    description='Press to continue',\n",
    "    button_style='info'\n",
    ")\n",
    "run_button.on_click(_on_click)\n",
    "display(run_button, wait_button_output)\n",
    "\n",
    "\n",
    "# Block here, process widget messages, but stop after 60 s\n",
    "timeout = 60  # seconds\n",
    "start = time.monotonic()\n",
    "with ui_events() as poll:\n",
    "    while not clicked_wait_button:\n",
    "        if time.monotonic() - start > timeout:\n",
    "            raise KeyboardInterrupt(\"User did not press the button. Kernel is still live.\")\n",
    "        poll(2)       # handle up to 2 pending UI events\n",
    "        time.sleep(0.5)\n",
    "\n",
    "del clicked_wait_button"
   ],
   "outputs": [],
   "execution_count": null
  },
  {
   "cell_type": "markdown",
   "id": "3d69e4548406f98",
   "metadata": {},
   "source": [
    "# 7. Post-processing"
   ]
  },
  {
   "cell_type": "markdown",
   "id": "30f3f2a78bf49ac0",
   "metadata": {},
   "source": [
    "## 7.1. Import data"
   ]
  },
  {
   "cell_type": "code",
   "id": "8d36bb505da6a4e8",
   "metadata": {},
   "source": [
    "try:\n",
    "    system.name\n",
    "except NameError:\n",
    "    system = mm.System(name='dmi_paper_validation')\n",
    "    system.drive_number = 4"
   ],
   "outputs": [],
   "execution_count": null
  },
  {
   "cell_type": "code",
   "id": "fe2f73698faf5e7f",
   "metadata": {},
   "source": [
    "m_all_data = md.Drive(name=system.name, dirname=data_output,\n",
    "                      number=system.drive_number - 1, use_cache=True)"
   ],
   "outputs": [],
   "execution_count": null
  },
  {
   "cell_type": "markdown",
   "id": "851f2e0ae063ae22",
   "metadata": {},
   "source": [
    "## 7.2. Extract required values while handling NameErrors"
   ]
  },
  {
   "cell_type": "code",
   "id": "5fa1a5fa6d38ebb2",
   "metadata": {},
   "source": [
    "try:\n",
    "    system_prop\n",
    "except NameError:\n",
    "\n",
    "    system_prop = csp.SystemProperties(length=m_all_data.m0.mesh.region.pmax[0],\n",
    "                                       width=m_all_data.m0.mesh.region.pmax[1],\n",
    "                                       thickness=m_all_data.m0.mesh.region.pmax[2])\n",
    "\n",
    "    # System mesh cell size\n",
    "    system_prop.cell = tuple(m_all_data.m0.mesh.cell)\n",
    "    system_prop.units = m_all_data.m0.mesh.region.units\n",
    "    system_prop.update_numcells()\n",
    "\n",
    "try:\n",
    "    sat_mag\n",
    "except NameError:\n",
    "    sat_mag = float(m_all_data.info['Saturation fields [A/m]'])\n",
    "\n",
    "try:\n",
    "    stepsize_between_datapoints\n",
    "except NameError:\n",
    "    stepsize_between_datapoints = m_all_data.table.data.t[0]\n"
   ],
   "outputs": [],
   "execution_count": null
  },
  {
   "cell_type": "code",
   "id": "96c7a221ac12586a",
   "metadata": {},
   "source": [
    "data_m0 = m_all_data.m0.to_xarray().values\n",
    "\n",
    "m_pos = [int(round(system_prop.width * 0.5 / system_prop.cell[1], 0)),\n",
    "         int(round(system_prop.thickness * 0.5 / system_prop.cell[2], 0))]\n",
    "\n",
    "data_mx0 = data_m0[:, m_pos[0], m_pos[1], 0] / sat_mag\n",
    "data_my0 = data_m0[:, m_pos[0], m_pos[1], 1] / sat_mag\n",
    "data_mz0 = data_m0[:, m_pos[0], m_pos[1], 2] / sat_mag\n",
    "\n",
    "data_mx = np.zeros((m_all_data.n, int(system_prop.numcells[0])))\n",
    "data_my = np.zeros((m_all_data.n, int(system_prop.numcells[0])))\n",
    "data_mz = np.zeros((m_all_data.n, int(system_prop.numcells[0])))\n",
    "\n",
    "m_data = m_all_data.to_xarray()\n",
    "\n",
    "for i, _ in enumerate(m_data):\n",
    "    data_mx[i] = (m_data[i, :, m_pos[0], m_pos[1], 0].values / sat_mag) - data_mx0\n",
    "    data_my[i] = (m_data[i, :, m_pos[0], m_pos[1], 1].values / sat_mag) - data_my0\n",
    "    data_mz[i] = (m_data[i, :, m_pos[0], m_pos[1], 2].values / sat_mag) - data_mz0"
   ],
   "outputs": [],
   "execution_count": null
  },
  {
   "cell_type": "code",
   "id": "43b5af0b29aa4ed6",
   "metadata": {},
   "source": [
    "%%capture\n",
    "# Prepare the meshgrid for 3D plot\n",
    "x = np.linspace(0, system_prop.length, data_mx.shape[1])\n",
    "z = np.linspace(0, system_prop.thickness, data_mx.shape[0])\n",
    "X, Z = np.meshgrid(x, z)\n",
    "Y = np.ones_like(X) * system_prop.width / 2  # y is fixed slice\n",
    "\n",
    "# Create a 3D plot\n",
    "fig = plt.figure()\n",
    "ax = fig.add_subplot(111, projection='3d')\n",
    "\n",
    "# Plot the surface\n",
    "surf = ax.plot_surface(X, Y,\n",
    "                       data_mx,\n",
    "                       cmap='viridis')  # data_mx as example\n",
    "\n",
    "# Add color bar to indicate the scale\n",
    "fig.colorbar(surf)\n",
    "\n",
    "# Customize the view angle\n",
    "ax.view_init(elev=30, azim=120)\n",
    "\n",
    "# Set labels\n",
    "ax.set_xlabel('Length')\n",
    "ax.set_ylabel('Width')\n",
    "ax.set_zlabel('Magnetization')"
   ],
   "outputs": [],
   "execution_count": null
  },
  {
   "cell_type": "markdown",
   "id": "5bbd1bb2caf694ad",
   "metadata": {},
   "source": [
    "## 7.3. Temporal evolution of the system"
   ]
  },
  {
   "cell_type": "code",
   "id": "9b699bd53b87043e",
   "metadata": {},
   "source": [
    "time_index = min(100, data_mx.shape[0])\n",
    "plt.plot(np.arange(0, system_prop.numcells[0] * (system_prop.cell[0] / 1e-9), system_prop.cell[0] / 1e-9),\n",
    "         data_mx[time_index-1, :], alpha=0.8, color='C1', label='OOMMF')\n",
    "#my_pos_times, y_pos_vals = np.loadtxt('/Users/cameronmceleney/pCloud Drive/test/data_se.txt')\n",
    "#plt.plot(my_pos_times, my_pos_vals[::-1], zorder=0.9, label='C++', color='C4')\n",
    "plt.gca().set(title=f'Drive: {m_all_data.info['drive_number']} | Time: {time_index * stepsize_between_datapoints / 1e-9: .3f} ns',\n",
    "              xlim=(1, system_prop.length * 1e9),\n",
    "              #ylim=(-0.002, 0.002),\n",
    "              xlabel='Distance (nm)', ylabel='Amplitude (a.u.)')\n",
    "plt.legend()\n",
    "plt.savefig(figs_output + '/drive-' + str(m_all_data.number) + f'_pos_{int(time_index * stepsize_between_datapoints * 1e9)}ns.png',\n",
    "            dpi=300, bbox_inches='tight')\n",
    "plt.show()"
   ],
   "outputs": [],
   "execution_count": null
  },
  {
   "cell_type": "code",
   "id": "c0a2af81ae9e3071",
   "metadata": {},
   "source": [
    " # Cell which acts as a breakpoint; 0/0 intentionally produces an error. Alternative is to utilise the 'raise' keyword\n",
    "#raise ValueError('Breakpoint')"
   ],
   "outputs": [],
   "execution_count": null
  },
  {
   "cell_type": "markdown",
   "id": "cbe6d4652fbe42ae",
   "metadata": {},
   "source": [
    "## 7.4. Spatial evolution of the system"
   ]
  },
  {
   "cell_type": "code",
   "id": "7b56a9e0f56fa358",
   "metadata": {},
   "source": [
    "pos_index_1 = 4000\n",
    "pos_index_2 = system_prop.numcells[0] - 1 - pos_index_1\n",
    "plt.plot(np.linspace(0, tmax-stepsize, num_datapoints)*1e9, data_mx[:, pos_index_1], alpha=0.8, color='C1', label=f'{pos_index_1: .0f}')\n",
    "plt.plot(np.linspace(0, tmax-stepsize, num_datapoints)*1e9, data_mx[:, pos_index_2], alpha=0.8, color='C4', label=f'{pos_index_2: .0f}')\n",
    "\n",
    "#my_times, my_vals = np.loadtxt('/Users/cameronmceleney/pCloud Drive/test/data.txt')\n",
    "#plt.plot(my_times[:], my_vals, zorder=0.9, color='C4', label='C++')\n",
    "plt.gca().set(title=f'Drive: {m_all_data.number}', xlim=(0, 5),\n",
    "              xlabel='Time (ns)', ylabel='Amplitude (a.u.)')\n",
    "plt.legend(title='Site from\\nLHS (nm)')\n",
    "\n",
    "plt.savefig(figs_output + '/drive-' + str(m_all_data.number) + f'_time_{pos_index_1}nm.png', dpi=300, bbox_inches='tight')"
   ],
   "outputs": [],
   "execution_count": null
  },
  {
   "cell_type": "markdown",
   "id": "fc08a8be8b527385",
   "metadata": {},
   "source": [
    "## Dispersion relation"
   ]
  },
  {
   "cell_type": "code",
   "id": "48d50587a9a79396",
   "metadata": {},
   "source": [
    "def Omega_generalised_with_ua(system_prop, H0, Ms, A, D, k, d, K1, K2, aniso_axis, gamma, p=1,\n",
    "                              has_demag=1, has_dmi=1, has_aniso=1):\n",
    "    J = 2 * A / (mm.consts.mu0 * Ms)\n",
    "    DM = -2 * D / (mm.consts.mu0 * Ms)\n",
    "\n",
    "    demag_factors = cpe.calculate_demag_factor_uniform_prism(system_prop.length - 2 * d,\n",
    "                                                             system_prop.width,\n",
    "                                                             system_prop.thickness)\n",
    "    # print(demag_factors)\n",
    "\n",
    "    #om = np.sqrt((H0 + J * (k ** 2) + has_demag * Ms * (demag_factors['N_x'] - demag_factors['N_z']))\n",
    "    #             * (H0 + J * (k ** 2) + has_aniso * ((4 * (aniso_axis[2] ** 2)) / (Ms * mm.consts.mu0)\n",
    "    #                                                 * (1 * K1 + 2 * K2 * (aniso_axis[2] ** 2)))\n",
    "    #                + has_demag * Ms * (demag_factors['N_y'] - demag_factors['N_z'])\n",
    "    #                )\n",
    "    #             + has_aniso * (4 * (aniso_axis[2] ** 4)) / (Ms ** 2 * mm.consts.mu0 ** 2)\n",
    "    #             * (4 * (K1**2) + 4 * K1 * K2 * (aniso_axis[2] ** 2) + 4 * (K2 ** 2) * (aniso_axis[2] ** 4))\n",
    "    #             )\n",
    "    om = np.sqrt((H0\n",
    "                  + J * (k ** 2)\n",
    "                  + has_aniso * ((2 * (aniso_axis[2] ** 2)) / (Ms * mm.consts.mu0) * (1 * K1 + 2 * K2 * (aniso_axis[2] ** 2)))\n",
    "                  + has_demag * Ms * (demag_factors['N_x'] - demag_factors['N_z']))\n",
    "                 * (H0\n",
    "                    + J * (k ** 2)\n",
    "                    + has_aniso * ((2 * (aniso_axis[2] ** 2)) / (Ms * mm.consts.mu0) * (1 * K1 + 2 * K2 * (aniso_axis[2] ** 2)))\n",
    "                    + has_demag * Ms * (demag_factors['N_y'] - demag_factors['N_z'])\n",
    "                )\n",
    "             )\n",
    "\n",
    "    om += has_dmi * p * DM * k\n",
    "\n",
    "    # the mu0 factor shown in the paper is not necessary if we use gamma\n",
    "    # in Hz / (A / m)\n",
    "    om *= (gamma * mm.consts.mu0)\n",
    "\n",
    "    return om"
   ],
   "outputs": [],
   "execution_count": null
  },
  {
   "cell_type": "code",
   "id": "1c458bbc636bd922",
   "metadata": {},
   "source": [
    "kmax = 0.8 * 1e9\n",
    "ks = np.linspace(1e-10, kmax, int(round(system_prop.numcells[0] / 2)))\n",
    "ks_n = np.linspace(-kmax, 1e-10, int(round(system_prop.numcells[0] / 2)))"
   ],
   "outputs": [],
   "execution_count": null
  },
  {
   "cell_type": "code",
   "id": "ddf80dc0a482eda5",
   "metadata": {},
   "source": [
    "\n",
    "# Moon Eq. (12)\n",
    "#oms = cdr.Omega_Moon(zeeman_static[2], sat_mag, exchange_stiffness, D_ij, ks, 1e-9, gamma0 / (2 * np.pi * 1e9), p=1, demag=1, has_dmi=1)\n",
    "#oms_n = cdr.Omega_Moon(zeeman_static[2], sat_mag, exchange_stiffness, D_ij, ks_n, 1e-9, gamma0 / (2 * np.pi * 1e9), p=1, demag=1, has_dmi=1)\n",
    "#\n",
    "## Moon Eq. (14)\n",
    "#oms_l = cdr.Omega_Moon_large_k(zeeman_static[2], sat_mag, exchange_stiffness, D_ij, ks, 1e-9, gamma0 / (2 * np.pi * 1e9), p=1, demag=1, has_dmi=1)\n",
    "#oms_l_n = cdr.Omega_Moon_large_k(zeeman_static[2], sat_mag, exchange_stiffness, D_ij, ks_n, 1e-9, gamma0 / (2 * np.pi * 1e9), p=1, demag=1, has_dmi=1)\n",
    "#\n",
    "## Moon Eq. (16)\n",
    "#oms_s = cdr.Omega_Moon_small_k(zeeman_static[2], sat_mag, exchange_stiffness, D_ij, ks, 1e-9, gamma0 / (2 * np.pi * 1e9), p=1, demag=1, has_dmi=1)\n",
    "#oms_s_n = cdr.Omega_Moon_small_k(zeeman_static[2], sat_mag, exchange_stiffness, D_ij, ks_n, 1e-9, gamma0 / (2 * np.pi * 1e9), p=1, demag=1, has_dmi=1)\n",
    "#\n",
    "## Custom dispersion relation\n",
    "#oms_c = cdr.Omega_Moon_custom(zeeman_static[2], sat_mag, exchange_stiffness, D_ij, ks, 1e-9, gamma0 / (2 * np.pi * 1e9), p=1, demag=1, has_dmi=1)\n",
    "#oms_c_n = cdr.Omega_Moon_custom(zeeman_static[2], sat_mag, exchange_stiffness, D_ij, ks_n, 1e-9, gamma0 / (2 * np.pi * 1e9), p=1, demag=1, has_dmi=1)"
   ],
   "outputs": [],
   "execution_count": null
  },
  {
   "cell_type": "code",
   "id": "3d88d0b24b47a3de",
   "metadata": {},
   "source": [
    "# Custom dispersion relation\n",
    "oms_g = cdr.Omega_generalised_with_ua(system_prop,\n",
    "                                         zeeman_static_strength[2], sat_mag, exchange_stiffness, D_ij,\n",
    "                                         ks, system_prop.cell[0],\n",
    "                                         K_1, K_2, aniso_axis,\n",
    "                                         gamma0 / (2 * np.pi * 1e9), p=1,\n",
    "                                         has_demag=1, has_dmi=1, has_aniso=1)\n",
    "oms_g_n = cdr.Omega_generalised_with_ua(system_prop,\n",
    "                                           zeeman_static_strength[2], sat_mag, exchange_stiffness, D_ij,\n",
    "                                           ks_n, system_prop.cell[0],\n",
    "                                           K_1, K_2, aniso_axis,\n",
    "                                           gamma0 / (2 * np.pi * 1e9), p=1,\n",
    "                                           has_demag=1, has_dmi=1, has_aniso=1)\n",
    "\n",
    "times = m_data['t'].values\n",
    "x = m_data['x'].values\n",
    "\n",
    "# Create Hanning windows\n",
    "times_filter = np.hanning(len(times))\n",
    "x_filter = np.hanning(len(x))\n",
    "\n",
    "# Apply the Hanning window to the data\n",
    "window = np.outer(times_filter, x_filter)\n",
    "data_mx_windowed = data_mx * window\n",
    "\n",
    "fft_data = np.fft.fft2(data_mx_windowed)\n",
    "fft_data = abs(np.fft.fftshift(fft_data))\n",
    "log_fft_data = np.log10(fft_data**2)\n",
    "\n",
    "freqs = np.fft.fftfreq(n=len(times), d=(times[1] - times[0])) * 1e-9\n",
    "freqs = np.fft.fftshift(freqs)\n",
    "\n",
    "k = np.fft.fftfreq(n=len(x), d=(x[1] - x[0])) * 1e-9\n",
    "k = np.fft.fftshift(k) * 2 * np.pi\n",
    "\n",
    "fig5, ax = plt.subplots(nrows=1, ncols=1)\n",
    "ax.imshow(log_fft_data, extent=[k[0], k[-1], freqs[0], freqs[-1]],\n",
    "          vmin=log_fft_data.min() / 10, vmax=log_fft_data.max(),\n",
    "          aspect='auto', interpolation='none',\n",
    "          cmap='magma')\n",
    "\n",
    "#ax.plot(ks * 1e-9, oms, lw=2, ls='--', color='white', alpha=0.5, label='Theory (Moon)')\n",
    "#ax.plot(ks_n * 1e-9, oms_n, lw=2, ls='--', alpha=0.5, color='white')\n",
    "\n",
    "#ax.plot(ks * 1e-9, oms_l, lw=2, ls='-.', color='lightgreen', alpha=0.5, label='Theory (Large k)')\n",
    "#ax.plot(ks_n * 1e-9, oms_l_n, lw=2, ls='-.', alpha=0.5, color='lightgreen')\n",
    "\n",
    "#ax.plot(ks * 1e-9, oms_s, lw=2, ls='-.', color='orange', alpha=1, label='Theory (Small k)')\n",
    "#ax.plot(ks_n * 1e-9, oms_s_n, lw=2, ls='-.', alpha=1, color='orange')\n",
    "\n",
    "#ax.plot(ks * 1e-9, oms_c, lw=2, ls=':', color='lightblue', alpha=1, label='Theory (Custom)')\n",
    "#ax.plot(ks_n * 1e-9, oms_c_n, lw=2, ls='-.', alpha=1, color='lightblue')\n",
    "\n",
    "ax.plot(ks * 1e-9, oms_g, lw=2, ls='-.', color='yellow', alpha=0.75, label='Theory (Ubermag)')\n",
    "ax.plot(ks_n * 1e-9, oms_g_n, lw=2, ls='-.', alpha=0.75, color='yellow')\n",
    "\n",
    "# Load the arrays from the .npz file\n",
    "#data = np.load('/Users/cameronmceleney/Data/2024-07-29/data.npz')\n",
    "#ksc = data['ks']\n",
    "#ksc_n = data['ks_n']\n",
    "#omsc_g = data['oms_g']\n",
    "#omsc_g_n = data['oms_g_n']\n",
    "\n",
    "#ax.plot(ksc * 1e-9, omsc_g, ls='-.', color='purple', alpha=0.75, label='Theory (C++)')\n",
    "#ax.plot(ksc_n * 1e-9, omsc_g_n, ls='-.', alpha=0.75, color='purple')\n",
    "\n",
    "ax.set(xlabel=r'Wavevector, $k$ (nm$^{-1}$)', ylabel=r'Frequency, $f$ (GHz)',\n",
    "       xlim=(-0.15, 0.15),\n",
    "       ylim=(0, 40)\n",
    "       )\n",
    "\n",
    "\n",
    "#handles, labels = ax.get_legend_handles_labels()\n",
    "#blacks = matplotlib.patches.Patch(color='purple', label='OOMMf')\n",
    "#ax.legend(handles=[handles[0], blacks])\n",
    "ax.legend(labelcolor='white')\n",
    "plt.savefig(figs_output + '/drive-' + str(system.drive_number - 1) + '_dispersion_relation.png', dpi=300, bbox_inches='tight')\n"
   ],
   "outputs": [],
   "execution_count": null
  },
  {
   "cell_type": "code",
   "id": "951e5399fc8c49ed",
   "metadata": {},
   "source": [
    "fig_fft, fig_fft_axes = plt.subplot_mosaic(mosaic=[['k-space', 'k-space'],\n",
    "                                          ['freq-space-lhs', 'freq-space-rhs']],\n",
    "                                  figsize=(12, 8),\n",
    "                                  gridspec_kw={'width_ratios': (1, 1),\n",
    "                                               'height_ratios': (1, 1),\n",
    "                                               'wspace': 0.0,\n",
    "                                               'hspace': 0.0},\n",
    "                                  layout='constrained',\n",
    "                                  facecolor='lightgrey'\n",
    "                                  )\n",
    "\n",
    "fig_fft.suptitle(f'Drive: {m_all_data.number}', fontsize=20)\n",
    "\n",
    "for i in range(1, int(tmax * 1e9)+1):\n",
    "    fig_fft_axes['k-space'].plot(k, log_fft_data[i * 1000 - 1, :], label=f'{i}')\n",
    "fig_fft_axes['k-space'].set(title=f'FFT across full spin chain',\n",
    "              xlabel='Wavevector',\n",
    "              ylabel='Amplitude (log)',\n",
    "              xlim=[-0.2, 0.2])\n",
    "fig_fft_axes['k-space'].legend(title='Sim. time (ns)', ncols=2)\n",
    "\n",
    "for fft_pos_index in range(300, 2101, 300):\n",
    "     fig_fft_axes['freq-space-lhs'].plot(freqs, log_fft_data[:, fft_pos_index], #label=f'{fft_pos_index * system_prop.cell[0] * 1e9 * 2: .0f}')\n",
    "                                         label=f'{fft_pos_index * system_prop.cell[0] * 1e9: .0f}')\n",
    "fig_fft_axes['freq-space-lhs'].set(title=f'FFT at single site',\n",
    "              xlabel='Frequency (GHz)',\n",
    "              ylabel='Amplitude (log)',\n",
    "              xlim=[0, 40])\n",
    "fig_fft_axes['freq-space-lhs'].axvline(x=driving_field_freq*1e-9, color='black', zorder=1.1, alpha=0.75,\n",
    "                                       label=f'Driving freq: {driving_field_freq*1e-9:.2f} GHz')\n",
    "\n",
    "fig_fft_axes['freq-space-lhs'].legend(title='Site (nm)', ncols=2, loc='upper right')\n",
    "\n",
    "\n",
    "for fft_pos_index in range(4100, 2299, -300):\n",
    "    fig_fft_axes['freq-space-rhs'].plot(freqs, log_fft_data[:, fft_pos_index], #label=f'{fft_pos_index * system_prop.cell[0] * 1e9 * 2: .0f}')\n",
    "                                        label=f'{fft_pos_index * system_prop.cell[0] * 1e9: .0f}')\n",
    "fig_fft_axes['freq-space-rhs'].set(title=f'FFT at single site',\n",
    "              xlabel='Frequency (GHz)',\n",
    "              ylabel='Amplitude (log)',\n",
    "              xlim=[0, 40])\n",
    "fig_fft_axes['freq-space-rhs'].axvline(x=driving_field_freq*1e-9, color='black', zorder=1.1, alpha=0.75,\n",
    "                                        label=f'Driving freq: {driving_field_freq*1e-9:.2f} GHz')\n",
    "fig_fft_axes['freq-space-rhs'].legend(title='Site (nm)', ncols=2, loc='upper right')\n",
    "\n",
    "plt.savefig(figs_output + '/drive-' + str(m_all_data.number) + '_fft_mosaic.png', dpi=300, bbox_inches='tight')"
   ],
   "outputs": [],
   "execution_count": null
  },
  {
   "cell_type": "code",
   "id": "18233a734a00a498",
   "metadata": {},
   "source": [
    "fig, ax = plt.subplots(figsize=(5, 5), nrows=1, ncols=1)\n",
    "#for fft_pos_index in range(300, 2101, 300):\n",
    "for fft_pos_index in [4402]:\n",
    "     ax.plot(k, log_fft_data[time_index-1, :], #label=f'{fft_pos_index * system_prop.cell[0] * 1e9 * 2: .0f}')\n",
    "                                         label=f'left')\n",
    "ax.set(title=f'FFT at single site',\n",
    "              xlabel='Wavevector (nm^-1)',\n",
    "              ylabel='Amplitude (log)',\n",
    "       )\n",
    "\n",
    "\n",
    "\n",
    "ax.legend(title='Site (nm)', ncols=1)"
   ],
   "outputs": [],
   "execution_count": null
  },
  {
   "cell_type": "code",
   "id": "36a13ca3344da59b",
   "metadata": {},
   "source": [
    "import scipy as sp\n",
    "import numpy as np\n",
    "\n",
    "def _fft_data(input_data, spatial_spacing: bool | float = None, fft_window: str = False):\n",
    "    \"\"\"\n",
    "    Computes the discrete Fourier transform (DFT) of a given 1-D signal using FFT algorithms.\n",
    "\n",
    "    Regarding the returned `dft_samples`, if the `input_data` contains:\n",
    "        - spatial information then dft_samples will represent 'wavevectors', and be in units of inverse-length.\n",
    "        - temporal information then dft_samples will represent 'frequencies', and be in units of Hz.\n",
    "\n",
    "    Regarding the returned `discrete_fourier_transform`, it will contain the magnitudes of the DFT results. It will\n",
    "    be the absolute value of the DFT results; caution if the phase information is needed for subsequent analysis.\n",
    "\n",
    "    :param input_data: Magnitudes of a magnetic moment components for a given axis.\n",
    "    :param spatial_spacing: The lattice constant for the system for spatial data.\n",
    "    :param fft_window: Apply a window to the data before taking the FFT; default is a Hann window.\n",
    "\n",
    "    :return: A tuple containing the sample frequencies [0] and DFT results [1].\n",
    "    \"\"\"\n",
    "\n",
    "    # Pad the data to greatly improve efficiency of the FFT computation\n",
    "    n_total = input_data.size\n",
    "\n",
    "    n_total_padded = sp.fft.next_fast_len(n_total)\n",
    "\n",
    "    # Find the bin size\n",
    "    if spatial_spacing is None:\n",
    "        # For temporal: divide the simulated time into equally sized segments based upon the number of data-points.\n",
    "        sample_spacing = (tmax / (num_datapoints - 1))\n",
    "    else:\n",
    "        # For spatial: division of lattice is already known with the lattice constant\n",
    "        sample_spacing = spatial_spacing\n",
    "\n",
    "    # Data for DFT (create copy to avoid modifying original data)\n",
    "    data_to_process = input_data\n",
    "\n",
    "    # Select a window for the FFT.\n",
    "    if fft_window is not None:\n",
    "        if isinstance(fft_window, str):\n",
    "            # For valid windows, see https://docs.scipy.org/doc/scipy/reference/signal.windows.html\n",
    "            if fft_window == 'bb':\n",
    "                window = 1\n",
    "            else:\n",
    "                window_func = getattr(sp.signal.windows, fft_window, \"hann\")\n",
    "                window = window_func(n_total)\n",
    "        elif callable(fft_window):\n",
    "            # Incase the user wants a custom window function\n",
    "            window = sp.signal.fft_window(n_total)\n",
    "        else:\n",
    "            # Default case\n",
    "            window = sp.signal.windows.hann(n_total)\n",
    "\n",
    "        # *= doesn't work here for some reason without breaking subplots\n",
    "        data_to_process = data_to_process * window\n",
    "\n",
    "    # Perform the FFT\n",
    "    discrete_fourier_transform = sp.fft.fft(data_to_process, n_total_padded)\n",
    "\n",
    "    # Samples from the DFT.\n",
    "    dft_samples = sp.fft.fftfreq(n_total_padded, sample_spacing)\n",
    "\n",
    "    # Always skip the DC component at y[0] as I don't need the signal's mean value\n",
    "    if n_total_padded % 2 == 0:\n",
    "        # For N even, the elements `y = [1, N / 2 -1]` contain the positive-frequency terms with the final\n",
    "        # element `y = N / 2` containing the Nyquist frequency\n",
    "        positive_wavevector_indices = slice(1, n_total_padded // 2)\n",
    "    else:\n",
    "        # For N odd, the elements `y = [1, (N - 1) / 2]` contain the positive-frequency terms\n",
    "        positive_wavevector_indices = slice(1, (n_total_padded + 1) // 2)\n",
    "\n",
    "    # Only want positive wavevectors and their corresponding fourier transform. Must take absolute value of DFT.\n",
    "    discrete_fourier_transform = np.abs(discrete_fourier_transform[positive_wavevector_indices])\n",
    "    dft_samples = dft_samples[positive_wavevector_indices]\n",
    "\n",
    "    return dft_samples, discrete_fourier_transform"
   ],
   "outputs": [],
   "execution_count": null
  },
  {
   "cell_type": "code",
   "id": "9de96c5d0a2f72a",
   "metadata": {},
   "source": [
    "cdr.Omega_generalised_with_ua(system_prop,\n",
    "                              zeeman_static_strength[2], sat_mag, exchange_stiffness, D_ij,\n",
    "                              0.075e9, system_prop.cell[0],\n",
    "                              K_1, K_2, aniso_axis,\n",
    "                              gamma0 / (2 * np.pi * 1e9), p=1,\n",
    "                              has_demag=1, has_dmi=1, has_aniso=1)"
   ],
   "outputs": [],
   "execution_count": null
  },
  {
   "cell_type": "code",
   "id": "a16454e375a68141",
   "metadata": {},
   "source": [
    "#k_lines_arr = np.array([ 0.0517, -0.0334,  0.0736, -0.0522,  0.0978, -0.0734,  0.1053,\n",
    "#       -0.0802,  0.1261, -0.0993,  0.1317, -0.1046,  0.1554, -0.1271,\n",
    "#        0.1807, -0.1516,  0.1857, -0.1564,  0.2099, -0.1802,  0.2331,\n",
    "#       -0.2031,  0.2404, -0.2103,])\n",
    "#k_lines_arr_bal = np.array([\n",
    "#    0.06400, -0.04390, 0.08540, -0.06240, 0.12120, -0.09480, 0.17430, -0.14530, 0.19580, -0.16640,\n",
    "#    0.22820, -0.19820,\n",
    "#])\n",
    "#k_lines_unknown = np.array([\n",
    "#    0.04, 0.14\n",
    "#])"
   ],
   "outputs": [],
   "execution_count": null
  },
  {
   "cell_type": "code",
   "id": "a6ff33d90e4dcfd6",
   "metadata": {},
   "source": [
    "#k_lines_arr = np.array(\n",
    "#    [\n",
    "#    #0.07300, -0.05160,\n",
    "#\t#0.09670, -0.07240,\n",
    "#\t#0.12570, -0.09890,\n",
    "#\t#0.15720,  -0.12880,\n",
    "#\t#0.18070,  -0.15160,\n",
    "#\t#0.20990,  -0.18020,\n",
    "#\t#0.23070,  -0.20070,\n",
    "#])\n",
    "#k_lines_arr_bal = np.array([\n",
    "#                            #0.07295, -0.05160,\n",
    "#                            #0.10450, -0.07945,\n",
    "#                            #0.13205, -0.10490,\n",
    "#                            #0.15720, -0.12880,\n",
    "#                            #0.18840, -0.15910,\n",
    "#                            #0.20990, -0.18015,\n",
    "#                            #0.24035, -0.21025,\n",
    "#])\n",
    "#k_lines_unknown = np.array([\n",
    "#                            0.04000, -0.02350,\n",
    "#                            0.05960, -0.04020,\n",
    "#                            0.09010, -0.06650,\n",
    "#                            0.12120, -0.09480,\n",
    "#                            0.14060,  -0.11300,\n",
    "#                            0.17425, -0.14530,\n",
    "#                            0.19290,  -0.16350,\n",
    "#                            0.22570,  -0.19570,\n",
    "#                            ])"
   ],
   "outputs": [],
   "execution_count": null
  },
  {
   "cell_type": "code",
   "id": "c7e7e40ecc5c3639",
   "metadata": {},
   "source": [
    "#_lines_arr = np.array([\n",
    "#                       #0.03075, #-0.01550,\n",
    "#                       #0.05080, #-0.03270,\n",
    "#                       #0.07935, #-0.05710,\n",
    "#                       #0.10450, #-0.07945,\n",
    "#                       #0.12780, #-0.10095,\n",
    "#                       #0.15720, #-0.12880,\n",
    "#                       #0.18065, #-0.15155,\n",
    "#                       #0.20990, #-0.18015,\n",
    "#                       #0.23310, #-0.20310,\n",
    "#                       -0.109, 0.129  # 22.5 GHz\n",
    "#)\n",
    "#_lines_arr_bal = np.array([\n",
    "#                           #0.03075, #-0.01550,\n",
    "#                           #0.06255, #-0.04265,\n",
    "#                           #0.08830, #-0.06500,\n",
    "#                           #0.12120, #-0.09480,\n",
    "#                           #0.14985, #-0.12180,\n",
    "#                           #0.17590, #-0.14690,\n",
    "#                           #0.20015, #-0.17060,\n",
    "#                           #0.23065, #-0.20065,\n",
    "#                           #0.25870, #-0.22845,\n",
    "#                           -0.129, 0.157  # 30GHz\n",
    "#)\n",
    "#_lines_unknown = np.array([\n",
    "#                          # 0.063, -0.04 , # 10\n",
    "#                          # 0.169, -0.14, # 33\n",
    "#                          # 0.04,  -0.024, # 7.8\n",
    "#                          # 0.14,  -0.113, # 25.45\n",
    "#                           #-0.04, 0.059, # 10\n",
    "#                           #-0.14, 0.169, # 33\n",
    "#                           #0.04, -0.024, # 7.8\n",
    "#                           #0.14, -0.113, # 25.45\n",
    "#                           #0.18, -0.15, # 36.6\n",
    "#                           #0.094, -0.74, # 15.4\n",
    "\n",
    "#                           #0.13, 0.124,#?\n",
    "#                           #-0.103, 0.158\n",
    "#                           -0.079, 0.109 , # 17.6\n",
    "#   0.04\n",
    "\n",
    "\n",
    "#                                       ])"
   ],
   "outputs": [],
   "execution_count": null
  },
  {
   "cell_type": "code",
   "id": "139f574d0ec95b",
   "metadata": {},
   "source": [
    "fig, (ax1, ax2) = plt.subplots(figsize=(10, 3), nrows=1, ncols=2)\n",
    "fig.suptitle(f'Drive: {m_all_data.number}', fontsize=20)\n",
    "freq_loc_1 = pos_index_1\n",
    "freq_loc_2 = pos_index_2\n",
    "frequencies1, fourier_transform_freq1 = _fft_data(input_data=data_mx[:, freq_loc_1],\n",
    "                                    fft_window='bb')\n",
    "frequencies2, fourier_transform_freq2 = _fft_data(input_data=data_mx[:, freq_loc_2],\n",
    "                                     fft_window='bb')\n",
    "frequencies1 *= 1e-9\n",
    "frequencies2 *= 1e-9\n",
    "\n",
    "#for fft_pos_index in range(300, 2101, 300):\n",
    "ax1.plot(frequencies1, fourier_transform_freq1,\n",
    "       label=f'Site: {freq_loc_1}')\n",
    "\n",
    "ax1.plot(frequencies2, fourier_transform_freq2,\n",
    "         label=f'Site: {freq_loc_2}')\n",
    "\n",
    "ax1.set(title=f'FFT at single site',\n",
    "              xlabel='Frequency (GHz)',\n",
    "              ylabel='Amplitude (log)',\n",
    "              xlim=[0, 40])\n",
    "\n",
    "ax1.axvline(x=driving_field_freq*1e-9, color='black', zorder=1.1, alpha=0.75,\n",
    "            label=f'f_drive: {driving_field_freq*1e-9:.2f} GHz')\n",
    "\n",
    "\n",
    "#for fft_pos_index in range(4100, 2299, -300):\n",
    "\n",
    "\n",
    "ax1.legend(title='Site (nm)', ncols=1)\n",
    "\n",
    "###\n",
    "wavevectors1, fourier_transform_k1 = _fft_data(input_data=data_mx[time_index-1, 600:4002],\n",
    "                                    spatial_spacing=1e-9, fft_window='bb')\n",
    "wavevectors2, fourier_transform_k2 = _fft_data(input_data=data_mx[time_index-1, 4802:8204],\n",
    "                                    spatial_spacing=1e-9, fft_window='bb')\n",
    "wavevectors1 *= 1e-9 * 2 * np.pi\n",
    "wavevectors2 *= 1e-9 * 2 * np.pi\n",
    "\n",
    "ax2.plot(wavevectors1, fourier_transform_k1,\n",
    "           lw=1.5, marker='', markerfacecolor='black', markeredgecolor='black',\n",
    "           label=f\"Left of drive - no dmi\")\n",
    "ax2.plot(wavevectors2, fourier_transform_k2,\n",
    "           lw=1.5, marker='', markerfacecolor='black', markeredgecolor='black',\n",
    "           label=f\"Right of drive - no dmi\")\n",
    "ax2.set(title=\"FFT across whole chain\",\n",
    "    xlabel=f\"Wavevector, $k$\", ylabel=f\"Intensity (a.u.)\", yscale='log',\n",
    "       xlim=(0, 0.3))\n",
    "#ax.axvline(x=9.2)\n",
    "ax2.legend()"
   ],
   "outputs": [],
   "execution_count": null
  },
  {
   "cell_type": "code",
   "id": "69b2676b3ebd06ff",
   "metadata": {},
   "source": [
    "# Cell which acts as a breakpoint; 0/0 intentionally produces an error. Alternative is to utilise the 'raise' keyword\n",
    "raise ValueError('Breakpoint')"
   ],
   "outputs": [],
   "execution_count": null
  },
  {
   "cell_type": "code",
   "id": "18d703929e14d411",
   "metadata": {},
   "source": [
    "kmax = 0.8 * 1e9\n",
    "ks = np.linspace(1e-10, kmax, int(round(system_prop.numcells[0] / 2)))\n",
    "ks_n = np.linspace(-kmax, 1e-10, int(round(system_prop.numcells[0] / 2)))\n",
    "\n",
    "\n",
    "oms_g = Omega_generalised(system_prop, zeeman_static[2], sat_mag, exchange_stiffness, D_ij, ks, 1e-9, gamma0 / (2 * np.pi * 1e9), p=1, has_demag=1, has_dmi=1)\n",
    "oms_g_n = Omega_generalised(system_prop, zeeman_static[2], sat_mag, exchange_stiffness, D_ij, ks_n, 1e-9, gamma0 / (2 * np.pi * 1e9), p=1, has_demag=1, has_dmi=1)\n",
    "\n",
    "# Custom dispersion relation\n",
    "oms_g_ua = cdr.Omega_generalised_with_ua(system_prop, zeeman_static[2], sat_mag, exchange_stiffness, D_ij, ks,\n",
    "                                         1e-9, K_1, K_2, aniso_axis,\n",
    "                                         gamma0 / (2 * np.pi * 1e9), p=1, has_demag=1, has_dmi=1, has_aniso=1)\n",
    "oms_g_ua_n = cdr.Omega_generalised_with_ua(system_prop, zeeman_static[2], sat_mag, exchange_stiffness, D_ij, ks_n,\n",
    "                                       1e-9, K_1, K_2, aniso_axis, gamma0 / (2 * np.pi * 1e9), p=1, has_demag=1, has_dmi=1, has_aniso=1)\n",
    "\n",
    "oms_g_n_ua = cdr.Omega_generalised_with_ua(system_prop, zeeman_static[2], sat_mag, exchange_stiffness, D_ij, ks,\n",
    "                                     1e-9, 0, 0, aniso_axis, gamma0 / (2 * np.pi * 1e9), p=1, has_demag=1, has_dmi=1, has_aniso=1)\n",
    "oms_g_n_ua_n = cdr.Omega_generalised_with_ua(system_prop, zeeman_static[2], sat_mag, exchange_stiffness, D_ij, ks_n,\n",
    "                                       1e-9, 0, 0, aniso_axis, gamma0 / (2 * np.pi * 1e9), p=1, has_demag=1, has_dmi=1, has_aniso=1)\n",
    "\n",
    "fig5, ax = plt.subplots(nrows=1, ncols=1)\n",
    "\n",
    "ax.plot(ks * 1e-9, oms_g_ua, lw=2, ls='-', color='purple', alpha=0.75,\n",
    "        label='Theory', zorder=1.99)\n",
    "ax.plot(ks_n * 1e-9, oms_g_ua_n, lw=2, ls='-', alpha=0.75, color='purple',\n",
    "        zorder=1.99)\n",
    "\n",
    "#ax.plot(ks * 1e-9, oms_g_n_ua, lw=2, ls='--', color='red', alpha=0.75,\n",
    "#        label='Theory (New equation - no anisotropy)', zorder=1.98)\n",
    "#ax.plot(ks_n * 1e-9, oms_g_n_ua_n, lw=2, ls='--', alpha=0.75, color='red',\n",
    "#        zorder=1.99)\n",
    "\n",
    "#ax.plot(ks * 1e-9, oms_g, lw=2, ls='-', color='blue', alpha=0.75,\n",
    "#        label='Theory (Old equation - no anisotropy)', zorder=1.97)\n",
    "#ax.plot(ks_n * 1e-9, oms_g_n, lw=2, ls='-', alpha=0.75, color='blue',\n",
    "#        zorder=1.97)\n",
    "\n",
    "ax.set(xlabel=r'Wavevector, $k$ (nm$^{-1}$)', ylabel=r'Frequency, $f$ (GHz)',\n",
    "       xlim=(-0.15, 0.15),\n",
    "       ylim=(0, 40)\n",
    "       )\n",
    "ax.legend(labelcolor='black')\n",
    "\n",
    "plt.show()"
   ],
   "outputs": [],
   "execution_count": null
  }
 ],
 "metadata": {
  "kernelspec": {
   "display_name": "Python 3 (ipykernel)",
   "language": "python",
   "name": "python3"
  },
  "language_info": {
   "codemirror_mode": {
    "name": "ipython",
    "version": 3
   },
   "file_extension": ".py",
   "mimetype": "text/x-python",
   "name": "python",
   "nbconvert_exporter": "python",
   "pygments_lexer": "ipython3",
   "version": "3.12.10"
  }
 },
 "nbformat": 4,
 "nbformat_minor": 5
}
